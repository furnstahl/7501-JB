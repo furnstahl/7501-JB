{
 "cells": [
  {
   "cell_type": "markdown",
   "id": "17adae27",
   "metadata": {},
   "source": [
    "# Linear algebra for quantum mechanics\n",
    "\n",
    "Last revised: 06-Sep-2022 by Dick Furnstahl [furnstahl.1@osu.edu]\n",
    "\n",
    "Here we do a selective (i.e., non-comprehensive) introduction to using Python for the type of linear algebra manipulation used in quantum mechanics (QM). We can do both numerical manipulations (with numpy) or symbolic manipulations (with sympy)."
   ]
  },
  {
   "cell_type": "markdown",
   "id": "16e750bc",
   "metadata": {},
   "source": [
    "## If you are new to Jupyter notebooks\n",
    "\n",
    "**You can find valuable documentation under the Jupyter notebook Help menu. The \"User Interface Tour\" and \"Keyboard Shortcuts\" are useful places to start, but there are also many other links to documentation there.** \n",
    "\n",
    "*Select \"User Interface Tour\" and use the arrow keys to step through the tour.*"
   ]
  },
  {
   "cell_type": "markdown",
   "id": "00af4fd4",
   "metadata": {},
   "source": [
    "A Jupyter notebook is displayed on a web browser running on a computer, tablet (e.g., IPad), or even your smartphone.  The notebook is divided into *cells*, of which two types are relevant for us:\n",
    "* **Markdown cells:** These have headings, text, and mathematical formulas in $\\LaTeX$ using a simple form of HTML called *markdown*.\n",
    "* **Code cells:** These have Python code (or other languages, but we'll stick to Python).\n",
    "\n",
    "Either type of cell can be selected with your cursor and will be highlighted in color on the left when active.  You evaluate an active cell with shift-return (as with Mathematica) or by pressing `Run` on the notebook toolbar.  Some notes:\n",
    "* When a new cell is inserted, by default it is a Code cell and will have `In []:` to the left.  You can type Python expressions or entire programs in a cell.  How you break up code between cells is your choice and you can always put Markdown cells in between.  When you evaluate a cell it advances to the next number, e.g., `In [5]:`.\n",
    "* On the notebook menu bar is a pulldown menu that lets you change back and forth between Code and Markdown cells.  Once you evaluate a Markdown cell, it gets formatted (and has a blue border).  To edit the Markdown cell, double click in it. \n",
    "\n",
    "**Try double-clicking on this cell (the one you are reading) and then shift-return.**  You will see that a bullet list is created just with an asterisk and a space at the beginning of lines (without the space you get *italics* and with two asterisks you get **bold**).  **Double click on the title header above and you'll see it starts with a single #.**  Headings of subsections are made using ## or ###.  See this [Markdown cheatsheet](https://github.com/adam-p/markdown-here/wiki/Markdown-Cheatsheet) for a quick tour of the Markdown language (including how to add links!).\n",
    "\n",
    "**Now try turning the next (empty) cell to a Markdown cell and type:** `Einstein says $E=mc^2$` **and then evaluate it.**  This is $\\LaTeX$! (If you forget to convert to Markdown and get `SyntaxError: invalid syntax`, just select the cell and convert to Markdown with the menu.)"
   ]
  },
  {
   "cell_type": "code",
   "execution_count": null,
   "id": "79fe6870",
   "metadata": {},
   "outputs": [],
   "source": []
  },
  {
   "cell_type": "markdown",
   "id": "90593f10",
   "metadata": {},
   "source": [
    "## A whirlwind tour of Python for linear algebra"
   ]
  },
  {
   "cell_type": "markdown",
   "id": "3599ed5a",
   "metadata": {},
   "source": [
    "Start by importing the library modules we'll need, defining standard abbreviations (`np` for numpy and `LA` for scipy.linalg). Google `numpy` or `scipy` with specific topics mentioned (e.g., \"arrays\") to learn much more.  "
   ]
  },
  {
   "cell_type": "code",
   "execution_count": 1,
   "id": "4b54aefd",
   "metadata": {},
   "outputs": [],
   "source": [
    "import numpy as np\n",
    "import scipy.linalg as LA"
   ]
  },
  {
   "cell_type": "markdown",
   "id": "0cb3a3b3",
   "metadata": {},
   "source": [
    "### Inputting vectors and matrices\n",
    "\n",
    "Both vectors and matrices will be entered as particular Python list objects known as numpy arrays. Vectors appear in square brackets and matrices in nested square brackets; we create them as arguments to `np.array`."
   ]
  },
  {
   "cell_type": "code",
   "execution_count": 2,
   "id": "c65f745e",
   "metadata": {},
   "outputs": [],
   "source": [
    "x = np.array([0, 1, 2, 3])"
   ]
  },
  {
   "cell_type": "code",
   "execution_count": 3,
   "id": "ff69ff9b",
   "metadata": {},
   "outputs": [
    {
     "name": "stdout",
     "output_type": "stream",
     "text": [
      "[0 1 2 3]\n"
     ]
    }
   ],
   "source": [
    "print(x)"
   ]
  },
  {
   "cell_type": "markdown",
   "id": "d59c495e",
   "metadata": {},
   "source": [
    "We can pick out elements of the vector (note the square brackets). If there are `n` elements of the vector, they are indexed from `0` to `n-1`. **Why does the last reference fail here with an error?** "
   ]
  },
  {
   "cell_type": "code",
   "execution_count": 4,
   "id": "1efb1b17",
   "metadata": {},
   "outputs": [
    {
     "name": "stdout",
     "output_type": "stream",
     "text": [
      "0\n",
      "3\n"
     ]
    },
    {
     "ename": "IndexError",
     "evalue": "index 4 is out of bounds for axis 0 with size 4",
     "output_type": "error",
     "traceback": [
      "\u001b[0;31m---------------------------------------------------------------------------\u001b[0m",
      "\u001b[0;31mIndexError\u001b[0m                                Traceback (most recent call last)",
      "Input \u001b[0;32mIn [4]\u001b[0m, in \u001b[0;36m<cell line: 3>\u001b[0;34m()\u001b[0m\n\u001b[1;32m      1\u001b[0m \u001b[38;5;28mprint\u001b[39m(x[\u001b[38;5;241m0\u001b[39m])\n\u001b[1;32m      2\u001b[0m \u001b[38;5;28mprint\u001b[39m(x[\u001b[38;5;241m3\u001b[39m])\n\u001b[0;32m----> 3\u001b[0m \u001b[38;5;28mprint\u001b[39m(\u001b[43mx\u001b[49m\u001b[43m[\u001b[49m\u001b[38;5;241;43m4\u001b[39;49m\u001b[43m]\u001b[49m)\n",
      "\u001b[0;31mIndexError\u001b[0m: index 4 is out of bounds for axis 0 with size 4"
     ]
    }
   ],
   "source": [
    "print(x[0])\n",
    "print(x[3])\n",
    "print(x[4])"
   ]
  },
  {
   "cell_type": "markdown",
   "id": "5c0e3e33",
   "metadata": {},
   "source": [
    "Functions are defined to generate matrices such as identity matrices of any dimension (`np.eye`)."
   ]
  },
  {
   "cell_type": "code",
   "execution_count": null,
   "id": "28635126",
   "metadata": {},
   "outputs": [],
   "source": [
    "ident2 = np.eye(2)   # we can name these whatever we want\n",
    "my_identity3 = np.eye(3)"
   ]
  },
  {
   "cell_type": "code",
   "execution_count": null,
   "id": "1953165d",
   "metadata": {},
   "outputs": [],
   "source": [
    "print(ident2)\n",
    "print('\\n')  # skip a line; \\n means \"newline\"\n",
    "print(my_identity3)"
   ]
  },
  {
   "cell_type": "markdown",
   "id": "2ed17b31",
   "metadata": {},
   "source": [
    "If we use the `shape` attribute we would get $(3, 3)$ as output, that is verifying that our matrix is a $3\\times 3$ matrix. "
   ]
  },
  {
   "cell_type": "code",
   "execution_count": null,
   "id": "6abc86f1",
   "metadata": {},
   "outputs": [],
   "source": [
    "my_identity3.shape"
   ]
  },
  {
   "cell_type": "markdown",
   "id": "0112b2d7",
   "metadata": {},
   "source": [
    "### Pauli matrix examples"
   ]
  },
  {
   "cell_type": "markdown",
   "id": "33093df4",
   "metadata": {},
   "source": [
    "Here we see how to use np.array to input a matrix. Note the use of `1j` for $\\sqrt{-1}$."
   ]
  },
  {
   "cell_type": "code",
   "execution_count": null,
   "id": "e61e4bf0",
   "metadata": {},
   "outputs": [],
   "source": [
    "eye2 = np.eye(2)   # 2x2 identify\n",
    "sig1 = np.array([[0, 1], [1, 0]]) # \\sigma_1\n",
    "sig2 = np.array([[0, 1j], [1j, 0]]) # use j for sqrt(-1)\n",
    "sig3 = np.array([[1, 0], [0, -1]])"
   ]
  },
  {
   "cell_type": "code",
   "execution_count": null,
   "id": "00748914",
   "metadata": {},
   "outputs": [],
   "source": [
    "print(eye2, '\\n\\n', sig1, '\\n\\n', sig2, '\\n\\n', sig3)"
   ]
  },
  {
   "cell_type": "code",
   "execution_count": null,
   "id": "05e0d3fe",
   "metadata": {},
   "outputs": [],
   "source": []
  },
  {
   "cell_type": "markdown",
   "id": "53ea7731",
   "metadata": {},
   "source": [
    "### $3 \\times 3$ matrix examples"
   ]
  },
  {
   "cell_type": "markdown",
   "id": "c7ac2be5",
   "metadata": {},
   "source": [
    "Here are the $S_x$ and $S_y$ matrices for spin-1."
   ]
  },
  {
   "cell_type": "code",
   "execution_count": null,
   "id": "e2aa653d",
   "metadata": {},
   "outputs": [],
   "source": [
    "Sx = 1/np.sqrt(2) * np.array([[0, 1, 0], [1, 0, 1], [0, 1, 0]])\n",
    "Sy = 1/np.sqrt(2) * np.array([[0, -1j, 0], [1j, 0, -1j], [0, 1j, 0]])  # note we use \"1j\" instead of just \"j\""
   ]
  },
  {
   "cell_type": "code",
   "execution_count": null,
   "id": "861ab5e4",
   "metadata": {},
   "outputs": [],
   "source": [
    "print(Sx, '\\n\\n', Sy)"
   ]
  },
  {
   "cell_type": "markdown",
   "id": "9c6d3442",
   "metadata": {},
   "source": [
    "Let's do the first matrix multipications. In all cases we use `@` to multiply matrices and/or vectors."
   ]
  },
  {
   "cell_type": "code",
   "execution_count": null,
   "id": "87b89937",
   "metadata": {},
   "outputs": [],
   "source": [
    "Sx @ Sy - Sy @ Sx"
   ]
  },
  {
   "cell_type": "markdown",
   "id": "1983a149",
   "metadata": {},
   "source": [
    "Now let's get the eigenvalues (`eigvals` here) and eigenvectors (`eigvecs` here). The function `eigh` is for (complex) Hermitian matrices. The eigenvectors should be read as columns: the first element in the eigenvalue list corresponds to the first column in the eigenvector matrix."
   ]
  },
  {
   "cell_type": "code",
   "execution_count": null,
   "id": "51f269a3",
   "metadata": {},
   "outputs": [],
   "source": [
    "eigvals, eigvecs = np.linalg.eigh(Sx)\n",
    "print(eigvals)\n",
    "print('\\n')\n",
    "print(eigvecs)"
   ]
  },
  {
   "cell_type": "code",
   "execution_count": null,
   "id": "6f72fe8a",
   "metadata": {},
   "outputs": [],
   "source": [
    "# eigvals, eigvecs = np.linalg.eigh(np.sqrt(2)*Sx)\n",
    "# print(eigvals)\n",
    "# print('\\n')\n",
    "# print(eigvecs)"
   ]
  },
  {
   "cell_type": "markdown",
   "id": "6017892d",
   "metadata": {},
   "source": [
    "We can manipulate the formatting of the output for greater readability."
   ]
  },
  {
   "cell_type": "code",
   "execution_count": null,
   "id": "344e4740",
   "metadata": {
    "scrolled": true
   },
   "outputs": [],
   "source": [
    "np.set_printoptions(precision=3, suppress=True)\n",
    "\n",
    "eigvals, eigvecs = np.linalg.eigh(Sy)\n",
    "print(eigvals)\n",
    "print('\\n')\n",
    "print(eigvecs)\n"
   ]
  },
  {
   "cell_type": "code",
   "execution_count": null,
   "id": "9f8bf76b",
   "metadata": {
    "scrolled": true
   },
   "outputs": [],
   "source": [
    "# np.set_printoptions(precision=3, suppress=True)\n",
    "\n",
    "# eigvals, eigvecs = np.linalg.eigh(np.sqrt(2)*Sy)\n",
    "# print(eigvals)\n",
    "# print('\\n')\n",
    "# print(eigvecs)\n"
   ]
  },
  {
   "cell_type": "markdown",
   "id": "72a9b355",
   "metadata": {},
   "source": [
    "The formatting is tricky because it is `0.5 + 0j`, which is easy to misread."
   ]
  },
  {
   "cell_type": "markdown",
   "id": "056d789c",
   "metadata": {},
   "source": [
    "There are eigensolvers in both `numpy.linalg` and `scipy.linalg`. For now, just pick one."
   ]
  },
  {
   "cell_type": "code",
   "execution_count": null,
   "id": "8dbb21ac",
   "metadata": {
    "scrolled": true
   },
   "outputs": [],
   "source": [
    "eigvals, eigvecs = LA.eigh(Sy)\n",
    "print(eigvals)\n",
    "print('\\n')\n",
    "print(eigvecs)"
   ]
  },
  {
   "cell_type": "markdown",
   "id": "e956e05b",
   "metadata": {},
   "source": [
    "Check whether $S_x$ (i.e., `Sx`) is Hermitian. We do the complex conjugate (`conjugate()`) and transpose (`T`) by hand here. We can also define our own function to do this."
   ]
  },
  {
   "cell_type": "code",
   "execution_count": null,
   "id": "6b908c4a",
   "metadata": {
    "scrolled": false
   },
   "outputs": [],
   "source": [
    "Sx - Sx.conjugate().T"
   ]
  },
  {
   "cell_type": "code",
   "execution_count": null,
   "id": "7c830e42",
   "metadata": {},
   "outputs": [],
   "source": [
    "def Adjoint(Matrix):\n",
    "    \"\"\"\n",
    "    Return the complex-conjugate tranpose of the input Matrix. \n",
    "    \"\"\"\n",
    "    return Matrix.conjugate().T"
   ]
  },
  {
   "cell_type": "code",
   "execution_count": null,
   "id": "067e9542",
   "metadata": {
    "scrolled": true
   },
   "outputs": [],
   "source": [
    "Sy - Adjoint(Sy)"
   ]
  },
  {
   "cell_type": "code",
   "execution_count": null,
   "id": "3c78c29a",
   "metadata": {},
   "outputs": [],
   "source": [
    "Sz = np.array([[1, 0, 0],[0, 0, 0], [0, 0, -1]])"
   ]
  },
  {
   "cell_type": "code",
   "execution_count": null,
   "id": "71ca2448",
   "metadata": {},
   "outputs": [],
   "source": [
    "1/2 * (Sx@Sx + Sy@Sy + Sz@Sz)"
   ]
  },
  {
   "cell_type": "markdown",
   "id": "a1d82073",
   "metadata": {},
   "source": [
    "### Inner and outer product"
   ]
  },
  {
   "cell_type": "code",
   "execution_count": 10,
   "id": "e03afefa",
   "metadata": {},
   "outputs": [
    {
     "name": "stdout",
     "output_type": "stream",
     "text": [
      "1\n",
      "1\n"
     ]
    }
   ],
   "source": [
    "a = np.array([1,2,3])\n",
    "b = np.array([-1,1,0])\n",
    "print( a @ b )\n",
    "print( np.inner(a, b))"
   ]
  },
  {
   "cell_type": "code",
   "execution_count": 11,
   "id": "0c4ecfc7",
   "metadata": {},
   "outputs": [
    {
     "name": "stdout",
     "output_type": "stream",
     "text": [
      "[[-1 -2 -3]\n",
      " [ 1  2  3]\n",
      " [ 0  0  0]]\n"
     ]
    }
   ],
   "source": [
    "print( np.outer(b, a))"
   ]
  },
  {
   "cell_type": "markdown",
   "id": "d582c4f0",
   "metadata": {},
   "source": [
    "### Trace and determinant"
   ]
  },
  {
   "cell_type": "markdown",
   "id": "f88e88c5",
   "metadata": {},
   "source": [
    "Make a random matrix and take it's trace and determinant."
   ]
  },
  {
   "cell_type": "code",
   "execution_count": 17,
   "id": "0acc011d",
   "metadata": {},
   "outputs": [
    {
     "name": "stdout",
     "output_type": "stream",
     "text": [
      "[[0.7396331  0.83542865]\n",
      " [0.01537469 0.82529447]]\n"
     ]
    }
   ],
   "source": [
    "M1 = np.random.rand(2,2)\n",
    "print(M1)"
   ]
  },
  {
   "cell_type": "code",
   "execution_count": 18,
   "id": "bc56ae56",
   "metadata": {},
   "outputs": [
    {
     "data": {
      "text/plain": [
       "1.5649275759907215"
      ]
     },
     "execution_count": 18,
     "metadata": {},
     "output_type": "execute_result"
    }
   ],
   "source": [
    "np.trace(M1)"
   ]
  },
  {
   "cell_type": "code",
   "execution_count": 19,
   "id": "61b17768",
   "metadata": {},
   "outputs": [
    {
     "data": {
      "text/plain": [
       "0.5975706521529265"
      ]
     },
     "execution_count": 19,
     "metadata": {},
     "output_type": "execute_result"
    }
   ],
   "source": [
    "np.linalg.det(M1)"
   ]
  },
  {
   "cell_type": "markdown",
   "id": "e3163207",
   "metadata": {},
   "source": [
    "## Symbolic linear algebra"
   ]
  },
  {
   "cell_type": "markdown",
   "id": "cc0ba9ad",
   "metadata": {},
   "source": [
    "In progress!"
   ]
  },
  {
   "cell_type": "code",
   "execution_count": null,
   "id": "ab66542e",
   "metadata": {},
   "outputs": [],
   "source": [
    "from sympy.physics.matrices import msigma"
   ]
  },
  {
   "cell_type": "code",
   "execution_count": null,
   "id": "37b68402",
   "metadata": {},
   "outputs": [],
   "source": [
    "msigma(1)"
   ]
  },
  {
   "cell_type": "code",
   "execution_count": null,
   "id": "dfb87f01",
   "metadata": {},
   "outputs": [],
   "source": []
  }
 ],
 "metadata": {
  "kernelspec": {
   "display_name": "Python [conda env:7501-env] *",
   "language": "python",
   "name": "conda-env-7501-env-py"
  },
  "language_info": {
   "codemirror_mode": {
    "name": "ipython",
    "version": 3
   },
   "file_extension": ".py",
   "mimetype": "text/x-python",
   "name": "python",
   "nbconvert_exporter": "python",
   "pygments_lexer": "ipython3",
   "version": "3.10.6"
  }
 },
 "nbformat": 4,
 "nbformat_minor": 5
}
