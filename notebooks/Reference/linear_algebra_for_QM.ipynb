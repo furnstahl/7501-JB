{
 "cells": [
  {
   "cell_type": "markdown",
   "id": "ac2f5965",
   "metadata": {},
   "source": [
    "# Linear algebra for quantum mechanics\n",
    "\n",
    "Last revised: 06-Sep-2022 by Dick Furnstahl [furnstahl.1@osu.edu]\n",
    "\n",
    "Here we do a selective (i.e., non-comprehensive) introduction to using Python for the type of linear algebra manipulation used in quantum mechanics (QM). We can do both numerical manipulations (with numpy) or symbolic manipulations (with sympy)."
   ]
  },
  {
   "cell_type": "markdown",
   "id": "fbc749d5",
   "metadata": {},
   "source": [
    "## If you are new to Jupyter notebooks\n",
    "\n",
    "**You can find valuable documentation under the Jupyter notebook Help menu. The \"User Interface Tour\" and \"Keyboard Shortcuts\" are useful places to start, but there are also many other links to documentation there.** \n",
    "\n",
    "*Select \"User Interface Tour\" and use the arrow keys to step through the tour.*"
   ]
  },
  {
   "cell_type": "markdown",
   "id": "f09a2c01",
   "metadata": {},
   "source": [
    "A Jupyter notebook is displayed on a web browser running on a computer, tablet (e.g., IPad), or even your smartphone.  The notebook is divided into *cells*, of which two types are relevant for us:\n",
    "* **Markdown cells:** These have headings, text, and mathematical formulas in $\\LaTeX$ using a simple form of HTML called *markdown*.\n",
    "* **Code cells:** These have Python code (or other languages, but we'll stick to Python).\n",
    "\n",
    "Either type of cell can be selected with your cursor and will be highlighted in color on the left when active.  You evaluate an active cell with shift-return (as with Mathematica) or by pressing `Run` on the notebook toolbar.  Some notes:\n",
    "* When a new cell is inserted, by default it is a Code cell and will have `In []:` to the left.  You can type Python expressions or entire programs in a cell.  How you break up code between cells is your choice and you can always put Markdown cells in between.  When you evaluate a cell it advances to the next number, e.g., `In [5]:`.\n",
    "* On the notebook menu bar is a pulldown menu that lets you change back and forth between Code and Markdown cells.  Once you evaluate a Markdown cell, it gets formatted (and has a blue border).  To edit the Markdown cell, double click in it. \n",
    "\n",
    "**Try double-clicking on this cell and then shift-return.**  You will see that a bullet list is created just with an asterisk and a space at the beginning of lines (without the space you get *italics* and with two asterisks you get **bold**).  **Double click on the title header above and you'll see it starts with a single #.**  Headings of subsections are made using ## or ###.  See this [Markdown cheatsheet](https://github.com/adam-p/markdown-here/wiki/Markdown-Cheatsheet) for a quick tour of the Markdown language (including how to add links!).\n",
    "\n",
    "**Now try turning the next (empty) cell to a Markdown cell and type:** `Einstein says $E=mc^2$` **and then evaluate it.**  This is $\\LaTeX$! (If you forget to convert to Markdown and get `SyntaxError: invalid syntax`, just select the cell and convert to Markdown with the menu.)"
   ]
  },
  {
   "cell_type": "markdown",
   "id": "354b268d",
   "metadata": {},
   "source": [
    "## A whirlwind tour of Python for linear algebra"
   ]
  },
  {
   "cell_type": "code",
   "execution_count": 52,
   "id": "d2f39dc9",
   "metadata": {},
   "outputs": [],
   "source": [
    "import numpy as np\n",
    "import scipy.linalg as LA"
   ]
  },
  {
   "cell_type": "markdown",
   "id": "4e397545",
   "metadata": {},
   "source": [
    "### Inputting vectors and matrices\n",
    "\n",
    "Both vectors and matrices will be entered as particular Python list objects known as numpy arrays. Vectors appear in square brackets and matrices in nested square brackets; we create them as arguments to `np.array`."
   ]
  },
  {
   "cell_type": "code",
   "execution_count": 9,
   "id": "010eeb68",
   "metadata": {},
   "outputs": [],
   "source": [
    "x = np.array([0, 1, 2, 3])"
   ]
  },
  {
   "cell_type": "code",
   "execution_count": 10,
   "id": "008ced74",
   "metadata": {},
   "outputs": [
    {
     "name": "stdout",
     "output_type": "stream",
     "text": [
      "[0 1 2 3]\n"
     ]
    }
   ],
   "source": [
    "print(x)"
   ]
  },
  {
   "cell_type": "markdown",
   "id": "3c80b7b0",
   "metadata": {},
   "source": [
    "We can pick out elements of the vector (note the square brackets). If there are `n` elements of the vector, they are indexed from `0` to `n-1`. **Why does the last reference fail here?** "
   ]
  },
  {
   "cell_type": "code",
   "execution_count": 11,
   "id": "6b4faf38",
   "metadata": {},
   "outputs": [
    {
     "name": "stdout",
     "output_type": "stream",
     "text": [
      "0\n",
      "3\n"
     ]
    },
    {
     "ename": "IndexError",
     "evalue": "index 4 is out of bounds for axis 0 with size 4",
     "output_type": "error",
     "traceback": [
      "\u001b[0;31m---------------------------------------------------------------------------\u001b[0m",
      "\u001b[0;31mIndexError\u001b[0m                                Traceback (most recent call last)",
      "Input \u001b[0;32mIn [11]\u001b[0m, in \u001b[0;36m<cell line: 3>\u001b[0;34m()\u001b[0m\n\u001b[1;32m      1\u001b[0m \u001b[38;5;28mprint\u001b[39m(x[\u001b[38;5;241m0\u001b[39m])\n\u001b[1;32m      2\u001b[0m \u001b[38;5;28mprint\u001b[39m(x[\u001b[38;5;241m3\u001b[39m])\n\u001b[0;32m----> 3\u001b[0m \u001b[38;5;28mprint\u001b[39m(\u001b[43mx\u001b[49m\u001b[43m[\u001b[49m\u001b[38;5;241;43m4\u001b[39;49m\u001b[43m]\u001b[49m)\n",
      "\u001b[0;31mIndexError\u001b[0m: index 4 is out of bounds for axis 0 with size 4"
     ]
    }
   ],
   "source": [
    "print(x[0])\n",
    "print(x[3])\n",
    "print(x[4])"
   ]
  },
  {
   "cell_type": "code",
   "execution_count": 15,
   "id": "4a03a36e",
   "metadata": {},
   "outputs": [],
   "source": [
    "ident2 = np.eye(2)   # we can name these whatever we want\n",
    "my_identity3 = np.eye(3)"
   ]
  },
  {
   "cell_type": "code",
   "execution_count": 20,
   "id": "b3bce75c",
   "metadata": {},
   "outputs": [
    {
     "name": "stdout",
     "output_type": "stream",
     "text": [
      "[[1. 0.]\n",
      " [0. 1.]]\n",
      "\n",
      "\n",
      "[[1. 0. 0.]\n",
      " [0. 1. 0.]\n",
      " [0. 0. 1.]]\n"
     ]
    }
   ],
   "source": [
    "print(ident2)\n",
    "print('\\n')  # skip a line; \\n means \"newline\"\n",
    "print(my_identity3)"
   ]
  },
  {
   "cell_type": "markdown",
   "id": "7d8df787",
   "metadata": {},
   "source": [
    "If we use the `shape` attribute we would get $(3, 3)$ as output, that is verifying that our matrix is a $3\\times 3$ matrix. "
   ]
  },
  {
   "cell_type": "code",
   "execution_count": 21,
   "id": "51f0c9bd",
   "metadata": {},
   "outputs": [
    {
     "data": {
      "text/plain": [
       "(3, 3)"
      ]
     },
     "execution_count": 21,
     "metadata": {},
     "output_type": "execute_result"
    }
   ],
   "source": [
    "my_identity3.shape"
   ]
  },
  {
   "cell_type": "markdown",
   "id": "ed7b0fda",
   "metadata": {},
   "source": [
    "### Pauli matrix examples"
   ]
  },
  {
   "cell_type": "code",
   "execution_count": null,
   "id": "25cde630",
   "metadata": {},
   "outputs": [],
   "source": [
    "eye2 = np.eye(2)   # 2x2 identify\n",
    "sig1 = np.array([[0, 1], [1, 0]]) # \\sigma_1\n",
    "sig2 = np.array([[0, j], [j, 0]]) # use j for sqrt(-1)\n",
    "sig3 = np.array([[1, 0], [0, -1]])"
   ]
  },
  {
   "cell_type": "code",
   "execution_count": null,
   "id": "d246514d",
   "metadata": {},
   "outputs": [],
   "source": []
  },
  {
   "cell_type": "code",
   "execution_count": null,
   "id": "79ddb2aa",
   "metadata": {},
   "outputs": [],
   "source": []
  },
  {
   "cell_type": "markdown",
   "id": "0201af67",
   "metadata": {},
   "source": [
    "### $3 \\times 3$ matrix examples"
   ]
  },
  {
   "cell_type": "code",
   "execution_count": 31,
   "id": "a6d8b89e",
   "metadata": {},
   "outputs": [],
   "source": [
    "Sx = 1/np.sqrt(2) * np.array([[0, 1, 0], [1, 0, 1], [0, 1, 0]])\n",
    "Sy = 1/np.sqrt(2) * np.array([[0, -1j, 0], [1j, 0, -1j], [0, 1j, 0]])  # note we use \"1j\" instead of just \"j\""
   ]
  },
  {
   "cell_type": "code",
   "execution_count": 30,
   "id": "86f8b09e",
   "metadata": {},
   "outputs": [
    {
     "name": "stdout",
     "output_type": "stream",
     "text": [
      "[[0.         0.70710678 0.        ]\n",
      " [0.70710678 0.         0.70710678]\n",
      " [0.         0.70710678 0.        ]]\n",
      "\n",
      "\n",
      "[[0.+0.j         0.-0.70710678j 0.+0.j        ]\n",
      " [0.+0.70710678j 0.+0.j         0.-0.70710678j]\n",
      " [0.+0.j         0.+0.70710678j 0.+0.j        ]]\n"
     ]
    }
   ],
   "source": [
    "print(Sx)\n",
    "print('\\n')\n",
    "print(Sy)"
   ]
  },
  {
   "cell_type": "code",
   "execution_count": 33,
   "id": "d8bcb229",
   "metadata": {},
   "outputs": [
    {
     "data": {
      "text/plain": [
       "array([[0.+1.j, 0.+0.j, 0.+0.j],\n",
       "       [0.+0.j, 0.+0.j, 0.+0.j],\n",
       "       [0.+0.j, 0.+0.j, 0.-1.j]])"
      ]
     },
     "execution_count": 33,
     "metadata": {},
     "output_type": "execute_result"
    }
   ],
   "source": [
    "Sx @ Sy - Sy @ Sx"
   ]
  },
  {
   "cell_type": "code",
   "execution_count": 36,
   "id": "e8c589c4",
   "metadata": {},
   "outputs": [
    {
     "name": "stdout",
     "output_type": "stream",
     "text": [
      "[-1.00000000e+00 -2.41993925e-16  1.00000000e+00]\n",
      "\n",
      "\n",
      "[[ 5.00000000e-01 -7.07106781e-01  5.00000000e-01]\n",
      " [-7.07106781e-01  2.77555756e-16  7.07106781e-01]\n",
      " [ 5.00000000e-01  7.07106781e-01  5.00000000e-01]]\n"
     ]
    }
   ],
   "source": [
    "eigvals, eigvecs = np.linalg.eigh(Sx)\n",
    "print(eigvals)\n",
    "print('\\n')\n",
    "print(eigvecs)"
   ]
  },
  {
   "cell_type": "code",
   "execution_count": 69,
   "id": "f941c0fb",
   "metadata": {},
   "outputs": [
    {
     "name": "stdout",
     "output_type": "stream",
     "text": [
      "[-1.414  0.     1.414]\n",
      "\n",
      "\n",
      "[[-0.5    0.707  0.5  ]\n",
      " [ 0.707  0.     0.707]\n",
      " [-0.5   -0.707  0.5  ]]\n"
     ]
    }
   ],
   "source": [
    "eigvals, eigvecs = np.linalg.eigh(np.sqrt(2)*Sx)\n",
    "print(eigvals)\n",
    "print('\\n')\n",
    "print(eigvecs)"
   ]
  },
  {
   "cell_type": "code",
   "execution_count": 68,
   "id": "08cbe6e7",
   "metadata": {
    "scrolled": true
   },
   "outputs": [
    {
     "name": "stdout",
     "output_type": "stream",
     "text": [
      "[-1. -0.  1.]\n",
      "\n",
      "\n",
      "[[ 0.5  +0.j     0.707+0.j    -0.5  +0.j   ]\n",
      " [ 0.   -0.707j  0.   -0.j     0.   -0.707j]\n",
      " [-0.5  +0.j     0.707+0.j     0.5  +0.j   ]]\n"
     ]
    }
   ],
   "source": [
    "np.set_printoptions(precision=3, suppress=True)\n",
    "\n",
    "eigvals, eigvecs = np.linalg.eigh(Sy)\n",
    "print(eigvals)\n",
    "print('\\n')\n",
    "print(eigvecs)\n"
   ]
  },
  {
   "cell_type": "code",
   "execution_count": 70,
   "id": "17c9e0c4",
   "metadata": {
    "scrolled": true
   },
   "outputs": [
    {
     "name": "stdout",
     "output_type": "stream",
     "text": [
      "[-1.414  0.     1.414]\n",
      "\n",
      "\n",
      "[[-0.5  +0.j    -0.707-0.j    -0.5  +0.j   ]\n",
      " [ 0.   +0.707j  0.   -0.j     0.   -0.707j]\n",
      " [ 0.5  +0.j    -0.707+0.j     0.5  +0.j   ]]\n"
     ]
    }
   ],
   "source": [
    "np.set_printoptions(precision=3, suppress=True)\n",
    "\n",
    "eigvals, eigvecs = np.linalg.eigh(np.sqrt(2)*Sy)\n",
    "print(eigvals)\n",
    "print('\\n')\n",
    "print(eigvecs)\n"
   ]
  },
  {
   "cell_type": "markdown",
   "id": "95545328",
   "metadata": {},
   "source": [
    "The formatting is tricky because it is `0.5 + 0j`."
   ]
  },
  {
   "cell_type": "code",
   "execution_count": 63,
   "id": "e740bd7c",
   "metadata": {
    "scrolled": true
   },
   "outputs": [
    {
     "name": "stdout",
     "output_type": "stream",
     "text": [
      "[-1.00e+00  1.11e-15  1.00e+00]\n",
      "\n",
      "\n",
      "[[ 0.5  +0.000e+00j  0.707+0.000e+00j -0.5  -0.000e+00j]\n",
      " [ 0.   -7.071e-01j  0.   +6.661e-16j  0.   -7.071e-01j]\n",
      " [-0.5  -0.000e+00j  0.707+0.000e+00j  0.5  +0.000e+00j]]\n"
     ]
    }
   ],
   "source": [
    "eigvals, eigvecs = LA.eigh(Sy)\n",
    "print(eigvals)\n",
    "print('\\n')\n",
    "print(eigvecs)"
   ]
  },
  {
   "cell_type": "code",
   "execution_count": 50,
   "id": "834c3625",
   "metadata": {
    "scrolled": true
   },
   "outputs": [
    {
     "data": {
      "text/plain": [
       "array([[0., 0., 0.],\n",
       "       [0., 0., 0.],\n",
       "       [0., 0., 0.]])"
      ]
     },
     "execution_count": 50,
     "metadata": {},
     "output_type": "execute_result"
    }
   ],
   "source": [
    "Sx - Sx.conjugate().T"
   ]
  },
  {
   "cell_type": "code",
   "execution_count": 51,
   "id": "a8a6f38a",
   "metadata": {
    "scrolled": true
   },
   "outputs": [
    {
     "data": {
      "text/plain": [
       "array([[0.+0.j, 0.+0.j, 0.+0.j],\n",
       "       [0.+0.j, 0.+0.j, 0.+0.j],\n",
       "       [0.+0.j, 0.+0.j, 0.+0.j]])"
      ]
     },
     "execution_count": 51,
     "metadata": {},
     "output_type": "execute_result"
    }
   ],
   "source": [
    "Sy - Sy.conjugate().T"
   ]
  },
  {
   "cell_type": "code",
   "execution_count": 74,
   "id": "a1c36fda",
   "metadata": {},
   "outputs": [],
   "source": [
    "Sz = np.array([[1, 0, 0],[0, 0, 0], [0, 0, -1]])"
   ]
  },
  {
   "cell_type": "code",
   "execution_count": 76,
   "id": "122b70c5",
   "metadata": {},
   "outputs": [
    {
     "data": {
      "text/plain": [
       "array([[1.+0.j, 0.+0.j, 0.+0.j],\n",
       "       [0.+0.j, 1.+0.j, 0.+0.j],\n",
       "       [0.+0.j, 0.+0.j, 1.+0.j]])"
      ]
     },
     "execution_count": 76,
     "metadata": {},
     "output_type": "execute_result"
    }
   ],
   "source": [
    "1/2 * (Sx@Sx + Sy@Sy + Sz@Sz)"
   ]
  },
  {
   "cell_type": "markdown",
   "id": "63fad76c",
   "metadata": {},
   "source": [
    "## Symbolic linear algebra"
   ]
  },
  {
   "cell_type": "code",
   "execution_count": 22,
   "id": "bc662b59",
   "metadata": {},
   "outputs": [],
   "source": [
    "from sympy.physics.matrices import msigma"
   ]
  },
  {
   "cell_type": "code",
   "execution_count": 23,
   "id": "abd38672",
   "metadata": {},
   "outputs": [
    {
     "data": {
      "text/latex": [
       "$\\displaystyle \\left[\\begin{matrix}0 & 1\\\\1 & 0\\end{matrix}\\right]$"
      ],
      "text/plain": [
       "Matrix([\n",
       "[0, 1],\n",
       "[1, 0]])"
      ]
     },
     "execution_count": 23,
     "metadata": {},
     "output_type": "execute_result"
    }
   ],
   "source": [
    "msigma(1)"
   ]
  },
  {
   "cell_type": "code",
   "execution_count": null,
   "id": "b6292c0b",
   "metadata": {},
   "outputs": [],
   "source": []
  }
 ],
 "metadata": {
  "kernelspec": {
   "display_name": "Python [conda env:7501-env] *",
   "language": "python",
   "name": "conda-env-7501-env-py"
  },
  "language_info": {
   "codemirror_mode": {
    "name": "ipython",
    "version": 3
   },
   "file_extension": ".py",
   "mimetype": "text/x-python",
   "name": "python",
   "nbconvert_exporter": "python",
   "pygments_lexer": "ipython3",
   "version": "3.10.6"
  }
 },
 "nbformat": 4,
 "nbformat_minor": 5
}
