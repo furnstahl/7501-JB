{
 "cells": [
  {
   "cell_type": "markdown",
   "id": "9f743857",
   "metadata": {},
   "source": [
    "# Numerical test of $e^{-x} \\approx (1 -\\frac{x}{N})^N$ for large $N$\n",
    "\n",
    "In this notebook we test:\n",
    "1. For what $x$ does this work?\n",
    "2. How big does $N$ have to be?\n",
    "\n",
    "Plan: calculate the *error* for a range of $x$ and $N$ and make a table."
   ]
  },
  {
   "cell_type": "markdown",
   "id": "24d29596",
   "metadata": {},
   "source": [
    "Standard Python imports plus seaborn (to make plots looks nicer)."
   ]
  },
  {
   "cell_type": "code",
   "execution_count": null,
   "id": "67f41510",
   "metadata": {},
   "outputs": [],
   "source": [
    "import numpy as np\n",
    "import scipy.linalg as la\n",
    "\n",
    "import matplotlib.pyplot as plt\n",
    "import seaborn as sns; sns.set_style(\"darkgrid\"); sns.set_context(\"talk\")\n"
   ]
  },
  {
   "cell_type": "markdown",
   "id": "ea1f64d4",
   "metadata": {},
   "source": [
    "Set up the $x$ and $N$ arrays."
   ]
  },
  {
   "cell_type": "code",
   "execution_count": null,
   "id": "b44cbc8f",
   "metadata": {},
   "outputs": [],
   "source": [
    "delta_x = 0.1  # spacing of x points\n",
    "x_values = np.arange(0, 2+delta_x, delta_x)  # Mesh points rom 0 to 2 inclusive.\n",
    "N_values = [10, 100]  # You can add more to this list"
   ]
  },
  {
   "cell_type": "code",
   "execution_count": null,
   "id": "24944ccc",
   "metadata": {},
   "outputs": [],
   "source": [
    "print(x_values)  # just to check they are what we want"
   ]
  },
  {
   "cell_type": "code",
   "execution_count": null,
   "id": "8065700f",
   "metadata": {},
   "outputs": [],
   "source": [
    "print(N_values)"
   ]
  },
  {
   "cell_type": "markdown",
   "id": "fa0aec3f",
   "metadata": {},
   "source": [
    "Write functions to evaluate the approximation and for relative errors"
   ]
  },
  {
   "cell_type": "code",
   "execution_count": null,
   "id": "d05420c6",
   "metadata": {},
   "outputs": [],
   "source": [
    "def rel_error(x1, x2):\n",
    "    \"\"\"\n",
    "    Calculate the (absolute value of the) relative error between x1 and x2. \n",
    "    Notice that we use the average for the denominator.\n",
    "    \"\"\"\n",
    "    return np.abs( (x1 - x2) / ((x1 + x2)/2) )\n",
    "\n",
    "def exp_approx(z, N):\n",
    "    \"\"\"\n",
    "    Calculate (1 + z/N)^N\n",
    "    \"\"\"\n",
    "    return (1 + z/N)**N"
   ]
  },
  {
   "cell_type": "markdown",
   "id": "2b0bcdcb",
   "metadata": {},
   "source": [
    "Step through $x$ array and for each $x$ step through $N$, making a table of results"
   ]
  },
  {
   "cell_type": "code",
   "execution_count": null,
   "id": "603c289c",
   "metadata": {},
   "outputs": [],
   "source": [
    "print(' x   exp(-x)  N: ', end=\" \")   # The end=\" \" option suppresses a return.\n",
    "for N in N_values:\n",
    "   print(f'  {N}     ', end=\" \")\n",
    "print('\\n')\n",
    "\n",
    "for x in x_values:\n",
    "    f_of_x = np.exp(-x)\n",
    "    print(f\"{x:.1f}   {f_of_x:.3f}   \", end=\" \")\n",
    "    for N in N_values:\n",
    "        approx = exp_approx(-x, N)\n",
    "        print(f\"  {rel_error(f_of_x, approx):.2e}\", end=\" \")\n",
    "    print(\" \")"
   ]
  },
  {
   "cell_type": "markdown",
   "id": "41f400c1",
   "metadata": {},
   "source": [
    "## Things to do\n",
    "\n",
    "1. How does the relative error scales with $N$? (To be sure, add additional $N$ values to `N_values`.) Explain the observed scaling.\n",
    "2. Investigate how well the approximation works for $x > 2$ by increasing the range of $x$. Describe the behavior."
   ]
  },
  {
   "cell_type": "code",
   "execution_count": null,
   "id": "937fb1c2",
   "metadata": {},
   "outputs": [],
   "source": []
  }
 ],
 "metadata": {
  "kernelspec": {
   "display_name": "Python 3 (ipykernel)",
   "language": "python",
   "name": "python3"
  },
  "language_info": {
   "codemirror_mode": {
    "name": "ipython",
    "version": 3
   },
   "file_extension": ".py",
   "mimetype": "text/x-python",
   "name": "python",
   "nbconvert_exporter": "python",
   "pygments_lexer": "ipython3",
   "version": "3.10.6"
  }
 },
 "nbformat": 4,
 "nbformat_minor": 5
}
