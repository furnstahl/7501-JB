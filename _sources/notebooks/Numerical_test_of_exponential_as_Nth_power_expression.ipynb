{
 "cells": [
  {
   "cell_type": "markdown",
   "id": "7ce04df3",
   "metadata": {},
   "source": [
    "# Numerical test of $e^{-x} \\approx (1 -\\frac{x}{N})^N$ for large $N$\n",
    "\n",
    "In this notebook we test:\n",
    "1. For what $x$ does this work?\n",
    "2. How big does $N$ have to be?\n",
    "\n",
    "Plan: calculate the *error* for a range of $x$ and $N$."
   ]
  },
  {
   "cell_type": "markdown",
   "id": "3851dee1",
   "metadata": {},
   "source": [
    "Standard Python imports plus seaborn (to make plots looks nicer)."
   ]
  },
  {
   "cell_type": "code",
   "execution_count": 1,
   "id": "0227daf0",
   "metadata": {},
   "outputs": [],
   "source": [
    "import numpy as np\n",
    "import scipy.linalg as la\n",
    "\n",
    "import matplotlib.pyplot as plt\n",
    "import seaborn as sns; sns.set_style(\"darkgrid\"); sns.set_context(\"talk\")\n"
   ]
  },
  {
   "cell_type": "markdown",
   "id": "b3d1edaa",
   "metadata": {},
   "source": [
    "Set up the $x$ and $N$ arrays."
   ]
  },
  {
   "cell_type": "code",
   "execution_count": 2,
   "id": "e5154165",
   "metadata": {},
   "outputs": [],
   "source": [
    "delta_x = 0.1\n",
    "x_values = np.arange(0, 2+delta_x, delta_x)  # Mesh points rom 0 to 2 inclusive.\n",
    "N_values = [10, 100]  # You can add more to this list"
   ]
  },
  {
   "cell_type": "code",
   "execution_count": 3,
   "id": "00bb2f83",
   "metadata": {},
   "outputs": [
    {
     "name": "stdout",
     "output_type": "stream",
     "text": [
      "[0.  0.1 0.2 0.3 0.4 0.5 0.6 0.7 0.8 0.9 1.  1.1 1.2 1.3 1.4 1.5 1.6 1.7\n",
      " 1.8 1.9 2. ]\n"
     ]
    }
   ],
   "source": [
    "print(x_values)  # just to check they are what we want"
   ]
  },
  {
   "cell_type": "code",
   "execution_count": 4,
   "id": "f8d27574",
   "metadata": {},
   "outputs": [
    {
     "name": "stdout",
     "output_type": "stream",
     "text": [
      "[10, 100]\n"
     ]
    }
   ],
   "source": [
    "print(N_values)"
   ]
  },
  {
   "cell_type": "markdown",
   "id": "e8558047",
   "metadata": {},
   "source": [
    "Write functions to evaluate the approximation and for relative errors"
   ]
  },
  {
   "cell_type": "code",
   "execution_count": 5,
   "id": "c6179d99",
   "metadata": {},
   "outputs": [],
   "source": [
    "def rel_error(x1, x2):\n",
    "    \"\"\"\n",
    "    Calculate the (absolute value of the) relative error between x1 and x2\n",
    "    \"\"\"\n",
    "    return np.abs( (x1 - x2) / ((x1 + x2)/2) )\n",
    "\n",
    "def exp_approx(z, N):\n",
    "    \"\"\"\n",
    "    Calculate (1 + z/N)^N\n",
    "    \"\"\"\n",
    "    return (1 + z/N)**N"
   ]
  },
  {
   "cell_type": "markdown",
   "id": "64cff688",
   "metadata": {},
   "source": [
    "Step through $x$ array and for each $x$ step through $N$, making a table of results"
   ]
  },
  {
   "cell_type": "code",
   "execution_count": 6,
   "id": "135117c9",
   "metadata": {},
   "outputs": [
    {
     "name": "stdout",
     "output_type": "stream",
     "text": [
      " x   exp(-x)  N:    10        100      \n",
      "\n",
      "0.0   1.000      0.00e+00   0.00e+00  \n",
      "0.1   0.905      5.03e-04   5.00e-05  \n",
      "0.2   0.819      2.03e-03   2.00e-04  \n",
      "0.3   0.741      4.59e-03   4.51e-04  \n",
      "0.4   0.670      8.22e-03   8.02e-04  \n",
      "0.5   0.607      1.29e-02   1.25e-03  \n",
      "0.6   0.549      1.88e-02   1.81e-03  \n",
      "0.7   0.497      2.57e-02   2.46e-03  \n",
      "0.8   0.449      3.38e-02   3.22e-03  \n",
      "0.9   0.407      4.31e-02   4.07e-03  \n",
      "1.0   0.368      5.36e-02   5.03e-03  \n",
      "1.1   0.333      6.53e-02   6.09e-03  \n",
      "1.2   0.301      7.83e-02   7.26e-03  \n",
      "1.3   0.273      9.26e-02   8.52e-03  \n",
      "1.4   0.247      1.08e-01   9.89e-03  \n",
      "1.5   0.223      1.25e-01   1.14e-02  \n",
      "1.6   0.202      1.43e-01   1.29e-02  \n",
      "1.7   0.183      1.63e-01   1.46e-02  \n",
      "1.8   0.165      1.84e-01   1.64e-02  \n",
      "1.9   0.150      2.06e-01   1.83e-02  \n",
      "2.0   0.135      2.30e-01   2.03e-02  \n"
     ]
    }
   ],
   "source": [
    "print(' x   exp(-x)  N: ', end=\" \")   # The end=\" \" option suppresses a return.\n",
    "for N in N_values:\n",
    "   print(f'  {N}     ', end=\" \")\n",
    "print('\\n')\n",
    "\n",
    "for x in x_values:\n",
    "    f_of_x = np.exp(-x)\n",
    "    print(f\"{x:.1f}   {f_of_x:.3f}   \", end=\" \")\n",
    "    for N in N_values:\n",
    "        approx = exp_approx(-x, N)\n",
    "        print(f\"  {rel_error(f_of_x, approx):.2e}\", end=\" \")\n",
    "    print(\" \")"
   ]
  },
  {
   "cell_type": "markdown",
   "id": "6ed77e10",
   "metadata": {},
   "source": [
    "## Things to do\n",
    "\n",
    "1. How does the relative error scales with $N$? (Note that you can add additional $N$ values to `N_values`.) Can you explain the observed scaling?\n",
    "2. Investigate how well the approximation works for $x > 2$."
   ]
  },
  {
   "cell_type": "code",
   "execution_count": null,
   "id": "6e894796",
   "metadata": {},
   "outputs": [],
   "source": []
  }
 ],
 "metadata": {
  "kernelspec": {
   "display_name": "Python 3 (ipykernel)",
   "language": "python",
   "name": "python3"
  },
  "language_info": {
   "codemirror_mode": {
    "name": "ipython",
    "version": 3
   },
   "file_extension": ".py",
   "mimetype": "text/x-python",
   "name": "python",
   "nbconvert_exporter": "python",
   "pygments_lexer": "ipython3",
   "version": "3.10.6"
  }
 },
 "nbformat": 4,
 "nbformat_minor": 5
}
