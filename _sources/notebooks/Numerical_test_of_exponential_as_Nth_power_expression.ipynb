{
 "cells": [
  {
   "cell_type": "markdown",
   "id": "1824c0e4",
   "metadata": {},
   "source": [
    "# Numerical test of $e^{-x} \\approx (1 -\\frac{x}{N})^N$ for large $N$\n",
    "\n",
    "In this notebook we test whether\n",
    "1. For what $x$ does this work?\n",
    "2. How big does $N$ have to be?\n",
    "\n",
    "Plan: calculate the *error* for a range of $x$ and $N$."
   ]
  },
  {
   "cell_type": "markdown",
   "id": "fc03d3e5",
   "metadata": {},
   "source": [
    "Standard imports plus seaborn (to make plots looks nicer)."
   ]
  },
  {
   "cell_type": "code",
   "execution_count": null,
   "id": "7cb26ce3",
   "metadata": {},
   "outputs": [],
   "source": [
    "import numpy as np\n",
    "import scipy.linalg as la\n",
    "\n",
    "import matplotlib.pyplot as plt\n",
    "import seaborn as sns; sns.set_style(\"darkgrid\"); sns.set_context(\"talk\")\n"
   ]
  },
  {
   "cell_type": "markdown",
   "id": "5968ce9b",
   "metadata": {},
   "source": [
    "Set up the $x$ and $N$ arrays."
   ]
  },
  {
   "cell_type": "code",
   "execution_count": null,
   "id": "3056f1c1",
   "metadata": {},
   "outputs": [],
   "source": [
    "x_values = np.arange(0, 2, .1)\n",
    "N_values = [10, 100]"
   ]
  },
  {
   "cell_type": "code",
   "execution_count": null,
   "id": "f82515b5",
   "metadata": {},
   "outputs": [],
   "source": [
    "print(x_values)"
   ]
  },
  {
   "cell_type": "code",
   "execution_count": null,
   "id": "c8efdb0f",
   "metadata": {},
   "outputs": [],
   "source": [
    "print(N_values)"
   ]
  },
  {
   "cell_type": "markdown",
   "id": "2cf924d2",
   "metadata": {},
   "source": [
    "Write functions to evaluate the approximation and for relative errors"
   ]
  },
  {
   "cell_type": "code",
   "execution_count": null,
   "id": "faed76ec",
   "metadata": {},
   "outputs": [],
   "source": [
    "def rel_error(x1, x2):\n",
    "    \"\"\"\n",
    "    Calculate the (absolute value of the) relative error between x1 and x2\n",
    "    \"\"\"\n",
    "    return np.abs( (x1 - x2) / ((x1 + x2)/2) )\n",
    "\n",
    "def exp_approx(z, N):\n",
    "    \"\"\"\n",
    "    Calculate (1 + z/N)^N\n",
    "    \"\"\"\n",
    "    return (1 + z/N)**N"
   ]
  },
  {
   "cell_type": "markdown",
   "id": "7e4a4e50",
   "metadata": {},
   "source": [
    "Step through $x$ array and for each $x$ step through $N$, making a table of results"
   ]
  },
  {
   "cell_type": "code",
   "execution_count": null,
   "id": "1fc80c68",
   "metadata": {},
   "outputs": [],
   "source": [
    "print(' x   exp(-x)  N: ', end=\" \")   # The end=\" \" option suppresses a return.\n",
    "for N in N_values:\n",
    "   print(f'  {N}     ', end=\" \")\n",
    "print('\\n')\n",
    "\n",
    "for x in x_values:\n",
    "    f_of_x = np.exp(-x)\n",
    "    print(f\"{x:.1f}   {f_of_x:.3f}   \", end=\" \")\n",
    "    for N in N_values:\n",
    "        approx = exp_approx(-x, N)\n",
    "        print(f\"  {rel_error(f_of_x, approx):.2e}\", end=\" \")\n",
    "    print(\"\\n\")"
   ]
  },
  {
   "cell_type": "code",
   "execution_count": null,
   "id": "64357054",
   "metadata": {},
   "outputs": [],
   "source": []
  }
 ],
 "metadata": {
  "kernelspec": {
   "display_name": "Python 3 (ipykernel)",
   "language": "python",
   "name": "python3"
  },
  "language_info": {
   "codemirror_mode": {
    "name": "ipython",
    "version": 3
   },
   "file_extension": ".py",
   "mimetype": "text/x-python",
   "name": "python",
   "nbconvert_exporter": "python",
   "pygments_lexer": "ipython3",
   "version": "3.10.6"
  }
 },
 "nbformat": 4,
 "nbformat_minor": 5
}
