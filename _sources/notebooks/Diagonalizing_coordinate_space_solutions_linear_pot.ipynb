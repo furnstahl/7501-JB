{
 "cells": [
  {
   "cell_type": "markdown",
   "id": "993981ee",
   "metadata": {},
   "source": [
    "# Diagonalizing coordinate space solutions\n",
    "\n",
    "In this notebook you will apply a 2nd-derivative operator and a potential as matrices in coordinate space to represent the Schroedinger equation. By diagonalizing it you'll find its eigenvalues (the energy spectrum) and eigenvectors (wave functions). "
   ]
  },
  {
   "cell_type": "markdown",
   "id": "3f67040f",
   "metadata": {},
   "source": [
    "Standard imports plus seaborn (to make plots looks nicer)."
   ]
  },
  {
   "cell_type": "code",
   "execution_count": 1,
   "id": "d061bdf9",
   "metadata": {},
   "outputs": [],
   "source": [
    "import numpy as np\n",
    "import scipy.linalg as la\n",
    "\n",
    "import matplotlib.pyplot as plt\n",
    "import seaborn as sns; sns.set_style(\"darkgrid\"); sns.set_context(\"talk\")\n"
   ]
  },
  {
   "cell_type": "markdown",
   "id": "1897d8d2",
   "metadata": {},
   "source": [
    "Fill in the ?'s in the  `second_derivative_matrix` function below so that it returns a matrix that implements an approximate second derivative when applied to a vector made up of a function evaluated at the mesh points. The numpy `diag` and `ones` functions are used to create matrices with 1's on particular diagonals, as in this $5\\times 5$ example: \n",
    "\n",
    "$$ \\frac{1}{(\\Delta x)^2}\\,\\left( \n",
    "    \\begin{array}{ccccc}\n",
    "    -2 & 1 & 0 & 0 & 0 \\\\\n",
    "    1 & -2 & 1 & 0 & 0 \\\\\n",
    "    0 & 1 & -2 & 1 & 0 \\\\\n",
    "    0 & 0 &1 & -2 & 1 \\\\\n",
    "    0 & 0 & 0 & 1 & -2\n",
    "    \\end{array}\n",
    "   \\right) \n",
    "   \\left(\\begin{array}{c}\n",
    "         f_1 \\\\ f_2 \\\\ f_3 \\\\ f_4 \\\\ f_5\n",
    "         \\end{array}\n",
    "   \\right) \n",
    "   \\overset{?}{=}\n",
    "   \\left(\\begin{array}{c}\n",
    "         ? \\\\ ? \\\\ ? \\\\ ? \\\\ ?\n",
    "         \\end{array}\n",
    "   \\right) \n",
    " $$  \n",
    " "
   ]
  },
  {
   "cell_type": "code",
   "execution_count": 2,
   "id": "22a46f46",
   "metadata": {},
   "outputs": [],
   "source": [
    "def second_derivative_matrix(N, Delta_x):\n",
    "    \"\"\"\n",
    "    Return an N x N matrix for 2nd derivative of a vector equally spaced by delta_x\n",
    "    \"\"\"\n",
    "    M_temp = np.diag(np.ones(N-1), +1) + np.diag(np.ones(N-1), -1) \\\n",
    "              - 2 * np.diag(np.ones(N), 0)\n",
    "#     M_temp[0, 0] = -2\n",
    "#     M_temp[0, 1] = +2\n",
    "#     M_temp[N-1, N-1] = +2\n",
    "#     M_temp[N-1, N-2] = -2\n",
    "\n",
    "    return M_temp / (Delta_x**2)"
   ]
  },
  {
   "cell_type": "markdown",
   "id": "7cb4a9a9",
   "metadata": {},
   "source": [
    "## Testing second derivative\n",
    "\n",
    "We'll check the relative accuracy of the approximate second derivative at a fixed $\\Delta x$ by choosing a test function $f(x)$ and a range of $x$. \n",
    "\n",
    "**Choose values for `N_pts`, `x_min`, and `x_max` "
   ]
  },
  {
   "cell_type": "code",
   "execution_count": 3,
   "id": "f0e3ad4f",
   "metadata": {},
   "outputs": [],
   "source": [
    "N_pts = 4001  \n",
    "x_min = -15.\n",
    "x_max = 15.\n",
    "Delta_x = (x_max - x_min) / (N_pts - 1)\n",
    "x_mesh = np.linspace(x_min, x_max, N_pts)  # create the grid (\"mesh\") of x points"
   ]
  },
  {
   "cell_type": "code",
   "execution_count": 4,
   "id": "bf17d8fc",
   "metadata": {},
   "outputs": [
    {
     "name": "stdout",
     "output_type": "stream",
     "text": [
      "0.0075\n",
      "[-15.     -14.9925 -14.985  ...  14.985   14.9925  15.    ]\n"
     ]
    }
   ],
   "source": [
    "# Check that mesh is consistent with Delta_x\n",
    "print(Delta_x)\n",
    "print(x_mesh)"
   ]
  },
  {
   "cell_type": "markdown",
   "id": "2bd5a7a6",
   "metadata": {},
   "source": [
    "Set up the derivative matrices for the specified mesh."
   ]
  },
  {
   "cell_type": "code",
   "execution_count": 5,
   "id": "d6f7066e",
   "metadata": {
    "scrolled": true
   },
   "outputs": [],
   "source": [
    "second_deriv = second_derivative_matrix(N_pts, Delta_x)\n"
   ]
  },
  {
   "cell_type": "markdown",
   "id": "e1fbe217",
   "metadata": {},
   "source": [
    "### Set up various test functions"
   ]
  },
  {
   "cell_type": "code",
   "execution_count": 6,
   "id": "f07d711e",
   "metadata": {},
   "outputs": [],
   "source": [
    "def f_test_0(x_mesh):\n",
    "    \"\"\"\n",
    "    Return the value of the function e^{-x^2} and its 2nd derivative\n",
    "    \"\"\"\n",
    "    return ( np.exp(-x_mesh**2), np.exp(-x_mesh**2) * (4 * x_mesh**2 - 2) )    \n",
    "\n"
   ]
  },
  {
   "cell_type": "markdown",
   "id": "01dd4f90",
   "metadata": {},
   "source": [
    "Pick one of the test functions and evaluate the function and its derivative on the mesh.\n",
    "Then apply the forward difference (fd) and symmetric difference (sd) matrices to the `f_test` vector (using the `@` symbol for matrix-vector, matrix-matrix, and vector-vector multiplication)."
   ]
  },
  {
   "cell_type": "code",
   "execution_count": 7,
   "id": "b324f4e9",
   "metadata": {},
   "outputs": [],
   "source": [
    "f_test, f_2nd_deriv_exact = f_test_0(x_mesh)\n",
    "\n",
    "f_2nd_deriv = second_deriv @ f_test"
   ]
  },
  {
   "cell_type": "markdown",
   "id": "eb63a000",
   "metadata": {},
   "source": [
    "Make plots comparing the exact to approximate derivative and then the relative errors."
   ]
  },
  {
   "cell_type": "code",
   "execution_count": 8,
   "id": "ee125d18",
   "metadata": {},
   "outputs": [],
   "source": [
    "def rel_error(x1, x2):\n",
    "    \"\"\"\n",
    "    Calculate the (absolute value of the) relative error between x1 and x2\n",
    "    \"\"\"\n",
    "    return np.abs( (x1 - x2) / ((x1 + x2)/2) )\n",
    "    #return np.abs( (x1 - x2)  )\n"
   ]
  },
  {
   "cell_type": "code",
   "execution_count": 9,
   "id": "da8d7aa3",
   "metadata": {},
   "outputs": [
    {
     "data": {
      "image/png": "[encoded data removed]",
      "text/plain": [
       "<Figure size 864x432 with 2 Axes>"
      ]
     },
     "metadata": {},
     "output_type": "display_data"
    }
   ],
   "source": [
    "fig = plt.figure(figsize=(12,6))\n",
    "\n",
    "ax1 = fig.add_subplot(1,2,1)\n",
    "ax1.set_xlabel(r'$x$')\n",
    "ax1.set_ylabel(r'$df/dx$')\n",
    "#ax1.set_xlim(0, x_max)\n",
    "#ax1.set_ylim(-1., 3)\n",
    "\n",
    "ax1.plot(x_mesh, f_2nd_deriv_exact, color='red', label='exact 2nd derivative')\n",
    "ax1.plot(x_mesh, f_2nd_deriv, color='blue', label='approx 2nd derivative', linestyle='dashed')\n",
    "\n",
    "ax1.legend()\n",
    "\n",
    "ax2 = fig.add_subplot(1,2,2)\n",
    "ax2.set_xlabel(r'$x$')\n",
    "ax2.set_ylabel(r'relative error')\n",
    "ax2.set_xlim(0, x_max)\n",
    "ax2.set_ylim(1e-6, 2)\n",
    "\n",
    "# Calculate relative errors\n",
    "rel_error_2nd_deriv = rel_error(f_2nd_deriv_exact, f_2nd_deriv)\n",
    "\n",
    "ax2.semilogy(x_mesh, rel_error_2nd_deriv, color='blue', label='2nd derivative', linestyle='dashed')\n",
    "\n",
    "ax2.legend()\n",
    "\n",
    "fig.tight_layout()"
   ]
  },
  {
   "cell_type": "markdown",
   "id": "a31b9497",
   "metadata": {},
   "source": [
    "## Linear potential\n",
    "\n",
    "The Hamiltonian matrix is \n",
    "\n",
    "$$\n",
    " \\hat H \\doteq  -\\frac{\\hbar^2}{2m}\\frac{d^2}{dx^2} + V(x) ,\n",
    "$$\n",
    "\n",
    "which we'll implement as a sum of matrices. We'll choose units so that $\\hbar^2/2m = 1$ and $\\hbar\\omega = 1$ (if a harmonic oscillator and other simple units if a different potential is used)."
   ]
  },
  {
   "cell_type": "code",
   "execution_count": 10,
   "id": "5f1c81fb",
   "metadata": {},
   "outputs": [],
   "source": [
    "def V_SHO_matrix(x_mesh):\n",
    "    \"\"\"\n",
    "    Harmonic oscillator potential matrix (defined as a diagonal matrix)\n",
    "    \"\"\"\n",
    "    k = 1/2       # k is chosen so that hbar*omega = 1 \n",
    "    V_diag = k * x_mesh**2 / 2  # diagonal matrix elements\n",
    "    N = len(x_mesh)  # number of x points\n",
    "    \n",
    "    return V_diag * np.diag(np.ones(N), 0) "
   ]
  },
  {
   "cell_type": "code",
   "execution_count": 11,
   "id": "dac64f0a",
   "metadata": {},
   "outputs": [],
   "source": [
    "def V_linear_matrix(x_mesh):\n",
    "    \"\"\"\n",
    "    Linear potential matrix (defined as a diagonal matrix)\n",
    "    \"\"\"\n",
    "    k = 1/2       # k is chosen for simple units\n",
    "    V_diag = k * np.abs(x_mesh)  # diagonal matrix elements\n",
    "    N = len(x_mesh)  # number of x points\n",
    "    \n",
    "    return V_diag * np.diag(np.ones(N), 0) "
   ]
  },
  {
   "cell_type": "code",
   "execution_count": 12,
   "id": "24e7c230",
   "metadata": {},
   "outputs": [],
   "source": [
    "def xsq_matrix(x_mesh):\n",
    "    \"\"\"\n",
    "    matrix for x^2 operator\n",
    "    \"\"\"\n",
    "    N = len(x_mesh)  # number of x points\n",
    "\n",
    "    return x_mesh**2 * np.diag(np.ones(N), 0) "
   ]
  },
  {
   "cell_type": "code",
   "execution_count": 13,
   "id": "fa704ccf",
   "metadata": {},
   "outputs": [],
   "source": [
    "def exp_xsq_matrix(x_mesh, k):\n",
    "    \"\"\"\n",
    "    matrix for e^(-k^2 x^2/2) operator\n",
    "    \"\"\"\n",
    "    N = len(x_mesh)  # number of x points\n",
    "\n",
    "    return np.exp(-k**2 * x_mesh**2 / 2) * np.diag(np.ones(N), 0) "
   ]
  },
  {
   "cell_type": "code",
   "execution_count": 14,
   "id": "cd556b40",
   "metadata": {},
   "outputs": [],
   "source": [
    "def eikx_matrix(x_mesh, k):\n",
    "    \"\"\"\n",
    "    matrix for e^{ikx} operator\n",
    "    \"\"\"\n",
    "    N = len(x_mesh)  # number of x points\n",
    "\n",
    "    return np.exp(1j * k * x_mesh) * np.diag(np.ones(N), 0) "
   ]
  },
  {
   "cell_type": "code",
   "execution_count": 15,
   "id": "37daca4a",
   "metadata": {},
   "outputs": [],
   "source": [
    "# Combine matrices to make the Hamiltonian matrix\n",
    "V_linear = V_linear_matrix(x_mesh)\n",
    "\n",
    "Hamiltonian = -second_deriv + V_linear "
   ]
  },
  {
   "cell_type": "code",
   "execution_count": 16,
   "id": "0ce89c92",
   "metadata": {},
   "outputs": [],
   "source": [
    "# Try diagonalizing using numpy functions\n",
    "eigvals, eigvecs = np.linalg.eigh(Hamiltonian)"
   ]
  },
  {
   "cell_type": "code",
   "execution_count": 17,
   "id": "9ce395c3",
   "metadata": {
    "scrolled": false
   },
   "outputs": [
    {
     "name": "stdout",
     "output_type": "stream",
     "text": [
      "[0.64179678 1.47291334 2.04623164 2.57524056 3.03646312 3.47772343\n",
      " 3.88262584 4.27534108 4.64416042 5.00446997]\n"
     ]
    }
   ],
   "source": [
    "print(eigvals[0:10])"
   ]
  },
  {
   "cell_type": "code",
   "execution_count": 18,
   "id": "3cdee2c4",
   "metadata": {},
   "outputs": [
    {
     "name": "stdout",
     "output_type": "stream",
     "text": [
      "0.6417993552317998\n"
     ]
    }
   ],
   "source": [
    "ktest = 1/2\n",
    "airy_deriv_zero = -1.018792971647471089017\n",
    "print(-airy_deriv_zero/2**(1/3) * (2*ktest**2)**(1/3))"
   ]
  },
  {
   "cell_type": "markdown",
   "id": "fd6ea543",
   "metadata": {},
   "source": [
    "Notice that they are all *above* the exact answer. Variational principle!"
   ]
  },
  {
   "cell_type": "code",
   "execution_count": 19,
   "id": "bd7f0486",
   "metadata": {},
   "outputs": [],
   "source": [
    "wf_0 = eigvecs[:,0]\n",
    "wf_1 = eigvecs[:,1]\n",
    "wf_2 = eigvecs[:,2]"
   ]
  },
  {
   "cell_type": "code",
   "execution_count": 20,
   "id": "e8877824",
   "metadata": {},
   "outputs": [
    {
     "data": {
      "image/png": "[encoded data removed]",
      "text/plain": [
       "<Figure size 1152x432 with 1 Axes>"
      ]
     },
     "metadata": {},
     "output_type": "display_data"
    }
   ],
   "source": [
    "fig = plt.figure(figsize=(16,6))\n",
    "\n",
    "ax1 = fig.add_subplot(1,2,1)\n",
    "ax1.set_xlabel(r'$x$')\n",
    "ax1.set_ylabel(r'$\\psi_n(x)$')\n",
    "#ax1.set_xlim(0, x_max)\n",
    "#ax1.set_ylim(-1., 3)\n",
    "\n",
    "ax1.plot(x_mesh, wf_0, color='red', label=r'$n=0$')\n",
    "ax1.plot(x_mesh, wf_1, color='blue', label=r'$n=1$')\n",
    "ax1.plot(x_mesh, wf_2, color='green', label=r'$n=2$')\n",
    "\n",
    "ax1.legend();\n"
   ]
  },
  {
   "cell_type": "code",
   "execution_count": 21,
   "id": "e6870f6e",
   "metadata": {},
   "outputs": [],
   "source": [
    "ktest = 0.8"
   ]
  },
  {
   "cell_type": "code",
   "execution_count": 33,
   "id": "db966bf3",
   "metadata": {},
   "outputs": [],
   "source": [
    "xsq_exp_val = wf_0.T @ xsq_matrix(x_mesh) @ wf_0"
   ]
  },
  {
   "cell_type": "code",
   "execution_count": 23,
   "id": "693ed840",
   "metadata": {},
   "outputs": [],
   "source": [
    "exp_xsq_exp_val = wf_0 @ exp_xsq_matrix(x_mesh, ktest) @ wf_0"
   ]
  },
  {
   "cell_type": "code",
   "execution_count": 24,
   "id": "58d01f16",
   "metadata": {},
   "outputs": [],
   "source": [
    "eikx_exp_val = wf_0 @ eikx_matrix(x_mesh, ktest) @ wf_0"
   ]
  },
  {
   "cell_type": "code",
   "execution_count": 25,
   "id": "21a4a4de",
   "metadata": {},
   "outputs": [
    {
     "data": {
      "text/plain": [
       "1.0000000000000282"
      ]
     },
     "execution_count": 25,
     "metadata": {},
     "output_type": "execute_result"
    }
   ],
   "source": [
    "wf_0 @ wf_0"
   ]
  },
  {
   "cell_type": "code",
   "execution_count": 26,
   "id": "835ecef8",
   "metadata": {},
   "outputs": [
    {
     "name": "stdout",
     "output_type": "stream",
     "text": [
      "(0.6891358147077586-1.362907219478094e-13j)\n"
     ]
    }
   ],
   "source": [
    "print(eikx_exp_val)"
   ]
  },
  {
   "cell_type": "code",
   "execution_count": 27,
   "id": "ef7d5b94",
   "metadata": {},
   "outputs": [
    {
     "data": {
      "text/plain": [
       "0.6832380004168872"
      ]
     },
     "execution_count": 27,
     "metadata": {},
     "output_type": "execute_result"
    }
   ],
   "source": [
    "np.exp(-ktest**2 * xsq_exp_val / 2.)"
   ]
  },
  {
   "cell_type": "code",
   "execution_count": 34,
   "id": "a7f8d6ed",
   "metadata": {},
   "outputs": [
    {
     "name": "stdout",
     "output_type": "stream",
     "text": [
      " 0.00  1.00000+0.00000j  1.00000\n",
      " 0.20  0.97651-0.00000j  0.97647\n",
      " 0.40  0.90965-0.00000j  0.90917\n",
      " 0.60  0.80933-0.00000j  0.80714\n",
      " 0.80  0.68914-0.00000j  0.68324\n",
      " 1.00  0.56316-0.00000j  0.55147\n",
      " 1.20  0.44327-0.00000j  0.42441\n",
      " 1.40  0.33754-0.00000j  0.31144\n",
      " 1.60  0.24991-0.00000j  0.21792\n",
      " 1.80  0.18093-0.00000j  0.14539\n",
      " 2.00  0.12886-0.00000j  0.09249\n",
      " 2.20  0.09085-0.00000j  0.05610\n",
      " 2.40  0.06380-0.00000j  0.03245\n",
      " 2.60  0.04488-0.00000j  0.01789\n",
      " 2.80  0.03178-0.00000j  0.00941\n",
      " 3.00  0.02275-0.00000j  0.00472\n"
     ]
    }
   ],
   "source": [
    "for k in np.arange(0, 3.2, .2):\n",
    "    lhs = wf_0 @ eikx_matrix(x_mesh, k) @ wf_0 \n",
    "    rhs = np.exp(-k**2 * xsq_exp_val / 2.)\n",
    "    print(f' {k:.2f}  {lhs:.5f}  {rhs:.5f}')"
   ]
  },
  {
   "cell_type": "code",
   "execution_count": null,
   "id": "eea8c5e7",
   "metadata": {},
   "outputs": [],
   "source": []
  }
 ],
 "metadata": {
  "kernelspec": {
   "display_name": "Python 3 (ipykernel)",
   "language": "python",
   "name": "python3"
  },
  "language_info": {
   "codemirror_mode": {
    "name": "ipython",
    "version": 3
   },
   "file_extension": ".py",
   "mimetype": "text/x-python",
   "name": "python",
   "nbconvert_exporter": "python",
   "pygments_lexer": "ipython3",
   "version": "3.9.12"
  }
 },
 "nbformat": 4,
 "nbformat_minor": 5
}
