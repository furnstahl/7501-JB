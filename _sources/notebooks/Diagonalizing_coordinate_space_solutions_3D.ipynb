{
 "cells": [
  {
   "cell_type": "markdown",
   "id": "993981ee",
   "metadata": {},
   "source": [
    "# Diagonalizing coordinate space solutions in 3D\n",
    "\n",
    "In this notebook you will apply a 2nd-derivative operator and a potential as matrices in coordinate space to represent the Schroedinger equation. By diagonalizing it you'll find its eigenvalues (the energy spectrum) and eigenvectors (wave functions).\n",
    "\n",
    "What is different here from previous notebooks is that we'll do it in three dimensions. This requires very few changes if we solve for the radial wave function $u_{E\\ell}(r) = r R_{E\\ell}(r)$. The radial Schrodinger equation for an energy eigenstate is:\n",
    "\n",
    "$$\n",
    " \\hat H |\\psi\\rangle = E |\\psi\\rangle\\quad \\doteq\\quad  \\Bigl[ -\\frac{\\hbar^2}{2m}\\frac{d^2}{dr^2} + \\frac{\\hbar^2\\ell(\\ell+1)}{2mr^2} +  V(r)\\Bigr] u_{El}(r) = E u_{El}(r) ,\n",
    "$$\n",
    "\n",
    "where the full wavefunction is $\\psi(\\mathbf{x}) = R_{E\\ell}(r) Y^m_{\\ell}(\\theta,\\phi)$. (Be careful not to confuse the mass $m$ with the quantum number $m$. The latter will not appear again in this notebook, however, because the energy $E$ and radial function $u_{El}$ depend on $\\ell$ but not on this $m$.)"
   ]
  },
  {
   "cell_type": "markdown",
   "id": "3f67040f",
   "metadata": {},
   "source": [
    "Standard imports plus seaborn (to make plots looks nicer)."
   ]
  },
  {
   "cell_type": "code",
   "execution_count": 1,
   "id": "d061bdf9",
   "metadata": {},
   "outputs": [],
   "source": [
    "import numpy as np\n",
    "import scipy.linalg as la\n",
    "\n",
    "import matplotlib.pyplot as plt\n",
    "import seaborn as sns; sns.set_style(\"darkgrid\"); sns.set_context(\"talk\")\n"
   ]
  },
  {
   "cell_type": "markdown",
   "id": "1897d8d2",
   "metadata": {},
   "source": [
    "We use the now-familiar  `second_derivative_matrix` function below so that it returns a matrix that implements an approximate second derivative when applied to a vector made up of a function evaluated at the mesh points. Now we apply it to functions of $r$ rather than functions of $x$, but that is just labeling; the 2nd derivative has the same form. The numpy `diag` and `ones` functions are used to create matrices with 1's on particular diagonals, as in this $5\\times 5$ example: \n",
    "\n",
    "$$ \\frac{1}{(\\Delta r)^2}\\,\\left( \n",
    "    \\begin{array}{ccccc}\n",
    "    -2 & 1 & 0 & 0 & 0 \\\\\n",
    "    1 & -2 & 1 & 0 & 0 \\\\\n",
    "    0 & 1 & -2 & 1 & 0 \\\\\n",
    "    0 & 0 &1 & -2 & 1 \\\\\n",
    "    0 & 0 & 0 & 1 & -2\n",
    "    \\end{array}\n",
    "   \\right) \n",
    "   \\left(\\begin{array}{c}\n",
    "         f_1 \\\\ f_2 \\\\ f_3 \\\\ f_4 \\\\ f_5\n",
    "         \\end{array}\n",
    "   \\right) \n",
    "   %\\overset{?}{=}\n",
    "   =\n",
    "   \\left(\\begin{array}{c} -2f_1 + f_2\n",
    "          \\\\ f_1 - 2 f_2 + f_3  \\\\ f_2 - 2 f_3 + f_4 \\\\ f_3 - 2 f_4 + f_5 \\\\ f_4 - 2 f_5\n",
    "         \\end{array}\n",
    "   \\right) \n",
    " $$  \n",
    " "
   ]
  },
  {
   "cell_type": "code",
   "execution_count": 2,
   "id": "22a46f46",
   "metadata": {},
   "outputs": [],
   "source": [
    "def second_derivative_matrix(N, Delta_r):\n",
    "    \"\"\"\n",
    "    Return an N x N matrix for 2nd derivative of a vector equally spaced by delta_x\n",
    "    \"\"\"\n",
    "    M_temp = np.diag(np.ones(N-1), +1) + np.diag(np.ones(N-1), -1) \\\n",
    "              - 2 * np.diag(np.ones(N), 0)\n",
    "\n",
    "    return M_temp / (Delta_r**2)"
   ]
  },
  {
   "cell_type": "markdown",
   "id": "7cb4a9a9",
   "metadata": {},
   "source": [
    "## Setting up the second derivative\n",
    "\n",
    "**Choose values for `N_pts`, `x_min`, and `x_max`** "
   ]
  },
  {
   "cell_type": "code",
   "execution_count": 24,
   "id": "f0e3ad4f",
   "metadata": {},
   "outputs": [],
   "source": [
    "N_pts = 4001   # For accuracy this should be large; over 1000 \n",
    "r_min = 0.     # For three-dimensions, r starts at zero\n",
    "r_max = 5.     # How large to make this depends on the potential\n",
    "Delta_r = (r_max - r_min) / (N_pts - 1)\n",
    "r_mesh = np.linspace(r_min, r_max, N_pts)  # create the grid (\"mesh\") of x points"
   ]
  },
  {
   "cell_type": "markdown",
   "id": "2bd5a7a6",
   "metadata": {},
   "source": [
    "Set up the derivative matrices for the specified mesh."
   ]
  },
  {
   "cell_type": "code",
   "execution_count": 25,
   "id": "d6f7066e",
   "metadata": {
    "scrolled": true
   },
   "outputs": [],
   "source": [
    "second_deriv = second_derivative_matrix(N_pts, Delta_r)"
   ]
  },
  {
   "cell_type": "markdown",
   "id": "a31b9497",
   "metadata": {},
   "source": [
    "## Setting up potentials and Hamiltonian matrix\n",
    "\n",
    "The Hamiltonian matrix is \n",
    "\n",
    "$$\n",
    " \\hat H \\doteq  -\\frac{\\hbar^2}{2m}\\frac{d^2}{dr^2} + \\frac{\\hbar^2\\ell(\\ell+1)}{2mr^2} +  V(r) ,\n",
    "$$\n",
    "\n",
    "which we'll implement as a sum of matrices. We'll choose units initially so that $\\hbar = 1$ and $m = 1$, but these can be set to any desired values."
   ]
  },
  {
   "cell_type": "code",
   "execution_count": 26,
   "id": "5f1c81fb",
   "metadata": {},
   "outputs": [],
   "source": [
    "def V_SHO_matrix(r_mesh):\n",
    "    \"\"\"\n",
    "    Harmonic oscillator potential matrix (defined as a diagonal matrix)\n",
    "    \"\"\"\n",
    "    k = 1/2       # k is chosen so that hbar*omega = 1 \n",
    "    V_diag = k * r_mesh**2 / 2  # diagonal matrix elements\n",
    "    N = len(r_mesh)  # number of x points\n",
    "    \n",
    "    return V_diag * np.diag(np.ones(N), 0) "
   ]
  },
  {
   "cell_type": "code",
   "execution_count": 27,
   "id": "504560bf",
   "metadata": {},
   "outputs": [],
   "source": [
    "def Three_D_spherical_box(r_mesh, ell, a, beta, mass=1, hbar=1):\n",
    "    \"\"\"\n",
    "    Potential in a box of radius a and depth hbar^2 beta^2 / (2 m a^2).\n",
    "    \"\"\"\n",
    "    V0 = hbar**2 * beta**2 / (2 * mass * a**2)\n",
    "    Lfact = hbar**2 * ell * (ell + 1) / (2 * mass)\n",
    "    V_diag = np.array([V0 if r > a else 0 for r in r_mesh])\n",
    "    V_diag = V_diag + np.array([Lfact / r**2 if r > 0.001 else 0 for r in r_mesh])\n",
    "    N = len(r_mesh)  # number of r points\n",
    "    \n",
    "    return V_diag * np.diag(np.ones(N), 0)     "
   ]
  },
  {
   "cell_type": "markdown",
   "id": "a2ddfa02",
   "metadata": {},
   "source": [
    "**Put together the Hamiltonian matrix**"
   ]
  },
  {
   "cell_type": "code",
   "execution_count": 28,
   "id": "37daca4a",
   "metadata": {},
   "outputs": [
    {
     "name": "stdout",
     "output_type": "stream",
     "text": [
      " *** Energy eigenvalues for l = 0 ***\n",
      " n       E       ka      ka/pi\n",
      " 0    4.0541    2.848    0.906\n",
      " 1   16.0728    5.670    1.805\n",
      " 2   35.3629    8.410    2.677\n",
      " 3   50.2976   10.030    3.193\n",
      " 4   51.1827   10.118    3.221\n",
      " 5   52.6291   10.260    3.266\n",
      " 6   54.5781   10.448    3.326\n",
      " 7   56.9121   10.669    3.396\n",
      " 8   59.5045   10.909    3.472\n",
      " 9   62.4796   11.179    3.558\n"
     ]
    }
   ],
   "source": [
    "hbar = 1\n",
    "mass = 1\n",
    "\n",
    "ell = 0   # pick the value of orbital angular momentum l\n",
    "a = 1     # radius of the spherical box\n",
    "beta = 10 # parameter setting the height of the potential wall\n",
    "V_spherical = Three_D_spherical_box(r_mesh, ell, a, beta, mass=1, hbar=1)\n",
    "\n",
    "Hamiltonian = -hbar**2/(2*mass) * second_deriv + V_spherical\n",
    "\n",
    "# Diagonalize using numpy functions\n",
    "eigvals, eigvecs = np.linalg.eigh(Hamiltonian)\n",
    "\n",
    "gs = eigvals[0]\n",
    "\n",
    "print(f' *** Energy eigenvalues for l = {ell} ***')\n",
    "print(' n       E       ka      ka/pi')\n",
    "for n, eig in enumerate(eigvals[0:10]):\n",
    "    print(f' {n}  {eig:8.4f}  {np.sqrt(eig*2*mass*a**2/hbar**2):7.3f} ', \\\n",
    "          f' {np.sqrt(eig*2*mass*a**2/hbar**2)/np.pi:6.3f}')\n"
   ]
  },
  {
   "cell_type": "code",
   "execution_count": 29,
   "id": "dbd950a3",
   "metadata": {},
   "outputs": [],
   "source": [
    "def get_eigvals(ell, beta, num_eigs=5):\n",
    "    \"\"\"\n",
    "    Get the first num_eigs eigenvalues for specified ell and beta \n",
    "    \"\"\"\n",
    "    hbar = 1\n",
    "    mass = 1\n",
    "    a = 1\n",
    "\n",
    "    V_spherical = Three_D_spherical_box(r_mesh, ell, a, beta, \n",
    "                                        mass=mass, hbar=hbar)\n",
    "    Hamiltonian = -hbar**2/(2*mass) * second_deriv + V_spherical\n",
    "    # Diagonalize using numpy functions\n",
    "    eigvals, eigvecs = np.linalg.eigh(Hamiltonian)\n",
    "\n",
    "    return eigvals[0:num_eigs]"
   ]
  },
  {
   "cell_type": "code",
   "execution_count": 32,
   "id": "14a4ef93",
   "metadata": {},
   "outputs": [
    {
     "name": "stdout",
     "output_type": "stream",
     "text": [
      " orbital angular momentum l = 0\n",
      " beta   5 * [eigenvalue   sqrt(eig*2ma^2/hbar^2)]\n",
      "    4    3.053  2.471   8.264  4.065   9.011  4.245  10.138  4.503  11.632  4.823  \n",
      "   10    4.054  2.848  16.073  5.670  35.363  8.410  50.298  10.030  51.183  10.118  \n",
      "   25    4.545  3.015  18.170  6.028  40.841  9.038  72.494  12.041 113.015  15.034  \n",
      "  100    4.819  3.105  19.278  6.209  43.374  9.314  77.106  12.418 120.473  15.522  \n",
      " 1000    4.905  3.132  19.619  6.264  44.143  9.396  78.475  12.528 122.616  15.660  \n",
      " \n",
      " orbital angular momentum l = 1\n",
      " beta   5 * [eigenvalue   sqrt(eig*2ma^2/hbar^2)]\n",
      "    4    6.022  3.470   8.449  4.111   9.421  4.341  10.912  4.672  12.857  5.071  \n",
      "   10    8.293  4.073  24.186  6.955  46.268  9.620  50.451  10.045  51.451  10.144  \n",
      "   25    9.319  4.317  27.524  7.419  54.766  10.466  90.964  13.488 135.966  16.490  \n",
      "  100    9.884  4.446  29.214  7.644  58.201  10.789  96.848  13.917 145.152  17.038  \n",
      " 1000   10.059  4.485  29.732  7.711  59.235  10.884  98.571  14.041 147.739  17.189  \n",
      " \n"
     ]
    }
   ],
   "source": [
    "betas = np.array([4, 10, 25, 100, 1000])\n",
    "num_eigs = 5\n",
    "\n",
    "for ell in [0, 1]:\n",
    "    print(f' orbital angular momentum l = {ell}')\n",
    "    print(f' beta   {num_eigs} * [eigenvalue   sqrt(eig*2ma^2/hbar^2)]')\n",
    "    for beta in betas:\n",
    "        print(f' {beta:4.0f} ', end =\" \")\n",
    "        eigs = get_eigvals(ell, beta, num_eigs)\n",
    "        for i in range(num_eigs):\n",
    "            print(f'{eigs[i]:7.3f} ', \\\n",
    "                  f'{np.sqrt(eigs[i]*2*mass*a**2/hbar**2):5.3f}', \n",
    "                  end =\" \")\n",
    "        print(' ')    \n",
    "    print(' ')"
   ]
  },
  {
   "cell_type": "code",
   "execution_count": null,
   "id": "3a2e0814",
   "metadata": {},
   "outputs": [],
   "source": [
    "norm = 1 / np.sqrt(Delta_r)\n",
    "\n",
    "wf_0 = norm * eigvecs[:,0]\n",
    "wf_1 = norm * eigvecs[:,1]\n",
    "wf_2 = norm * eigvecs[:,2]\n",
    "\n",
    "print(f' test normalization: {Delta_r * wf_0 @ wf_0}')\n"
   ]
  },
  {
   "cell_type": "code",
   "execution_count": null,
   "id": "54c69284",
   "metadata": {},
   "outputs": [],
   "source": [
    "fig = plt.figure(figsize=(16,6))\n",
    "\n",
    "ax1 = fig.add_subplot(1,2,1)\n",
    "ax1.set_xlabel(r'$r$')\n",
    "ax1.set_ylabel(r'$\\psi_n(r)$')\n",
    "\n",
    "r_max = 3 * a\n",
    "ax1.set_xlim(0, r_max)\n",
    "#ax1.set_ylim(-1., 3)\n",
    "\n",
    "ax1.plot(r_mesh, wf_0, color='red', label=r'$n=0$')\n",
    "ax1.plot(r_mesh, wf_1, color='blue', label=r'$n=1$')\n",
    "ax1.plot(r_mesh, wf_2, color='green', label=r'$n=2$')\n",
    "\n",
    "ax1.set_title(fr'Lowest energy eigenstates for $\\ell$ = {ell}')\n",
    "\n",
    "ax1.legend();\n"
   ]
  },
  {
   "cell_type": "code",
   "execution_count": null,
   "id": "1a3888a1",
   "metadata": {},
   "outputs": [],
   "source": [
    "hbar = 1\n",
    "mass = 1\n",
    "\n",
    "ell = 1   # pick the value of orbital angular momentum l\n",
    "a = 1     # radius of the spherical box\n",
    "beta = 10 # parameter setting the height of the potential wall\n",
    "V_spherical = Three_D_spherical_box(r_mesh, ell, a, beta, mass=1, hbar=1)\n",
    "\n",
    "Hamiltonian = -hbar**2/(2*mass) * second_deriv + V_spherical\n",
    "\n",
    "# Diagonalizing using numpy functions\n",
    "eigvals, eigvecs = np.linalg.eigh(Hamiltonian)\n",
    "\n",
    "E_gs = eigvals[0]  # ground state energy\n",
    "print(f' *** Energy eigenvalues for l = {ell} ***')\n",
    "print(' n       E       ka    ')\n",
    "for n, eig in enumerate(eigvals[0:10]):\n",
    "    print(f' {n}  {eig:8.4f}  {np.sqrt(eig*2*mass*a**2/hbar**2):7.3f} ')\n",
    "    #, \\\n",
    "    #      f' {np.sqrt(eig*2*mass*a**2/hbar**2)/np.pi:6.3f}')\n",
    "\n"
   ]
  },
  {
   "cell_type": "code",
   "execution_count": null,
   "id": "bd7f0486",
   "metadata": {},
   "outputs": [],
   "source": [
    "norm = 1 / np.sqrt(Delta_r)\n",
    "\n",
    "wf_0 = norm * eigvecs[:,0]\n",
    "wf_1 = norm * eigvecs[:,1]\n",
    "wf_2 = norm * eigvecs[:,2]\n",
    "\n",
    "print(f' test normalization: {Delta_r * wf_0 @ wf_0}')\n"
   ]
  },
  {
   "cell_type": "code",
   "execution_count": null,
   "id": "e8877824",
   "metadata": {},
   "outputs": [],
   "source": [
    "fig = plt.figure(figsize=(16,6))\n",
    "\n",
    "ax1 = fig.add_subplot(1,2,1)\n",
    "ax1.set_xlabel(r'$r$')\n",
    "ax1.set_ylabel(r'$\\psi_n(r)$')\n",
    "\n",
    "r_max = 3 * a\n",
    "ax1.set_xlim(0, r_max)\n",
    "#ax1.set_ylim(-1., 3)\n",
    "\n",
    "ax1.plot(r_mesh, wf_0, color='red', label=r'$n=0$')\n",
    "ax1.plot(r_mesh, wf_1, color='blue', label=r'$n=1$')\n",
    "ax1.plot(r_mesh, wf_2, color='green', label=r'$n=2$')\n",
    "\n",
    "ax1.set_title(fr'Lowest energy eigenstates for $\\ell$ = {ell}')\n",
    "\n",
    "ax1.legend();\n"
   ]
  },
  {
   "cell_type": "code",
   "execution_count": null,
   "id": "84c5c2e4",
   "metadata": {},
   "outputs": [],
   "source": []
  },
  {
   "cell_type": "code",
   "execution_count": null,
   "id": "bfd0dfa9",
   "metadata": {},
   "outputs": [],
   "source": []
  }
 ],
 "metadata": {
  "kernelspec": {
   "display_name": "Python 3 (ipykernel)",
   "language": "python",
   "name": "python3"
  },
  "language_info": {
   "codemirror_mode": {
    "name": "ipython",
    "version": 3
   },
   "file_extension": ".py",
   "mimetype": "text/x-python",
   "name": "python",
   "nbconvert_exporter": "python",
   "pygments_lexer": "ipython3",
   "version": "3.10.6"
  }
 },
 "nbformat": 4,
 "nbformat_minor": 5
}
