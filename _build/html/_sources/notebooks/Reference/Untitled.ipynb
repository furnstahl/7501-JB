{
 "cells": [
  {
   "cell_type": "markdown",
   "id": "330ec705",
   "metadata": {},
   "source": [
    "# Linear algebra for quantum mechanics\n",
    "\n",
    "\n",
    "\n",
    "Here we do an introduction to Python for the type of linear algebra manipulation used in quantum mechanics (QM)."
   ]
  },
  {
   "cell_type": "markdown",
   "id": "26243d31",
   "metadata": {},
   "source": [
    "**You can find valuable documentation under the Jupyter notebook Help menu. The \"User Interface Tour\" and \"Keyboard Shortcuts\" are useful places to start, but there are also many other links to documentation there.** \n",
    "\n",
    "*Select \"User Interface Tour\" and use the arrow keys to step through the tour.*"
   ]
  },
  {
   "cell_type": "code",
   "execution_count": null,
   "id": "60044c45",
   "metadata": {},
   "outputs": [],
   "source": []
  }
 ],
 "metadata": {
  "kernelspec": {
   "display_name": "Python [conda env:7501-env] *",
   "language": "python",
   "name": "conda-env-7501-env-py"
  },
  "language_info": {
   "codemirror_mode": {
    "name": "ipython",
    "version": 3
   },
   "file_extension": ".py",
   "mimetype": "text/x-python",
   "name": "python",
   "nbconvert_exporter": "python",
   "pygments_lexer": "ipython3",
   "version": "3.10.6"
  }
 },
 "nbformat": 4,
 "nbformat_minor": 5
}
