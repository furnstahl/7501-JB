{
 "cells": [
  {
   "cell_type": "markdown",
   "id": "2504dd52",
   "metadata": {},
   "source": [
    "# Linear algebra for quantum mechanics\n",
    "\n",
    "Last revised: 17-Sep-2022 by Dick Furnstahl [furnstahl.1@osu.edu]\n",
    "\n",
    "Here we do a selective (i.e., non-comprehensive) introduction to using Python for the type of linear algebra manipulation used in quantum mechanics (QM). We can do both numerical manipulations (with numpy) or symbolic manipulations (with sympy)."
   ]
  },
  {
   "cell_type": "markdown",
   "id": "1dc2bf24",
   "metadata": {},
   "source": [
    "## If you are new to Jupyter notebooks\n",
    "\n",
    "**You can find valuable documentation under the Jupyter notebook Help menu. The \"User Interface Tour\" and \"Keyboard Shortcuts\" are useful places to start, but there are also many other links to documentation there.** \n",
    "\n",
    "*Select \"User Interface Tour\" and use the arrow keys to step through the tour.*"
   ]
  },
  {
   "cell_type": "markdown",
   "id": "3c08dcd2",
   "metadata": {},
   "source": [
    "A Jupyter notebook is displayed on a web browser running on a computer, tablet (e.g., IPad), or even your smartphone.  The notebook is divided into *cells*, of which two types are relevant for us:\n",
    "* **Markdown cells:** These have headings, text, and mathematical formulas in $\\LaTeX$ using a simple form of HTML called *markdown*.\n",
    "* **Code cells:** These have Python code (or other languages, but we'll stick to Python).\n",
    "\n",
    "Either type of cell can be selected with your cursor and will be highlighted in color on the left when active.  You evaluate an active cell with shift-return (as with Mathematica) or by pressing `Run` on the notebook toolbar.  Some notes:\n",
    "* When a new cell is inserted, by default it is a Code cell and will have `In []:` to the left.  You can type Python expressions or entire programs in a cell.  How you break up code between cells is your choice and you can always put Markdown cells in between.  When you evaluate a cell it advances to the next number, e.g., `In [5]:`.\n",
    "* On the notebook menu bar is a pulldown menu that lets you change back and forth between Code and Markdown cells.  Once you evaluate a Markdown cell, it gets formatted (and has a blue border).  To edit the Markdown cell, double click in it. \n",
    "\n",
    "**Try double-clicking on this cell (the one you are reading) and then shift-return.**  You will see that a bullet list is created just with an asterisk and a space at the beginning of lines (without the space you get *italics* and with two asterisks you get **bold**).  **Double click on the title header above and you'll see it starts with a single #.**  Headings of subsections are made using ## or ###.  See this [Markdown cheatsheet](https://github.com/adam-p/markdown-here/wiki/Markdown-Cheatsheet) for a quick tour of the Markdown language (including how to add links!).\n",
    "\n",
    "**Now try turning the next (empty) cell to a Markdown cell and type:** `Einstein says $E=mc^2$` **and then evaluate it.**  This is $\\LaTeX$! (If you forget to convert to Markdown and get `SyntaxError: invalid syntax`, just select the cell and convert to Markdown with the menu.)"
   ]
  },
  {
   "cell_type": "code",
   "execution_count": null,
   "id": "16c88485",
   "metadata": {},
   "outputs": [],
   "source": []
  },
  {
   "cell_type": "markdown",
   "id": "5206fb06",
   "metadata": {},
   "source": [
    "## A whirlwind tour of Python for linear algebra"
   ]
  },
  {
   "cell_type": "markdown",
   "id": "55147244",
   "metadata": {},
   "source": [
    "Start by importing the library modules we'll need, defining standard abbreviations (`np` for numpy and `LA` for scipy.linalg). Google `numpy` or `scipy` with specific topics mentioned (e.g., \"arrays\") to learn much more.  "
   ]
  },
  {
   "cell_type": "code",
   "execution_count": null,
   "id": "edd47f62",
   "metadata": {},
   "outputs": [],
   "source": [
    "import numpy as np\n",
    "import scipy.linalg as LA"
   ]
  },
  {
   "cell_type": "markdown",
   "id": "a73ea61f",
   "metadata": {},
   "source": [
    "### Inputting vectors and matrices\n",
    "\n",
    "Both vectors and matrices will be entered as particular Python list objects known as numpy arrays. Vectors appear in square brackets and matrices in nested square brackets; we create them as arguments to `np.array`."
   ]
  },
  {
   "cell_type": "code",
   "execution_count": null,
   "id": "04827579",
   "metadata": {},
   "outputs": [],
   "source": [
    "x = np.array([0, 1, 2, 3])"
   ]
  },
  {
   "cell_type": "code",
   "execution_count": null,
   "id": "fcb1645e",
   "metadata": {},
   "outputs": [],
   "source": [
    "print(x)"
   ]
  },
  {
   "cell_type": "markdown",
   "id": "e6aa784e",
   "metadata": {},
   "source": [
    "We can pick out elements of the vector (note the square brackets). If there are `n` elements of the vector, they are indexed from `0` to `n-1`. **Why does the last reference fail here with an error?** "
   ]
  },
  {
   "cell_type": "code",
   "execution_count": null,
   "id": "f4b73ddc",
   "metadata": {},
   "outputs": [],
   "source": [
    "print(x[0])\n",
    "print(x[3])\n",
    "print(x[4])"
   ]
  },
  {
   "cell_type": "markdown",
   "id": "bc6e4dbf",
   "metadata": {},
   "source": [
    "Functions are defined to generate matrices such as identity matrices of any dimension (`np.eye`)."
   ]
  },
  {
   "cell_type": "code",
   "execution_count": null,
   "id": "565bbd7c",
   "metadata": {},
   "outputs": [],
   "source": [
    "ident2 = np.eye(2)   # we can name these whatever we want\n",
    "my_identity3 = np.eye(3)"
   ]
  },
  {
   "cell_type": "code",
   "execution_count": null,
   "id": "1a791b7a",
   "metadata": {},
   "outputs": [],
   "source": [
    "print(ident2)\n",
    "print('\\n')  # skip a line; \\n means \"newline\"\n",
    "print(my_identity3)"
   ]
  },
  {
   "cell_type": "markdown",
   "id": "7568a542",
   "metadata": {},
   "source": [
    "If we use the `shape` attribute we would get $(3, 3)$ as output, that is verifying that our matrix is a $3\\times 3$ matrix. "
   ]
  },
  {
   "cell_type": "code",
   "execution_count": null,
   "id": "6714d90d",
   "metadata": {},
   "outputs": [],
   "source": [
    "my_identity3.shape"
   ]
  },
  {
   "cell_type": "markdown",
   "id": "92545cc6",
   "metadata": {},
   "source": [
    "### Pauli matrix examples"
   ]
  },
  {
   "cell_type": "markdown",
   "id": "c769f7f9",
   "metadata": {},
   "source": [
    "Here we see how to use np.array to input a matrix. Note the use of `1j` for $\\sqrt{-1}$."
   ]
  },
  {
   "cell_type": "code",
   "execution_count": null,
   "id": "b5f73c3b",
   "metadata": {},
   "outputs": [],
   "source": [
    "eye2 = np.eye(2)   # 2x2 identity\n",
    "sig1 = np.array([[0, 1], [1, 0]]) # \\sigma_1\n",
    "sig2 = np.array([[0, -1j], [1j, 0]]) # use j for sqrt(-1)\n",
    "sig3 = np.array([[1, 0], [0, -1]])"
   ]
  },
  {
   "cell_type": "code",
   "execution_count": null,
   "id": "525b5304",
   "metadata": {},
   "outputs": [],
   "source": [
    "print(eye2, '\\n\\n', sig1, '\\n\\n', sig2, '\\n\\n', sig3)"
   ]
  },
  {
   "cell_type": "markdown",
   "id": "7ea2ccdd",
   "metadata": {},
   "source": [
    "Let's do some first matrix multiplications. In all cases we use `@` to multiply matrices and/or vectors. Check some standard results. **You fill in the rest!**"
   ]
  },
  {
   "cell_type": "code",
   "execution_count": null,
   "id": "7db94d0a",
   "metadata": {},
   "outputs": [],
   "source": [
    "sig1 @ sig1"
   ]
  },
  {
   "cell_type": "code",
   "execution_count": null,
   "id": "ee5f56fb",
   "metadata": {
    "scrolled": true
   },
   "outputs": [],
   "source": [
    "print(sig1 @ sig2)\n",
    "print(\" \")\n",
    "print(1j * sig3)"
   ]
  },
  {
   "cell_type": "code",
   "execution_count": null,
   "id": "29a26082",
   "metadata": {},
   "outputs": [],
   "source": [
    "def my_commute(A, B):\n",
    "    \"\"\"\n",
    "    Define our own commutator function.\n",
    "    \"\"\"\n",
    "    return A @ B - B @ A"
   ]
  },
  {
   "cell_type": "code",
   "execution_count": null,
   "id": "b64a6354",
   "metadata": {},
   "outputs": [],
   "source": [
    "my_commute(sig1, sig2)"
   ]
  },
  {
   "cell_type": "markdown",
   "id": "5c4a9505",
   "metadata": {},
   "source": [
    "Are the results correct?"
   ]
  },
  {
   "cell_type": "markdown",
   "id": "dde86046",
   "metadata": {},
   "source": [
    "### $3 \\times 3$ matrix examples"
   ]
  },
  {
   "cell_type": "markdown",
   "id": "c102f621",
   "metadata": {},
   "source": [
    "Here are the $S_x$ and $S_y$ matrices for spin-1 (in units where $\\hbar = 1$)."
   ]
  },
  {
   "cell_type": "code",
   "execution_count": null,
   "id": "19796e9c",
   "metadata": {},
   "outputs": [],
   "source": [
    "Sx = 1/np.sqrt(2) * np.array([[0, 1, 0], [1, 0, 1], [0, 1, 0]])\n",
    "Sy = 1/np.sqrt(2) * np.array([[0, -1j, 0], [1j, 0, -1j], [0, 1j, 0]])  # note we use \"1j\" instead of just \"j\""
   ]
  },
  {
   "cell_type": "code",
   "execution_count": null,
   "id": "5a3907a8",
   "metadata": {},
   "outputs": [],
   "source": [
    "print(Sx, '\\n\\n', Sy)   # \\n in quotes will start a new line"
   ]
  },
  {
   "cell_type": "markdown",
   "id": "5036091c",
   "metadata": {},
   "source": [
    "Let's do more matrix multipications. In all cases we use `@` to multiply matrices and/or vectors."
   ]
  },
  {
   "cell_type": "code",
   "execution_count": null,
   "id": "6760f1f3",
   "metadata": {},
   "outputs": [],
   "source": [
    "Sx @ Sy - Sy @ Sx    # Is the result equal to i times Sz"
   ]
  },
  {
   "cell_type": "markdown",
   "id": "33ecb3b3",
   "metadata": {},
   "source": [
    "Now let's get the eigenvalues (`eigvals` here) and eigenvectors (`eigvecs` here). The function `eigh` is for (complex) Hermitian matrices. The eigenvectors should be read as columns: the first element in the eigenvalue list corresponds to the first column in the eigenvector matrix."
   ]
  },
  {
   "cell_type": "code",
   "execution_count": null,
   "id": "a8cb44f8",
   "metadata": {},
   "outputs": [],
   "source": [
    "eigvals, eigvecs = np.linalg.eigh(Sx)\n",
    "print(eigvals)\n",
    "print('\\n')\n",
    "print(eigvecs)"
   ]
  },
  {
   "cell_type": "markdown",
   "id": "cad79e47",
   "metadata": {},
   "source": [
    "We can manipulate the formatting of the output for greater readability."
   ]
  },
  {
   "cell_type": "code",
   "execution_count": null,
   "id": "e9950da0",
   "metadata": {
    "scrolled": true
   },
   "outputs": [],
   "source": [
    "np.set_printoptions(precision=3, suppress=True)\n",
    "\n",
    "eigvals, eigvecs = np.linalg.eigh(Sy)\n",
    "print(eigvals)\n",
    "print('\\n')\n",
    "print(eigvecs)\n"
   ]
  },
  {
   "cell_type": "markdown",
   "id": "6d165ce8",
   "metadata": {},
   "source": [
    "The formatting is tricky because it is `0.5 + 0j`, which is easy to misread."
   ]
  },
  {
   "cell_type": "markdown",
   "id": "022d2136",
   "metadata": {},
   "source": [
    "Let's check that the eigenvectors really are eigenvectors."
   ]
  },
  {
   "cell_type": "code",
   "execution_count": null,
   "id": "f07bd2a5",
   "metadata": {
    "scrolled": true
   },
   "outputs": [],
   "source": [
    "eigvec1 = eigvecs[:,0]  # all rows (that is what : does) in the first column (which is 0)\n",
    "print(eigvec1)"
   ]
  },
  {
   "cell_type": "code",
   "execution_count": null,
   "id": "d70bd481",
   "metadata": {},
   "outputs": [],
   "source": [
    "print('check Sy @ eigenvector for first eigenvalue: ', Sy @ eigvec1)\n",
    "print('compare to first eigenvalue * eigenvector:   ', eigvals[0] * eigvec1)"
   ]
  },
  {
   "cell_type": "markdown",
   "id": "ff9082d9",
   "metadata": {},
   "source": [
    "**Test the other eigenvectors.**"
   ]
  },
  {
   "cell_type": "markdown",
   "id": "5efa7b28",
   "metadata": {},
   "source": [
    "There are eigensolvers in both `numpy.linalg` and `scipy.linalg`. For now, just pick one."
   ]
  },
  {
   "cell_type": "code",
   "execution_count": null,
   "id": "3e42d99a",
   "metadata": {
    "scrolled": true
   },
   "outputs": [],
   "source": [
    "eigvals, eigvecs = LA.eigh(Sy)\n",
    "print(eigvals)\n",
    "print('\\n')\n",
    "print(eigvecs)"
   ]
  },
  {
   "cell_type": "markdown",
   "id": "87500c40",
   "metadata": {},
   "source": [
    "Check whether $S_x$ (i.e., `Sx`) is Hermitian. We do the complex conjugate (`conjugate()`) and transpose (`T`) by hand here. We can also define our own function to do this."
   ]
  },
  {
   "cell_type": "code",
   "execution_count": null,
   "id": "58fc7a34",
   "metadata": {
    "scrolled": false
   },
   "outputs": [],
   "source": [
    "Sx - Sx.conjugate().T"
   ]
  },
  {
   "cell_type": "code",
   "execution_count": null,
   "id": "93d1246e",
   "metadata": {},
   "outputs": [],
   "source": [
    "def my_adjoint(Matrix):\n",
    "    \"\"\"\n",
    "    Return the complex-conjugate tranpose of the input Matrix. \n",
    "    \"\"\"\n",
    "    return Matrix.conjugate().T"
   ]
  },
  {
   "cell_type": "code",
   "execution_count": null,
   "id": "f3a4e7fa",
   "metadata": {
    "scrolled": true
   },
   "outputs": [],
   "source": [
    "Sy - my_adjoint(Sy)"
   ]
  },
  {
   "cell_type": "code",
   "execution_count": null,
   "id": "16881c33",
   "metadata": {},
   "outputs": [],
   "source": [
    "Sz = np.array([[1, 0, 0],[0, 0, 0], [0, 0, -1]])"
   ]
  },
  {
   "cell_type": "markdown",
   "id": "1c16fece",
   "metadata": {},
   "source": [
    "Check $(\\sigma_1^2 + \\sigma_2^2 + \\sigma_3^2)/2$"
   ]
  },
  {
   "cell_type": "code",
   "execution_count": null,
   "id": "8b99fa21",
   "metadata": {
    "scrolled": true
   },
   "outputs": [],
   "source": [
    "1/2 * (Sx@Sx + Sy@Sy + Sz@Sz)"
   ]
  },
  {
   "cell_type": "markdown",
   "id": "3c809489",
   "metadata": {},
   "source": [
    "### Inner and outer product\n",
    "\n",
    "More useful operations!"
   ]
  },
  {
   "cell_type": "code",
   "execution_count": null,
   "id": "3399f20b",
   "metadata": {},
   "outputs": [],
   "source": [
    "a = np.array([1,2,3])\n",
    "b = np.array([-1,1,0])\n",
    "print( a @ b )\n",
    "print( np.inner(a, b))"
   ]
  },
  {
   "cell_type": "code",
   "execution_count": null,
   "id": "f72cb55a",
   "metadata": {},
   "outputs": [],
   "source": [
    "print( np.outer(b, a))"
   ]
  },
  {
   "cell_type": "markdown",
   "id": "a3f63c25",
   "metadata": {},
   "source": [
    "### Trace and determinant"
   ]
  },
  {
   "cell_type": "markdown",
   "id": "bc4b9f05",
   "metadata": {},
   "source": [
    "Make a random matrix and take it's trace and determinant."
   ]
  },
  {
   "cell_type": "code",
   "execution_count": null,
   "id": "78b5c13d",
   "metadata": {},
   "outputs": [],
   "source": [
    "M1 = np.random.rand(2,2)\n",
    "print(M1)"
   ]
  },
  {
   "cell_type": "code",
   "execution_count": null,
   "id": "e6278690",
   "metadata": {},
   "outputs": [],
   "source": [
    "np.trace(M1)"
   ]
  },
  {
   "cell_type": "code",
   "execution_count": null,
   "id": "0d59e95f",
   "metadata": {},
   "outputs": [],
   "source": [
    "np.linalg.det(M1)"
   ]
  },
  {
   "cell_type": "markdown",
   "id": "53dc2377",
   "metadata": {},
   "source": [
    "## Reproduce some results from Problem Set 2, problem 5 \n",
    "\n",
    "In problem 5 on problem set 2 you looked at the matrix representations of two operators $\\hat A$ and $\\hat B$. Takes the real numbers $a$ and $b$ to be 1 and 2, respectively.\n",
    "\n",
    "(a) Create the matrices $A$ and $B$ as numpy arrays.\n",
    "\n",
    "(b) Show that they commute.\n",
    "\n",
    "(c) Find eigenvalues and eigenvectors of each. Do the eigenvectors correspond to simultaneous eigenkets?"
   ]
  },
  {
   "cell_type": "code",
   "execution_count": null,
   "id": "9835706b",
   "metadata": {},
   "outputs": [],
   "source": []
  }
 ],
 "metadata": {
  "kernelspec": {
   "display_name": "Python [conda env:7501-env] *",
   "language": "python",
   "name": "conda-env-7501-env-py"
  },
  "language_info": {
   "codemirror_mode": {
    "name": "ipython",
    "version": 3
   },
   "file_extension": ".py",
   "mimetype": "text/x-python",
   "name": "python",
   "nbconvert_exporter": "python",
   "pygments_lexer": "ipython3",
   "version": "3.10.6"
  }
 },
 "nbformat": 4,
 "nbformat_minor": 5
}
