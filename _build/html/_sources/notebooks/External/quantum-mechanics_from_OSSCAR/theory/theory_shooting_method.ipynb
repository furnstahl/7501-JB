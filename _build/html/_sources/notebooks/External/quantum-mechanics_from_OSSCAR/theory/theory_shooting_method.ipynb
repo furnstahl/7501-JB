{
 "cells": [
  {
   "cell_type": "markdown",
   "id": "64f756d7-c807-4e0f-8691-82356ebca15b",
   "metadata": {},
   "source": [
    "# **Background Theory**: Shooting Method with Numerov Algorithm to Solve the Time Independent Schrödinger Equation for 1D Quantum Well\n",
    "\n",
    "<i class=\"fa fa-book fa-2x\"></i><a href=\"../shooting_method.ipynb\" style=\"font-size: 20px\"> Go back to the interactive notebook</a>\n",
    "\n",
    "**Source code:** https://github.com/osscar-org/quantum-mechanics/blob/develop/notebook/quantum-mechanics/theory/theory_shooting_method.ipynb\n",
    "\n",
    "<hr style=\"height:1px;border:none;color:#cccccc;background-color:#cccccc;\" />"
   ]
  },
  {
   "cell_type": "markdown",
   "id": "3c1b972d-fe77-478f-b267-510b53ebdaa0",
   "metadata": {},
   "source": [
    "## **Introduction**\n",
    "\n",
    "The Schrödinger equation is an ordinary differential equation (ODE) of second order,\n",
    "where the 1st-order term does not appear. Numerov algorithm is a numerical method to\n",
    "solve this kind of ODEs. One can calculate the wavefunction for any given eigenvalue by\n",
    "the Numerov algorithm. However, not all wavefunctions can meet the boundary condition,\n",
    "which wavefunctions should converge to zero at both far ends.\n",
    "Therefore, one needs to keep one end at zero and evolute the wavefunction to the other\n",
    "end by the Numerov algorithm. One can obtain the \"trajectories\" (the calculated \n",
    "wavefunctions) for different given eigenvalues. The procedure is similar to shooting.\n",
    "Only the trajectories which converge to zero at both sides are the true wavefunctions.\n",
    "We call this method the \"shooting method\"."
   ]
  },
  {
   "cell_type": "markdown",
   "id": "d75599fa-48ac-46f9-9e77-fe0ec7aae365",
   "metadata": {},
   "source": [
    "## **Numerov algorithm**\n",
    "\n",
    "The time independent Schrödinger equation (TISE) is:   \n",
    "\n",
    "$$\\large \\left[\n",
    "  -\\dfrac{\\hslash^2}{2m} \\, \\dfrac{\\partial^2}{\\partial x^{2}} + V\\right] \\psi(x) = E\\psi(x) \\quad (1)$$\n",
    "  \n",
    "We can rewrite the TISE as:  \n",
    "\n",
    "$$\\large  \\dfrac{\\partial^2}{\\partial x^{2}} \\psi(x) = -\\dfrac{2m}{\\hslash^2} \\left[E-V\\right]\\psi(x) \\quad (2)$$\n",
    "\n",
    "For one dimensional system, the second-derivative can be evaluated numerically. \n",
    "\n",
    "$$\\large \\psi ''(x_{i})= \\dfrac{1}{\\delta x^2}\\left[ \\psi(x_{i+x})-2\\psi(x_i)+\\psi(x_{i-1}) \\right] \\quad (3)$$\n",
    "\n",
    "One can also include the 4th derivative to increase the accuracy.\n",
    "\n",
    "$$\\large \\psi ''(x_{i})= \\dfrac{1}{\\delta x^2}\\left[ \\psi(x_{i+x})-2\\psi(x_i)+\\psi(x_{i-1}) \\right]- \\dfrac{\\delta x^2}{12} \\psi(x_i)^{(4)} \\quad (4)$$\n",
    "\n",
    "Substituting equation 4 or 3 into equation 2, one can solve the eigenfunctions\n",
    "iteratively for any given eigenvalue E. However, the values of the first two \n",
    "starting points are unknown. For the square well potential as shown below, \n",
    "we can assume $\\psi(x_0)$ is zero and $\\psi(x_1)$ is a very small positive \n",
    "(or negative) number."
   ]
  },
  {
   "cell_type": "markdown",
   "id": "77d79d35-5bd4-4892-b132-1ded801cc6e1",
   "metadata": {},
   "source": [
    "## **Shooting method**\n",
    "\n",
    "\"In numerical analysis, the shooting method is a method for solving a boundary \n",
    "value problem by reducing it to the system of an initial value problem. \n",
    "Roughly speaking, we 'shoot' out trajectories in different directions until \n",
    "we find a trajectory that has the desired boundary value.\" -- cite from <a href=\"https://en.wikipedia.org/wiki/Shooting_method\">Wikipedia</a>.\n",
    "\n",
    "When numerically solving the equation from left to right, we need to make \n",
    "sure the boundary condition is also fulfilled at the right edge, which is\n",
    "$\\psi(x_{+\\infty})=0$. As mentioned above, one can try any value for the \n",
    "eigenvalue E. But only the true eigenvalue will lead to the solved wavefunction\n",
    "converge to zero at the right side. Through scanning the eigenvalues and \n",
    "monitoring the solved function on the right edge, we can approach the true\n",
    "eigenfunction and eigenvalue. This numerical method is called the shooting method.\n",
    "    \n",
    "<div class=\"container\" style=\"text-align: center; width: 400px;\">\n",
    "  <img src=\"../images/shooting_method.png\" alt=\"Shooting method\" class=\"image\">\n",
    "  <div class=\"overlay\">\n",
    "      Figure adported from book \"Introduction to Quantum Mechanics with \n",
    "      Applications to Chemistry (Linus Pauling and E. Bright Wilson)\".</div>\n",
    "</div>"
   ]
  },
  {
   "cell_type": "code",
   "execution_count": null,
   "id": "89c913eb-8494-4dbd-ae94-dad7ca7dd640",
   "metadata": {},
   "outputs": [],
   "source": []
  }
 ],
 "metadata": {
  "kernelspec": {
   "display_name": "Python 3 (ipykernel)",
   "language": "python",
   "name": "python3"
  },
  "language_info": {
   "codemirror_mode": {
    "name": "ipython",
    "version": 3
   },
   "file_extension": ".py",
   "mimetype": "text/x-python",
   "name": "python",
   "nbconvert_exporter": "python",
   "pygments_lexer": "ipython3",
   "version": "3.8.8"
  }
 },
 "nbformat": 4,
 "nbformat_minor": 5
}
