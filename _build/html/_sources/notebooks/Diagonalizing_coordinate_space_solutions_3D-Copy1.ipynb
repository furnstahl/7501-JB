{
 "cells": [
  {
   "cell_type": "code",
   "execution_count": 29,
   "id": "dbd950a3",
   "metadata": {},
   "outputs": [],
   "source": [
    "def get_eigvals(ell, beta, num_eigs=5):\n",
    "    \"\"\"\n",
    "    Get the first num_eigs eigenvalues for specified ell and beta \n",
    "    \"\"\"\n",
    "    hbar = 1\n",
    "    mass = 1\n",
    "    a = 1\n",
    "\n",
    "    V_spherical = Three_D_spherical_box(r_mesh, ell, a, beta, \n",
    "                                        mass=mass, hbar=hbar)\n",
    "    Hamiltonian = -hbar**2/(2*mass) * second_deriv + V_spherical\n",
    "    # Diagonalize using numpy functions\n",
    "    eigvals, eigvecs = np.linalg.eigh(Hamiltonian)\n",
    "\n",
    "    return eigvals[0:num_eigs]"
   ]
  },
  {
   "cell_type": "code",
   "execution_count": 32,
   "id": "14a4ef93",
   "metadata": {},
   "outputs": [
    {
     "name": "stdout",
     "output_type": "stream",
     "text": [
      " orbital angular momentum l = 0\n",
      " beta   5 * [eigenvalue   sqrt(eig*2ma^2/hbar^2)]\n",
      "    4    3.053  2.471   8.264  4.065   9.011  4.245  10.138  4.503  11.632  4.823  \n",
      "   10    4.054  2.848  16.073  5.670  35.363  8.410  50.298  10.030  51.183  10.118  \n",
      "   25    4.545  3.015  18.170  6.028  40.841  9.038  72.494  12.041 113.015  15.034  \n",
      "  100    4.819  3.105  19.278  6.209  43.374  9.314  77.106  12.418 120.473  15.522  \n",
      " 1000    4.905  3.132  19.619  6.264  44.143  9.396  78.475  12.528 122.616  15.660  \n",
      " \n",
      " orbital angular momentum l = 1\n",
      " beta   5 * [eigenvalue   sqrt(eig*2ma^2/hbar^2)]\n",
      "    4    6.022  3.470   8.449  4.111   9.421  4.341  10.912  4.672  12.857  5.071  \n",
      "   10    8.293  4.073  24.186  6.955  46.268  9.620  50.451  10.045  51.451  10.144  \n",
      "   25    9.319  4.317  27.524  7.419  54.766  10.466  90.964  13.488 135.966  16.490  \n",
      "  100    9.884  4.446  29.214  7.644  58.201  10.789  96.848  13.917 145.152  17.038  \n",
      " 1000   10.059  4.485  29.732  7.711  59.235  10.884  98.571  14.041 147.739  17.189  \n",
      " \n"
     ]
    }
   ],
   "source": [
    "betas = np.array([4, 10, 25, 100, 1000])\n",
    "num_eigs = 5\n",
    "\n",
    "for ell in [0, 1]:\n",
    "    print(f' orbital angular momentum l = {ell}')\n",
    "    print(f' beta   {num_eigs} * [eigenvalue   sqrt(eig*2ma^2/hbar^2)]')\n",
    "    for beta in betas:\n",
    "        print(f' {beta:4.0f} ', end =\" \")\n",
    "        eigs = get_eigvals(ell, beta, num_eigs)\n",
    "        for i in range(num_eigs):\n",
    "            print(f'{eigs[i]:7.3f} ', \\\n",
    "                  f'{np.sqrt(eigs[i]*2*mass*a**2/hbar**2):5.3f}', \n",
    "                  end =\" \")\n",
    "        print(' ')    \n",
    "    print(' ')"
   ]
  }
 ],
 "metadata": {
  "kernelspec": {
   "display_name": "Python 3 (ipykernel)",
   "language": "python",
   "name": "python3"
  },
  "language_info": {
   "codemirror_mode": {
    "name": "ipython",
    "version": 3
   },
   "file_extension": ".py",
   "mimetype": "text/x-python",
   "name": "python",
   "nbconvert_exporter": "python",
   "pygments_lexer": "ipython3",
   "version": "3.10.6"
  }
 },
 "nbformat": 4,
 "nbformat_minor": 5
}
