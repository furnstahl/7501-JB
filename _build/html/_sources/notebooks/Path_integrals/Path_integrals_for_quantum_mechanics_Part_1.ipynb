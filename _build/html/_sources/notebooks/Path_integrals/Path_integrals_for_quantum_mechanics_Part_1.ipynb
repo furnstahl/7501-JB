{
 "cells": [
  {
   "cell_type": "markdown",
   "metadata": {},
   "source": [
    "# Path integrals for quantum mechanics: Part 1"
   ]
  },
  {
   "cell_type": "markdown",
   "metadata": {},
   "source": [
    "The original reference here is Peter Lepage's lectures entitled *Lattice QCD for Novices*, available as [arXiv:hep-lat/0506036](https://arxiv.org/abs/hep-lat/0506036). The starting point of those lectures is one-dimensional quantum mechanics and that is where we focus our attention. The aim for Part 1 is to implement the calculations outlined by Lepage (updating some of the included Python code). In Part 2 we'll switch to using some of the standard libraries for Markov Chain Monte Carlo (MCMC) designed for Bayesian inference."
   ]
  },
  {
   "cell_type": "markdown",
   "metadata": {},
   "source": [
    "## Path integral basics"
   ]
  },
  {
   "cell_type": "markdown",
   "metadata": {},
   "source": [
    "### Formal aspects\n",
    "\n",
    "We start with a path integral representation for an imaginary-time evolution between position eigenstates in one spatial dimension:\n",
    "\n",
    "$$\n",
    "  \\langle x_f | e^{-\\widehat H(\\tau_f - \\tau_i)} | x_i \\rangle = \\int \\mathcal{D}x(\\tau)\\, e^{-S[x(\\tau)]}\n",
    "$$ \n",
    "\n",
    "where $\\tau = it$ and\n",
    "\n",
    "$$\n",
    "  \\mathcal{D}x(\\tau) \\longrightarrow \\mbox{sum over paths } \\{x(\\tau) \\mbox{ where } \\tau_i \\leq \\tau \\leq \\tau_f\\}\n",
    "  \\mbox{ with } x_i = x(\\tau_i),\\ x_f = x(\\tau_f) .\n",
    "$$\n",
    "\n",
    "The Hamiltonian is $\\widehat H$ and $S[x(\\tau)]$ is the classical action evaluated for path $x(\\tau)$:\n",
    "\n",
    "$$\n",
    "  S[x(\\tau)] \\equiv \\int_{\\tau_i}^{\\tau_f} d\\tau\\, L(x,\\dot x; \\tau)\n",
    "    = \\int_{\\tau_i}^{\\tau_f} d\\tau\\, \\biggl[\\frac{1}{2}m \\dot x(\\tau)^2 + V(x(\\tau))\\biggr] .\n",
    "$$\n",
    "\n",
    "This is the *Euclidean* version of $S$ and the Lagrangian $L$, which is why the relative sign of the kinetic and potential terms is positive (i.e., $L = T_E + V$ rather than $L = T - V$)."
   ]
  },
  {
   "cell_type": "markdown",
   "metadata": {},
   "source": [
    "If we insert on the left side of the matrix element above a complete set of exact eigenstates of $\\widehat H$ (labeled by $n$), namely\n",
    "\n",
    "$$\n",
    "   \\mathbb{1} = \\sum_n |E_n\\rangle \\langle E_n| \n",
    "   \\quad\\mbox{where}\\quad \\widehat H |E_n\\rangle = E_n |E_n\\rangle ,\n",
    "$$\n",
    "\n",
    "then we can use $e^{-\\widehat H (\\tau_f - \\tau_i)}|E_n\\rangle = e^{-E_n(\\tau_f-\\tau_i)}|E_n\\rangle$ (which follows after a power series expansion of the exponential) to obtain\n",
    "\n",
    "$$\n",
    "  \\langle x_f | e^{-\\widehat H(\\tau_f - \\tau_i)} | x_i \\rangle \n",
    "     = \\sum_n \\langle x_f |E_n\\rangle e^{-E_n(\\tau_f-\\tau_i)} \\langle E_n | x_i\\rangle ,\n",
    "$$\n",
    "\n",
    "which involves both the wave functions and energy eigenvalues. Because $E_0 < E_{n\\neq 0}$, we can take $T \\equiv \\tau_f - \\tau_i \\rightarrow \\infty$ to isolate the first terms (all the others are suppressed exponentially relative to the first). We have the freedom to take $x_f = x_i \\equiv x$, which yields in the large time limit:\n",
    "\n",
    "$$\n",
    "  \\langle x | e^{-\\widehat H T} | x \\rangle \\overset{T\\rightarrow\\infty}{\\longrightarrow}\n",
    "    e^{-E_0 T} |\\langle x | E_0\\rangle|^2 .\n",
    "$$\n",
    "\n",
    "The wavefunction $\\psi_{E_0}(x) = \\langle x|E_0\\rangle$ is normalized, so\n",
    "\n",
    "$$\n",
    "  \\int_{-\\infty}^{\\infty} \\langle x | e^{-\\widehat H T} | x \\rangle \\overset{T\\rightarrow\\infty}{\\longrightarrow}\n",
    "    e^{-E_0 T} \n",
    "$$    \n",
    "\n",
    "and we get the energy (then we can go back and divide out this factor to get the wave function squared).\n",
    "\n",
    "To derive the path integral formally, we divide up the Euclidean time interval from $\\tau_i$ to $\\tau_f$ into little intervals of width $\\Delta \\tau$ and insert a complete set of $x$ states at each time. This enables us to approximate $e^{-\\widehat H\\Delta\\tau}$ in each interval. In a full derivation we would insert both momentum and coordinate states and evaluate the matrix element of $\\widehat H(\\hat p,\\hat x)$. The small $\\Delta\\tau$ lets us neglect the commutator between $\\hat p$ and $\\hat x$ as higher order (proportional to $\\Delta\\tau^2$) If we then do all the momentum integrals, we get the path integral over $\\mathcal{D}x(\\tau)$. "
   ]
  },
  {
   "cell_type": "markdown",
   "metadata": {},
   "source": [
    "### Numerical implementation\n",
    "\n",
    "In the formal discussion of path integrals, a path is defined at every continuous point in Euclidan time $\\tau$, but to represent this on a computer (and actually make a sensible definition), we discretize the time:\n",
    "\n",
    "$$  \n",
    "  \\tau_i \\leq \\tau \\leq \\tau_f \\quad\\longrightarrow\\quad \\tau_j = \\tau_i + j a \\ \\mbox{for }j = 0,\\ldots,N\n",
    "$$\n",
    "\n",
    "with grid (mesh) spacing $a$:\n",
    "\n",
    "$$\n",
    "   a \\equiv \\frac{\\tau_f - \\tau_i}{N} .\n",
    "$$\n",
    "\n",
    "A path is then a list of numbers:\n",
    "\n",
    "$$\n",
    "   x(\\tau)\\rightarrow \\{x(\\tau_0), x(\\tau_1), \\ldots, x(\\tau_{N-1})\\}\n",
    "$$\n",
    "\n",
    "and the integration over all paths becomes a conventional multiple integral over the values of $x_j$ at each $\\tau_j$ for $1 \\leq j \\leq N-1$:\n",
    "\n",
    "$$\n",
    "   \\int \\mathcal{D}x(\\tau) \\longrightarrow A \\int_{-\\infty}^{\\infty} dx_1 \\int_{-\\infty}^{\\infty} dx_2\n",
    "     \\cdots \\int_{-\\infty}^{\\infty} dx_{N-1} .\n",
    "$$\n",
    "\n",
    "The endpoints $x_0$ and $x_N$ are determined by the boundary conditions (e.g., $x_0 = x_N = x$ as used above). If we need the normalization $A$ (which we often won't because it will drop out of ratios), then for the one-dimensional problems here it is\n",
    "\n",
    "$$\n",
    "    A = \\left(\\frac{m}{2\\pi a}\\right)^{N/2} .\n",
    "$$\n",
    "\n",
    "We will need an approximation to the action. Here is one choice for $\\tau_{j} \\leq \\tau \\leq \\tau_{j+1}$:\n",
    "\n",
    "$$\n",
    "  \\int_{\\tau_{j}}^{\\tau_{j+1}} d\\tau\\, L \\approx\n",
    "    a \\left[ \\frac{m}{2} \\left(\\frac{x_{j+1}-x_{j}}{a}\\right)^2 \n",
    "             + \\frac{1}{2} \\bigl( V(x_{j+1}) + V(x_{j}) \\bigr)\n",
    "      \\right]\n",
    "$$\n",
    "\n",
    "Now we have\n",
    "\n",
    "$$\n",
    "  \\langle x | e^{-\\widehat H \\tau} | x \\rangle \\approx\n",
    "    A \\int_{-\\infty}^{\\infty} dx_1 \\int_{-\\infty}^{\\infty} dx_2\n",
    "     \\cdots \\int_{-\\infty}^{\\infty} dx_{N-1} e^{-S_{\\rm lat}[x]}\n",
    "$$\n",
    "\n",
    "where\n",
    "\n",
    "$$\n",
    "   S_{\\rm lat}[x] \\equiv \\sum_{j=0}^{N-1} \n",
    "     \\left[  \n",
    "      \\frac{m}{2a}(x_{j+1}-x_{j})^2 + a V(x_j)\n",
    "     \\right]\n",
    "$$\n",
    "\n",
    "with $x_0 = x_N = x$ and $a = T/N$.\n",
    "\n",
    "Comments:\n",
    "* One might worry about the discretization of the derivatives, because of the range of the $x_{j}$'s: adjacent points can be arbitrarily far away (the paths can be arbitrarily \"rough\"). "
   ]
  },
  {
   "cell_type": "markdown",
   "metadata": {},
   "source": [
    "### Other matrix elements\n",
    "\n",
    "Suppose we wanted a Euclidean expectation value:\n",
    "\n",
    "$$\n",
    "  \\langle\\langle x(\\tau_2)x(\\tau_1) \\rangle\\rangle\n",
    "   \\equiv \\frac{\\int \\mathcal{D}x(\\tau)\\, x(\\tau_2)x(\\tau_1)\\,e^{-S[x]}}{\\int \\mathcal{D}x(\\tau)\\, e^{-S[x]}}\n",
    "$$\n",
    "\n",
    "where there is an integration over $x_i = x_f = x$ as well as over the intermediate $x(t)$'s. Note that we are calculating a weighted average of $x(\\tau_2)x(\\tau_1)$ over all paths, where the weighting factor is $e^{-S[x]}$. This means that for every path, we take the values of $x$ at $\\tau_2$ and $\\tau_1$ and multiply them together, with the weight $e^{-S[x]}$ that involves the entire path.\n",
    "\n",
    "In the continuum form, the right side is\n",
    "\n",
    "$$\n",
    "  \\int dx\\, \\langle x| e^{-\\widehat H(\\tau_f-\\tau_2)} \\hat x e^{-\\widehat H(\\tau_2-\\tau_1)}\n",
    "    \\hat x e^{-\\widehat H(\\tau_1-\\tau_i)} | x \\rangle ,\n",
    "$$\n",
    "\n",
    "so with $T = \\tau_f - \\tau_i$ and $\\tau = \\tau_2 - \\tau_1$, we can insert our complete set of eigenstates to derive\n",
    "\n",
    "$$\n",
    "    \\langle\\langle x(\\tau_2)x(\\tau_1) \\rangle\\rangle =\n",
    "    \\frac{\\sum_n e^{-E_n T} \\langle E_n | \\hat x e^{-(\\widehat H-E_n)\\tau}\\hat x | E_n\\rangle}{\\sum_n e^{-E_n T}}\n",
    "$$\n",
    "\n",
    "Once again, for large $T$ the ground state will dominate the sums, so\n",
    "\n",
    "$$\n",
    "  G(\\tau) \\equiv \\langle\\langle x(\\tau_2)x(\\tau_1) \\rangle\\rangle \\longrightarrow\n",
    "     \\langle E_0 | \\hat x e^{-(\\widehat H - E_0)\\tau} \\hat x | E_0 \\rangle .\n",
    "$$\n",
    "\n",
    "But what state propagates in the middle? It could be any created by $\\hat x$ acting on the ground state. But this doesn't *include* the ground state because $\\hat x$ switches the parity of the state (from even to odd). We can insert a complete set of states again, and if $\\tau \\ll T$ is large itself, then the first excited state $|E_1\\rangle$ will be projected out:\n",
    "\n",
    "$$\n",
    "  G(\\tau) \\overset{\\tau\\ {\\rm large}}{\\longrightarrow} |\\langle E_0 | \\hat x | E_1 \\rangle|^2\n",
    "    e^{-(E_1-E_0)\\tau} .\n",
    "$$\n",
    "\n",
    "Given $G(\\tau)$, we can use the $\\tau$ dependence of the exponential (and $\\tau$ independence of the squared matrix element) to isolate the excitation energy and then the matrix element:\n",
    "\n",
    "$$\\begin{align}\n",
    "  \\log(G(\\tau)/G(\\tau+a) &\\overset{\\tau\\ {\\rm large}}{\\longrightarrow} (E_1 - E_0)a \\\\\n",
    "  |\\langle E_0 | \\hat x | E_1 \\rangle|^2 &\\overset{\\tau\\ {\\rm large}}{\\longrightarrow} G(\\tau)e^{+(E_1-E_0)\\tau} \n",
    "\\end{align}$$\n",
    "\n",
    "We can, in principle, generalize to an arbitrary function of $x$, call it $\\Gamma[x]$, and compute any physical property of the excited states. We can also compute thermal averages at finite $T$:\n",
    "\n",
    "$$\n",
    "  \\langle\\langle \\Gamma[x] \\rangle\\rangle = \n",
    "    \\frac{\\sum_n e^{-E_n T} \\langle E_n | \\Gamma[\\hat x] | E_n\\rangle}{\\sum_n e^{-E_n T}}\n",
    "    \\quad\\mbox{with } T \\rightarrow \\beta \\equiv \\frac{1}{k_B T_{\\rm temp}} .\n",
    "$$    "
   ]
  },
  {
   "cell_type": "markdown",
   "metadata": {},
   "source": [
    "### Numerical evaluation with MCMC\n",
    "\n",
    "The idea of the Monte Carlo evaluation of\n",
    "\n",
    "$$\n",
    " \\langle\\langle \\Gamma[x] \\rangle\\rangle = \n",
    "   \\frac{\\int\\mathcal{D}x(\\tau)\\, \\Gamma[x]e^{-S[x]}}{\\int\\mathcal{D}x(\\tau)\\, e^{-S[x]}}\n",
    "$$\n",
    "\n",
    "is that this is a weighted average of $\\Gamma[x]$ over paths, so if we generate a set of paths that are distributed according to $e^{-S[x]}$ (that is, the relative probability of a given path is proportional to this factor), then we can just do a direct average of $\\Gamma[x]$ over this set.\n",
    "\n",
    "To be explicit, we will generate a large number $N_{\\rm cf}$ of random paths (\"configurations\" or cf)\n",
    "\n",
    "$$\n",
    "    x^{(\\alpha)} \\equiv \\{ x_0^{(\\alpha)}, x_1^{(\\alpha)}, \\ldots, x_{N-1}^{(\\alpha)} \\}\n",
    "      \\quad \\alpha = 1,2,\\ldots N_{\\rm cf}\n",
    "$$\n",
    "\n",
    "on the time grid such that the probability of getting a particular path $x^{(\\alpha)}$ is\n",
    "\n",
    "$$\n",
    "     P[x^{(\\alpha)}] \\propto e^{-S[x^{(\\alpha)}]} .\n",
    "$$\n",
    "\n",
    "Then \n",
    "\n",
    "$$\n",
    "   \\langle\\langle \\Gamma[x] \\rangle\\rangle \\approx \\overline\\Gamma \\equiv\n",
    "       \\frac{1}{N_{\\rm cf}}\\sum_{\\alpha=1}^{N_{\\rm cf}} \\Gamma[x^{(\\alpha)}] .\n",
    "$$\n",
    "\n",
    "This is equivalent to approximating the probability distribution as\n",
    "\n",
    "$$\n",
    "     P[x] \\approx \\frac{1}{N_{\\rm cf}}\\sum_{\\alpha=1}^{N_{\\rm cf}} \\delta(x - x^{(\\alpha)}) . \n",
    "$$\n",
    "\n",
    "where the delta function is the product of delta functions for each of the $x_j$'s. Note that this representation is automatically normalized simply by including the $1/N_{\\rm cf}$ factor."
   ]
  },
  {
   "cell_type": "markdown",
   "metadata": {},
   "source": [
    "How good is the estimate? With a finite number of paths $N_{\\rm cf}$ there is clearly a statistical error $\\sigma_{\\overline\\Gamma}$, which he can estimate by calculating the variance using are set of paths:\n",
    "\n",
    "$$\n",
    "  \\sigma_{\\overline\\Gamma}^2 = \\frac{\\langle\\langle \\Gamma^2 \\rangle\\rangle - \\langle\\langle  \\Gamma\\rangle\\rangle^2}{N_{\\rm cf}}\n",
    "  \\approx \\frac{1}{N_{\\rm cf}} \\left\\{  \n",
    "      \\frac{1}{N_{\\rm cf}} \\sum_{\\alpha=1}^{N_{\\rm cf}} \\Gamma^2[x^{(\\alpha)}] - \\overline\\Gamma^2\n",
    "  \\right\\} .\n",
    "$$\n",
    "\n",
    "The numerator for large $N_{\\rm cf}$ is independent of $N_{\\rm cf}$ (e.g., it can be calculated directly, in principle, from quantum mechanics), so the error decreases as $\\sigma_{\\overline\\Gamma} \\propto 1/\\sqrt{N_{\\rm cf}}$ with increasing $N_{\\rm cf}$.\n",
    "\n",
    "We can use Markov Chain Monte Carlo (MCMC) to generate our sample of paths, first by the Metropolis algorithm and then by more sophisticated methods. Starting from an arbitrary path $x^{(0)}$, we generate a series of subsequent paths by considering each lattice site in turn, randomizing the $x_j$'s at these sites according to the algorithm, to generate a new path, and then repeat until we have $N_{\\rm cf}$ random paths. The Metropolis algorithm applied to $x_j$ at the $j^{\\rm th}$ site is:\n",
    "* generate a random number $\\zeta \\sim U(-\\epsilon,\\epsilon)$, that is $\\zeta$ is uniformly distributed from $-\\zeta$ to $+\\zeta$, for a constant *step size* $\\epsilon$ (see later);\n",
    "* replace $x_j \\rightarrow x_j + \\zeta$ and compute the change $\\Delta S$ in the action as a result of this replacement (local Lagrangian means this only requires considering a few terms);\n",
    "* if $\\Delta S < 0$ (action reduced) then retain new $x_j$ and move to the next site;\n",
    "* if $\\Delta S > 0$, generate a random number $\\eta \\sim U(0,1)$ (uniform from 0 to 1) and retain the new $x_j$ if $e^{-\\Delta S} > \\eta$, else restore the old $x_j$; move to the next site.\n",
    "\n",
    "Comments:\n",
    "* Whether or not many of the $x_j$'s do not change in successive paths depends a lot on $\\epsilon$. If $\\epsilon$ is very large, then the changes in $x_j$ are large and many or most will be rejected; if $\\epsilon$ is very small, then the changes in $x_j$ are small and most will be accepted, but the path will be close to the same.\n",
    "* Neither situation is good: both slow down the exploration of the space of important paths.\n",
    "* Claim: usually tune $\\epsilon$ so 40% to 60% of the $x_j$'s change on each sweep. This implies that $\\epsilon$ is the same order as the typical quantum fluctuations expected.\n",
    "* Because the paths take time to get decorrelated, we should only keep every $N_{\\rm cor}$ path. The optimal value can be determined empirically; here the optimal $N_{\\rm cor}$ depends on $a$ as $1/a^2$.\n",
    "* When starting the algorithm, the first configuration is atypical (usually). So we should have a thermalization period where the first paths are discarded. Recommendation: five to ten times $N_{\\rm cor}$ should be discarded."
   ]
  },
  {
   "cell_type": "markdown",
   "metadata": {},
   "source": [
    "### Higher-order discretization\n",
    "\n",
    "Suppose we rewrite the action for one-dimensional quantum mechanics by integrating the kinetic term by parts (assuming $x(\\tau_i)=x(\\tau_f)=x$:\n",
    "\n",
    "$$\n",
    "  S[x] \\equiv \\int_{\\tau_i}^{\\tau_f} d\\tau\\, \\bigl[-\\frac{1}{2}m x(\\tau)\\ddot x(\\tau) + V(x(\\tau))\\bigr]\n",
    "$$\n",
    "\n",
    "The discretization is\n",
    "\n",
    "$$\n",
    "  \\ddot x(t) \\longrightarrow \\Delta^{(2)}x_j \\equiv \\frac{x_{j+1}-2x_{j}+x_{j-1}}{a^2}\n",
    "$$\n",
    "\n",
    "where the $x_j$'s wrap around at the ends: $x_0 = x_{N}$, $x_{-1} = x_{N-1}$, and so on. "
   ]
  },
  {
   "cell_type": "markdown",
   "metadata": {},
   "source": [
    "## Python imports\n",
    "\n",
    "First we import standard Python functions."
   ]
  },
  {
   "cell_type": "code",
   "execution_count": 1,
   "metadata": {
    "scrolled": true
   },
   "outputs": [],
   "source": [
    "import numpy as np   # use np as shorthand for the numpy package\n",
    "from numpy.random import uniform, normal   # two random number generators, one uniform and one Gaussian\n",
    "from scipy import integrate   # import functions for integration over arrays\n",
    "\n",
    "import matplotlib.pyplot as plt  # basic plotting package\n",
    "import seaborn as sns; sns.set_style(\"darkgrid\"); sns.set_context(\"talk\")  # set up for better looking plots\n"
   ]
  },
  {
   "cell_type": "markdown",
   "metadata": {},
   "source": [
    "## Classes and functions for path integrals\n",
    "\n",
    "These are from Lepage's lectures. Not yet incorporated here."
   ]
  },
  {
   "cell_type": "markdown",
   "metadata": {},
   "source": [
    "## 1-d potential class"
   ]
  },
  {
   "cell_type": "code",
   "execution_count": 31,
   "metadata": {},
   "outputs": [],
   "source": [
    "class Potential:\n",
    "    \"\"\"\n",
    "    A general class for nonrelativistic one-dimensional potentials\n",
    "    \n",
    "    Parameters\n",
    "    ----------\n",
    "    hbar : float\n",
    "        Planck's constant. Equals 1 by default\n",
    "    mu : float\n",
    "        Reduced mass. Equals 1 by default\n",
    "\n",
    "    Methods\n",
    "    -------\n",
    "    V(x)\n",
    "        Returns the value of the potential at x.\n",
    "    \n",
    "    E_gs\n",
    "        Returns the analytic ground-state energy, if known\n",
    "        \n",
    "    wf_gs(x)\n",
    "        Returns the analytic ground-state wave function, if known\n",
    "        \n",
    "    plot_V(ax, x_pts)\n",
    "        Plots the potential at x_pts on ax\n",
    "    \"\"\"\n",
    "    def __init__(self, hbar=1., mu=1., V_string=''):\n",
    "        self.hbar = hbar\n",
    "        self.mu = mu\n",
    "        self.V_string = V_string\n",
    "        print(self.hbar)\n",
    "        \n",
    "    def V(self, x):\n",
    "        \"\"\"\n",
    "        Potential at x\n",
    "        \"\"\"\n",
    "        print('The potential is not defined.') \n",
    "        \n",
    "    def E_gs(self):\n",
    "        \"\"\"\n",
    "        analytic ground state energy, if known\n",
    "        \"\"\"\n",
    "        print('The ground state energy is not known analytically.') \n",
    "        \n",
    "    def wf_gs(self, x):\n",
    "        \"\"\"\n",
    "        analytic ground state wave function, if known\n",
    "        \"\"\"\n",
    "        print('The ground state wave function is not known analytically.')\n",
    "        \n",
    "    def plot_V(self, ax, x_pts, V_label=''):\n",
    "        \"\"\"\n",
    "        Plot the potential on the given axis\n",
    "        \"\"\"\n",
    "        ax.plot(x_pts, self.V(x_pts), color='blue', alpha=1, label=V_label)\n"
   ]
  },
  {
   "cell_type": "markdown",
   "metadata": {},
   "source": [
    "### Harmonic Oscillator definitions\n",
    "\n",
    "We'll do the one-dimensional harmonic oscillator (ho), by default in units where the basic quantities are all unity.  In these units, the energies should be (n+1/2), where n = 0,1,2,3,...).  "
   ]
  },
  {
   "cell_type": "code",
   "execution_count": 5,
   "metadata": {},
   "outputs": [],
   "source": [
    "class V_HO(Potential):\n",
    "    \"\"\"\n",
    "    Harmonic oscillator potential (subclass of Potential)\n",
    "\n",
    "    \"\"\"\n",
    "    def __init__(self, k_osc=1, hbar=1, mu=1, V_string='Harmonic oscillator'):\n",
    "        self.k_osc = 1\n",
    "        super().__init__(hbar, mu, V_string)\n",
    "\n",
    "    def V(self, x) :\n",
    "        \"\"\"Standard harmonic oscillator potential for particle at x\"\"\"\n",
    "        return self.k_osc * x**2 /2\n",
    "    \n",
    "    def E_gs(self):\n",
    "        \"\"\"\n",
    "        1D harmonic oscillator ground-state energy\n",
    "        \"\"\"\n",
    "        (1/2) * self.hbar * np.sqrt(self.k_osc / self.mass)  # ground state energy \n",
    "        \n",
    "    def wf_gs(self, x):\n",
    "        \"\"\"\n",
    "        1D harmonic oscillator ground-state wave function\n",
    "        \"\"\"\n",
    "        return np.exp(-x**2 / 2) / np.pi**(1/4)  # We should  put the units back!"
   ]
  },
  {
   "cell_type": "code",
   "execution_count": 6,
   "metadata": {},
   "outputs": [],
   "source": [
    "class V_aHO(Potential):\n",
    "    \"\"\"\n",
    "    Subclass of Potential for anharmonic oscillator.\n",
    "\n",
    "    Parameters\n",
    "    ----------\n",
    "\n",
    "    Methods\n",
    "    -------\n",
    "\n",
    "    \"\"\"\n",
    "    def __init__(self, k_osc=1, hbar=1, mu=1, V_string='Anharmonic oscillator'):\n",
    "        self.k_osc = 1\n",
    "        super().__init__(hbar, mu, V_string)\n",
    "\n",
    "    def V(self, x) :\n",
    "        \"\"\"Anharmonic oscillator potential for particle at x\"\"\"\n",
    "        return self.k_osc * x**4 /2\n"
   ]
  },
  {
   "cell_type": "markdown",
   "metadata": {},
   "source": [
    "### Make some plots"
   ]
  },
  {
   "cell_type": "code",
   "execution_count": 32,
   "metadata": {},
   "outputs": [],
   "source": [
    "# Instantiate a harmonic oscillator potential\n",
    "mass = 1.  \n",
    "k_osc = 1.  # oscillator constant \n",
    "hbar = 2. \n",
    "\n",
    "test_ho = V_HO(k_osc, hbar, mass)\n",
    "test_aho = V_aHO(k_osc, hbar, mass)"
   ]
  },
  {
   "cell_type": "code",
   "execution_count": 8,
   "metadata": {},
   "outputs": [
    {
     "data": {
      "image/png": "[encoded data removed]",
      "text/plain": [
       "<Figure size 800x600 with 1 Axes>"
      ]
     },
     "metadata": {},
     "output_type": "display_data"
    }
   ],
   "source": [
    "# Check the wave function and potential\n",
    "x_pts_all = np.arange(-4., 4., .01)\n",
    "\n",
    "fig = plt.figure(figsize=(8,6))\n",
    "ax = fig.add_subplot(1,1,1)\n",
    "ax.set_xlabel(r'x')\n",
    "#ax.set_ylabel(r'g(x)')\n",
    "ax.set_xlim(-4., 4.)\n",
    "ax.set_ylim(-0.1, 1.)\n",
    "ax.axhline(0., color='black', alpha=0.5, linestyle='dotted')\n",
    "\n",
    "test_ho.plot_V(ax, x_pts_all, V_label='HO potential')\n",
    "ax.plot(x_pts_all, test_ho.wf_gs(x_pts_all), color='red', alpha=1, label='gs wf')\n",
    "\n",
    "ax.set_title(f'{test_ho.V_string} with k_osc = {k_osc:.1f}, mass = {mass:.1f}')\n",
    "ax.legend()\n",
    "fig.tight_layout()"
   ]
  },
  {
   "cell_type": "code",
   "execution_count": 9,
   "metadata": {},
   "outputs": [
    {
     "data": {
      "text/plain": [
       "0.9999999839221155"
      ]
     },
     "execution_count": 9,
     "metadata": {},
     "output_type": "execute_result"
    }
   ],
   "source": [
    "# Normalization check of wave function squared\n",
    "integrate.simps(test_ho.wf_gs(x_pts_all)**2, x_pts_all)"
   ]
  },
  {
   "cell_type": "markdown",
   "metadata": {},
   "source": [
    "## Metropolis calculation (section 2.2 of Lepage lectures)\n",
    "\n",
    "Now instead of an integration over all paths, we want to select a representative sampling of the \"paths\" that are distributed according to $e^{-S[x]}$.  If we succeed, we can take an unweighted average over these paths to approximate the weighted average over uniformly distributed paths.\n",
    "\n",
    "We will use the Metropolis algorithm to generate a sequence of paths."
   ]
  },
  {
   "cell_type": "markdown",
   "metadata": {},
   "source": [
    "Define a function to initialize the first path, which is set to zero at each of the Npts times:"
   ]
  },
  {
   "cell_type": "markdown",
   "metadata": {},
   "source": [
    "We update the path following the Metropolis algorithm:\n",
    "1.  Step through each time point from j = 0 to Npts-1\n",
    "2.  Save the value of the path at current time point j\n",
    "3.  Calculate the current value of the action (only considering contributions that depend on j with speed)\n",
    "4.  Generate a random number xi from -epsilon to epsilon and consider x_j --> x_j + xi\n",
    "5.  Find Delta S (change in the action) for this change:  \n",
    "    a. If Delta S < 0 (action reduced), keep new x_j and go to next value of j.  \n",
    "    b. If Delta S > 0 (action increased), generate eta between 0 and 1. Keep new x_j if exp(-Delta S) > eta, otherwise keep old value and move on to the next j.\n",
    "6.  In general we keep track of the \"success\" rate and adjust epsilon so that it is about 50% successes."
   ]
  },
  {
   "cell_type": "markdown",
   "metadata": {},
   "source": [
    "Define a function to do this update and print the new path at the end."
   ]
  },
  {
   "cell_type": "markdown",
   "metadata": {},
   "source": [
    "Define a function to calculate the contribution to the Hamiltonian (the energy) from time point j:"
   ]
  },
  {
   "cell_type": "markdown",
   "metadata": {},
   "source": [
    "To do:\n",
    "* Check for equilibration\n",
    "* Check for autocorrelation\n",
    "* Histogram the energy calculations and compare to the expected error"
   ]
  },
  {
   "cell_type": "markdown",
   "metadata": {},
   "source": [
    "## Class for path integral"
   ]
  },
  {
   "cell_type": "code",
   "execution_count": 10,
   "metadata": {},
   "outputs": [],
   "source": [
    "# Modules needed for example: emcee is for MCMCsampling, corner for plotting\n",
    "from scipy import stats\n",
    "#import emcee\n",
    "#import corner"
   ]
  },
  {
   "cell_type": "code",
   "execution_count": 11,
   "metadata": {},
   "outputs": [],
   "source": [
    "class PathIntegral:\n",
    "    \"\"\"\n",
    "    A class for a path integral for 1D quantum mechanics. Associated with an \n",
    "    instance of the class is:\n",
    "      * a potential with the Potential superclass but a particular subclass\n",
    "      * a lattice definition\n",
    "      * settings for correlation and thermalization \"times\" (Monte Carlo steps)\n",
    "      * method for updating\n",
    "      * method for averaging\n",
    "      * list of configurations (paths)\n",
    "      * choice of by-hand Metropolis updating or using emcee, zeus, or pyMC3\n",
    "    \n",
    "    \"\"\"\n",
    "    def __init__(self, Delta_T=0.25, N_pts=20, N_config=100, N_corr=20, eps=1.4,\n",
    "                 V_pot=None):\n",
    "        self.Delta_T = Delta_T        # DeltaT --> \"a\" in Lepage\n",
    "        self.N_pts = N_pts            # N_pts --> \"N\" in Lepage \n",
    "        self.T_max = Delta_T * N_pts  # Tmax --> \"T\" in Lepage\n",
    "        \n",
    "        self.N_config = N_config\n",
    "        self.N_corr = N_corr\n",
    "        self.eps = eps\n",
    "        \n",
    "        self.V_pot = V_pot  # member of Potential class\n",
    "        \n",
    "        #self.x_path = np.zeros(self.N_pts)\n",
    "        #self.list_of_paths = \n",
    "        \n",
    "        \n",
    "    def initialize(self, eps=None):\n",
    "        \"\"\"\n",
    "        Initialize a path to zeros if eps=None otherwise to random numbers from \n",
    "        a normal distribution with mean zero and standard deviation eps.\n",
    "        \"\"\"\n",
    "        if eps:\n",
    "            x_path = np.array([normal(loc=0, scale=eps) for i in range(self.N_pts)])\n",
    "        else:\n",
    "            x_path = np.zeros(self.N_pts)\n",
    "        return x_path\n",
    "\n",
    "    def S_lattice(self, x_path):\n",
    "        \"\"\"\n",
    "        Contribution to the action from path x_path \n",
    "        \"\"\"\n",
    "        action = 0\n",
    "        for j in range(0, self.N_pts):        \n",
    "            j_plus = (j + 1) % self.N_pts\n",
    "            x_j = x_path[j]\n",
    "            x_j_plus = x_path[j_plus]\n",
    "            action = action + self.Delta_T * self.V_pot.V(x_j) \\\n",
    "              + (self.V_pot.mu/(2*self.Delta_T)) * (x_j_plus - x_j)**2\n",
    "        return action    \n",
    "\n",
    "    def S_lattice_j(self, x_path, j):\n",
    "        \"\"\"\n",
    "        Function to calculate the contribution to action S from terms with j\n",
    "        \"\"\"\n",
    "        j_plus = (j + 1) % self.N_pts  # next j point, wrapping around if needed\n",
    "        j_minus = (j - 1) % self.N_pts\n",
    "        x_j_minus = x_path[j_minus]\n",
    "        x_j = x_path[j]\n",
    "        x_j_plus = x_path[j_plus]\n",
    "        \n",
    "        return self.Delta_T * self.V_pot.V(x_j) \\\n",
    "               + self.V_pot.mu * x_j * \\\n",
    "                 (x_j - x_j_plus - x_j_minus) / self.Delta_T            \n",
    "\n",
    "    def update(self, x_path):\n",
    "        \"\"\"\n",
    "           This is a Metropolis update of the passed path.\n",
    "            * x_path is an array of length N_pts\n",
    "            * Step through each element and generate a candidate new value\n",
    "               generated uniformly between -eps and +eps.\n",
    "            * Check how much the action changes. Keep the new value *unless*\n",
    "               the action increases *and* e^{-change} < uniform(0,1); that is\n",
    "               even if the action increases, keep it with probability e^{-change}.    \n",
    "        \"\"\"\n",
    "        for j in range(0, self.N_pts):\n",
    "            old_x_path = x_path[j] # save original value \n",
    "            old_Sj = self.S_lattice_j(x_path, j)\n",
    "            \n",
    "            x_path[j] = x_path[j] + uniform(-self.eps, self.eps) # update x_path[j]\n",
    "            dS = self.S_lattice_j(x_path, j) - old_Sj # change in action \n",
    "            if dS > 0 and np.exp(-dS) < uniform(0,1):\n",
    "                x_path[j] = old_x_path  # restore old value\n",
    "        return x_path\n",
    "\n",
    "    def H_lattice_j(self, x_path, j):\n",
    "        \"\"\"\n",
    "        Contribution to the energy from time point j\n",
    "        \"\"\"\n",
    "        j_plus = (j + 1) % self.N_pts\n",
    "        x_j = x_path[j]\n",
    "        x_j_plus = x_path[j_plus]\n",
    "        return self.Delta_T * self.V_pot.V(x_j) \\\n",
    "          + (self.V_pot.mu/(2*self.Delta_T)) * (x_j_plus - x_j)**2\n",
    "    \n",
    "    def display_x_path(self, x_path):\n",
    "        \"\"\"Print out x_path\"\"\"\n",
    "        print(x_path)\n",
    "        \n",
    "    def MC_paths(self):\n",
    "        \"\"\"\n",
    "        Accumulate paths after thermalization, skipping every N_corr\n",
    "        \"\"\"\n",
    "        x_path = self.initialize(self.eps)  # initialize x_path \n",
    "        \n",
    "        # thermalize x_path\n",
    "        for i in range(5 * self.N_corr):\n",
    "            x_path = self.update(x_path) \n",
    "        list_of_paths = np.array([x_path])\n",
    "        \n",
    "        for count in range(self.N_config-1):\n",
    "            # for every count, skip N_corr paths\n",
    "            for i in range(self.N_corr):\n",
    "                x_path = self.update(x_path)\n",
    "            # add the last one to the list\n",
    "            list_of_paths = np.append(list_of_paths, [x_path], axis=0)\n",
    "            \n",
    "        return np.array(list_of_paths)\n",
    "    \n",
    "    def Gamma_avg_over_paths(self, Gamma, n, list_of_paths):\n",
    "        \"\"\"\n",
    "        Calculate the average of Gamma(x_path, n) for tau point n over the\n",
    "        paths in list_of_paths.\n",
    "        \"\"\"\n",
    "        N_paths = len(list_of_paths)\n",
    "        #print('Npaths = ', N_paths)\n",
    "        Gamma_avg = 0.\n",
    "        for x_path in list_of_paths:\n",
    "            Gamma_avg = Gamma_avg + Gamma(x_path, n)\n",
    "        return Gamma_avg / N_paths    \n",
    "    \n",
    "    def E_avg_over_paths(self, list_of_paths):\n",
    "        \"\"\"\n",
    "        Average the lattice Hamiltonian over a set of configurations in\n",
    "        list_of_paths.\n",
    "        \"\"\"\n",
    "        N_paths = len(list_of_paths)\n",
    "        #print('Npaths = ', N_paths)\n",
    "        E_avg = 0.\n",
    "        for x_path in list_of_paths:\n",
    "            for j in range(N_pts):\n",
    "                E_avg = E_avg + self.H_lattice_j(x_path, j)\n",
    "        return E_avg / (N_paths * self.N_pts)\n",
    "    \n",
    "    def compute_G(self, x_path, n):\n",
    "        \"\"\"\n",
    "        Calculate the correlator << x(t_j) x(t_{j+n}) >> averaged over \n",
    "        j = 1, ..., N_pts, where n corresponds to tau, i.e., tau = n * Delta_t.\n",
    "        \"\"\"\n",
    "        N_tau = self.N_pts\n",
    "        g = 0\n",
    "        for j in range(0, N_tau):\n",
    "            g = g + x_path[j] * x_path[(j+n)%N_tau] # wrap around as needed\n",
    "        return g / N_tau\n",
    "    \n",
    "            "
   ]
  },
  {
   "cell_type": "markdown",
   "metadata": {},
   "source": [
    "### Discretize time "
   ]
  },
  {
   "cell_type": "code",
   "execution_count": 12,
   "metadata": {},
   "outputs": [],
   "source": [
    "Delta_T = 0.25           # DeltaT --> \"a\" in Lepage\n",
    "N_pts = 20               # N_pts --> \"N\" in Lepage \n",
    "Tmax = Delta_T * N_pts   # Tmax --> \"T\" in Lepage"
   ]
  },
  {
   "cell_type": "markdown",
   "metadata": {},
   "source": [
    "### Set the number of configurations to generate (Nconfig) and the correlation time (Ncorr)"
   ]
  },
  {
   "cell_type": "code",
   "execution_count": 13,
   "metadata": {},
   "outputs": [],
   "source": [
    "N_config = 100   # We'll want to try 25, 100, 1000, 10000 \n",
    "N_corr = 20      # Lepage recommends 20 or so \n",
    "eps = 1.4  # suggested epsilon"
   ]
  },
  {
   "cell_type": "markdown",
   "metadata": {},
   "source": [
    "### Set up the Metropolis procedure for the energy\n",
    "\n",
    "Here is the basic plan:  \n",
    "1. Initialize the first path to all zeros for x_j.\n",
    "2. Do (5-10)*Ncorr updates to thermalize the path.  \n",
    "3. Update Ncorr times, keep that path (or do the calculation of the energy with that path).\n",
    "4. Repeat the last step Nconfig times.\n",
    "5. Average the Nconfig values of the energy to get the estimate. \n",
    "\n",
    "Ok, let's set it up!  "
   ]
  },
  {
   "cell_type": "code",
   "execution_count": 14,
   "metadata": {},
   "outputs": [],
   "source": [
    "# Instantiate a harmonic oscillator potential\n",
    "mass = 1.  \n",
    "k_osc = 1.  # oscillator constant \n",
    "hbar = 1. \n",
    "\n",
    "test_ho = V_HO(k_osc, hbar, mass)\n",
    "test_aho = V_aHO(k_osc, hbar, mass)"
   ]
  },
  {
   "cell_type": "code",
   "execution_count": 15,
   "metadata": {},
   "outputs": [],
   "source": [
    "testPI = PathIntegral(V_pot=test_ho)"
   ]
  },
  {
   "cell_type": "code",
   "execution_count": 16,
   "metadata": {},
   "outputs": [
    {
     "name": "stdout",
     "output_type": "stream",
     "text": [
      "[ 0.10195668  0.05010416  0.04653014 -0.05211227  0.03149327  0.05186339\n",
      "  0.01102281  0.07176181 -0.09405764 -0.07931555 -0.07277317  0.02327673\n",
      "  0.04835742  0.00202134 -0.18891054 -0.05090709  0.07188838  0.01121512\n",
      " -0.0219925  -0.01544483]\n"
     ]
    }
   ],
   "source": [
    "x_path = testPI.initialize(eps=.1)\n",
    "testPI.display_x_path(x_path)"
   ]
  },
  {
   "cell_type": "code",
   "execution_count": 17,
   "metadata": {},
   "outputs": [
    {
     "name": "stdout",
     "output_type": "stream",
     "text": [
      "[ 0.10195668 -0.01767201  0.04653014  0.25418375  0.03149327 -0.14838005\n",
      "  0.01102281 -0.68178282 -0.14148991  0.70981283 -0.07277317  0.02327673\n",
      " -0.13322406  0.00202134  0.10081047 -0.05090709  0.07188838  0.03152655\n",
      " -0.0219925  -0.01544483]\n"
     ]
    }
   ],
   "source": [
    "testPI.update(x_path)\n",
    "testPI.display_x_path(x_path)"
   ]
  },
  {
   "cell_type": "code",
   "execution_count": 18,
   "metadata": {},
   "outputs": [],
   "source": [
    "Delta_T = 0.25           # Delta_T --> \"a\" in Lepage\n",
    "N_pts = 20               # N_pts --> \"N\" in Lepage \n",
    "Tmax = Delta_T * N_pts   # Tmax --> \"T\" in Lepage\n",
    "\n",
    "N_config = 4000  # We'll want to try 25, 100, 1000, 10000 \n",
    "N_corr = 20      # Lepage recommends 20 or so \n",
    "eps = 1.4        # suggested epsilon\n",
    "\n",
    "new_PI = PathIntegral(Delta_T=Delta_T, N_pts=N_pts, N_config=N_config, \n",
    "                      N_corr=N_corr, eps=eps, V_pot=test_ho)\n",
    "\n",
    "list_of_paths = new_PI.MC_paths()\n",
    "\n",
    "#print(f'Energy = {E_mean:.5f} +/- {E_sem:.5f}')"
   ]
  },
  {
   "cell_type": "code",
   "execution_count": 19,
   "metadata": {},
   "outputs": [
    {
     "name": "stdout",
     "output_type": "stream",
     "text": [
      "(4000, 20)\n",
      "Average over 4000 configurations is 0.49917\n"
     ]
    }
   ],
   "source": [
    "print(list_of_paths.shape)\n",
    "E_avg = new_PI.E_avg_over_paths(list_of_paths)\n",
    "print(f'Average over {N_config} configurations is {E_avg:.5f}')\n"
   ]
  },
  {
   "cell_type": "markdown",
   "metadata": {},
   "source": [
    "At this point we could increase Nconfig to get a better answer or run it many times and average:"
   ]
  },
  {
   "cell_type": "code",
   "execution_count": 20,
   "metadata": {},
   "outputs": [],
   "source": [
    "new_PI = PathIntegral(Delta_T=Delta_T, N_pts=N_pts, N_config=N_config, \n",
    "                      N_corr=N_corr, eps=eps, V_pot=test_ho)\n",
    "\n",
    "list_of_paths = new_PI.MC_paths()\n"
   ]
  },
  {
   "cell_type": "code",
   "execution_count": 21,
   "metadata": {},
   "outputs": [],
   "source": [
    "def energy_avg(N_trials, N_config_each):\n",
    "    \"\"\"\n",
    "    Return the mean and standard deviation of N_trials of the energy\n",
    "    \"\"\"\n",
    "    my_PI = PathIntegral(Delta_T=Delta_T, N_pts=N_pts, N_config=N_config_each, \n",
    "                      N_corr=N_corr, eps=eps, V_pot=test_ho)\n",
    "    E_list = np.zeros(N_trials)\n",
    "    for i in range(N_trials):\n",
    "        short_list = my_PI.MC_paths()\n",
    "        E_list[i] = my_PI.E_avg_over_paths(short_list)\n",
    "    #print(E_list)\n",
    "    E_mean = np.mean(E_list)\n",
    "    E_std = np.std(E_list)\n",
    "    return E_mean, E_std, E_std / np.sqrt(N_trials)"
   ]
  },
  {
   "cell_type": "code",
   "execution_count": 22,
   "metadata": {},
   "outputs": [
    {
     "name": "stdout",
     "output_type": "stream",
     "text": [
      "Energy = 0.49621 +/- 0.00360\n"
     ]
    }
   ],
   "source": [
    "E_mean, E_std, E_sem = energy_avg(20, 100)\n",
    "print(f'Energy = {E_mean:.5f} +/- {E_sem:.5f}')\n"
   ]
  },
  {
   "cell_type": "code",
   "execution_count": 23,
   "metadata": {},
   "outputs": [],
   "source": [
    "energy_means = []\n",
    "energy_stds = []\n",
    "energy_sems = []\n",
    "\n",
    "N_trials = 100\n",
    "for i in range(N_trials):\n",
    "    # energy_avg()\n",
    "    E_mean, E_std, E_sem = energy_avg(10, 100) # average over 10 \n",
    "    #print(E_mean)\n",
    "    energy_means = np.append(energy_means, E_mean)\n",
    "    energy_stds = np.append(energy_stds, E_std)    \n",
    "    energy_sems = np.append(energy_sems, E_sem)    "
   ]
  },
  {
   "cell_type": "code",
   "execution_count": 24,
   "metadata": {},
   "outputs": [
    {
     "name": "stdout",
     "output_type": "stream",
     "text": [
      "The mean of the energy means is 0.50025\n"
     ]
    },
    {
     "data": {
      "image/png": "[encoded data removed]",
      "text/plain": [
       "<Figure size 800x600 with 1 Axes>"
      ]
     },
     "metadata": {},
     "output_type": "display_data"
    }
   ],
   "source": [
    "# Make a histogram plot of the energy and compare to expected width\n",
    "expect_std = 100 * np.mean(energy_sems)\n",
    "actual_std = 100 * np.std(energy_means)\n",
    "\n",
    "mean_of_means = np.mean(energy_means)\n",
    "print(f'The mean of the energy means is {mean_of_means:.5f}')\n",
    "\n",
    "fig = plt.figure(figsize=(8,6))\n",
    "ax = fig.add_subplot(1,1,1)\n",
    "ax.set_xlabel(r'$100 \\times (E_{\\rm gs} - 0.5) $')\n",
    "ax.set_ylabel(r'# of counts')\n",
    "ax.set_title(fr'$100 \\times$ (Expected std = {expect_std:.2f}; actual std = {actual_std:.2f})')\n",
    "\n",
    "ax.hist(100*(energy_means - 0.5), bins=10, density=False, label='energy')\n",
    "\n",
    "# ax.axhline(0., color='black', alpha=0.5, linestyle='dotted')\n",
    "# ax.plot(x_pts_all, V_HO(x_pts_all), color='blue', alpha=1, label='HO potential')\n",
    "# ax.plot(x_pts_all, HO_gs_wf(x_pts_all), color='red', alpha=1, label='gs wf')\n",
    "# ax.set_title(f'Harmonic oscillator with k_osc = {k_osc:.1f}, mass = {mass:.1f}')\n",
    "\n",
    "ax.legend()\n",
    "fig.tight_layout()"
   ]
  },
  {
   "cell_type": "markdown",
   "metadata": {},
   "source": [
    "### Trying a larger lattice spacing a"
   ]
  },
  {
   "cell_type": "code",
   "execution_count": 25,
   "metadata": {},
   "outputs": [],
   "source": [
    "Delta_T = 0.50           # Delta_T --> \"a\" in Lepage\n",
    "N_pts = 20               # N_pts --> \"N\" in Lepage \n",
    "Tmax = Delta_T * N_pts   # Tmax --> \"T\" in Lepage\n",
    "\n",
    "N_config = 4000  # We'll want to try 25, 100, 1000, 10000 \n",
    "N_corr = 20      # Lepage recommends 20 or so \n",
    "eps = 1.4        # suggested epsilon\n",
    "\n",
    "new_PI = PathIntegral(Delta_T=Delta_T, N_pts=N_pts, N_config=N_config, \n",
    "                      N_corr=N_corr, eps=eps, V_pot=test_ho)\n"
   ]
  },
  {
   "cell_type": "code",
   "execution_count": 26,
   "metadata": {},
   "outputs": [
    {
     "name": "stdout",
     "output_type": "stream",
     "text": [
      "(4000, 20)\n",
      "Average over 4000 configurations is 0.50167\n"
     ]
    }
   ],
   "source": [
    "list_of_paths = new_PI.MC_paths()\n",
    "\n",
    "print(list_of_paths.shape)\n",
    "E_avg = new_PI.E_avg_over_paths(list_of_paths)\n",
    "print(f'Average over {N_config} configurations is {E_avg:.5f}')\n"
   ]
  },
  {
   "cell_type": "code",
   "execution_count": 27,
   "metadata": {},
   "outputs": [
    {
     "name": "stdout",
     "output_type": "stream",
     "text": [
      "Average over 4000 configurations at each n:  [0.49433438 0.4832704  0.48650586 0.49654364 0.50041304 0.51124005\n",
      " 0.50215313 0.50662874 0.48644347 0.50765943 0.49763309 0.50666532\n",
      " 0.50328084 0.50794191 0.51104406 0.51488762 0.51574784 0.51479515\n",
      " 0.49457307 0.49173305]\n",
      "\n",
      "Mean: 0.50167 +/- 0.00218\n"
     ]
    }
   ],
   "source": [
    "E_avg_test = np.array([new_PI.Gamma_avg_over_paths(new_PI.H_lattice_j, n, list_of_paths) for n in range(N_pts)])\n",
    "    \n",
    "print(f'Average over {N_config} configurations at each n: ', E_avg_test)\n",
    "\n",
    "print(f'\\nMean: {np.mean(E_avg_test):.5f} +/- {np.std(E_avg_test)/np.sqrt(N_pts):.5f}')"
   ]
  },
  {
   "cell_type": "code",
   "execution_count": 28,
   "metadata": {},
   "outputs": [
    {
     "name": "stdout",
     "output_type": "stream",
     "text": [
      "[0.49129453 0.30186899 0.18678105 0.11679738 0.07323281 0.04563235\n",
      " 0.02714714 0.01569043 0.0094236  0.00836482 0.008407   0.00836482\n",
      " 0.0094236  0.01569043 0.02714714 0.04563235 0.07323281 0.11679738\n",
      " 0.18678105 0.30186899]\n"
     ]
    }
   ],
   "source": [
    "g_avg_test = np.array([new_PI.Gamma_avg_over_paths(new_PI.compute_G, n, list_of_paths) for n in range(N_pts)])\n",
    "\n",
    "print(g_avg_test)"
   ]
  },
  {
   "cell_type": "code",
   "execution_count": 29,
   "metadata": {},
   "outputs": [
    {
     "name": "stdout",
     "output_type": "stream",
     "text": [
      "[ 0.97410137  0.96011211  0.9389928   0.9335943   0.94605323  1.03869034\n",
      "  1.09644204  1.01966629  0.23836496 -0.01006005  0.01006005 -0.23836496\n",
      " -1.01966629 -1.09644204 -1.03869034 -0.94605323 -0.9335943  -0.9389928\n",
      " -0.96011211]\n"
     ]
    }
   ],
   "source": [
    "DeltaE = np.array([np.log(g_avg_test[n] / g_avg_test[n+1]) / Delta_T for n in range(N_pts-1)])\n",
    "print(DeltaE)"
   ]
  },
  {
   "cell_type": "code",
   "execution_count": 30,
   "metadata": {},
   "outputs": [
    {
     "data": {
      "image/png": "[encoded data removed]",
      "text/plain": [
       "<Figure size 800x600 with 1 Axes>"
      ]
     },
     "metadata": {},
     "output_type": "display_data"
    }
   ],
   "source": [
    "# Check the wave function and potential\n",
    "t_pts_all = np.arange(0, (N_pts-1)*Delta_T, Delta_T)\n",
    "\n",
    "fig = plt.figure(figsize=(8,6))\n",
    "ax = fig.add_subplot(1,1,1)\n",
    "ax.set_xlabel(r'$\\tau$')\n",
    "ax.set_ylabel(r'$\\Delta E(\\tau)$')\n",
    "ax.set_xlim(0,3.7)\n",
    "ax.set_ylim(0, 2.5)\n",
    "ax.axhline(1., color='black', alpha=0.5, linestyle='dotted')\n",
    "\n",
    "ax.plot(t_pts_all, DeltaE, color='blue', alpha=1, marker='o', markersize=6)\n",
    "#ax.legend()\n",
    "fig.tight_layout()"
   ]
  },
  {
   "cell_type": "code",
   "execution_count": null,
   "metadata": {},
   "outputs": [],
   "source": []
  }
 ],
 "metadata": {
  "kernelspec": {
   "display_name": "Python 3 (ipykernel)",
   "language": "python",
   "name": "python3"
  },
  "language_info": {
   "codemirror_mode": {
    "name": "ipython",
    "version": 3
   },
   "file_extension": ".py",
   "mimetype": "text/x-python",
   "name": "python",
   "nbconvert_exporter": "python",
   "pygments_lexer": "ipython3",
   "version": "3.10.6"
  }
 },
 "nbformat": 4,
 "nbformat_minor": 4
}
