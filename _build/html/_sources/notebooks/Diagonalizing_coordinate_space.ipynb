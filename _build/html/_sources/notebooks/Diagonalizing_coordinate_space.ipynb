{
 "cells": [
  {
   "cell_type": "markdown",
   "id": "993981ee",
   "metadata": {},
   "source": [
    "# Diagonalizing coordinate space solutions\n",
    "\n",
    "In this notebook you will apply a 2nd-derivative operator and a potential as matrices in coordinate space to represent the Schroedinger equation. By diagonalizing it you'll find its eigenvalues (the energy spectrum) and eigenvectors (wave functions). "
   ]
  },
  {
   "cell_type": "markdown",
   "id": "3f67040f",
   "metadata": {},
   "source": [
    "Standard imports plus seaborn (to make plots looks nicer)."
   ]
  },
  {
   "cell_type": "code",
   "execution_count": null,
   "id": "d061bdf9",
   "metadata": {},
   "outputs": [],
   "source": [
    "import numpy as np\n",
    "import scipy.linalg as la\n",
    "\n",
    "import matplotlib.pyplot as plt\n",
    "import seaborn as sns; sns.set_style(\"darkgrid\"); sns.set_context(\"talk\")\n"
   ]
  },
  {
   "cell_type": "markdown",
   "id": "1897d8d2",
   "metadata": {},
   "source": [
    "Fill in the ?'s in the  `second_derivative_matrix` function below so that it returns a matrix that implements an approximate second derivative when applied to a vector made up of a function evaluated at the mesh points. The numpy `diag` and `ones` functions are used to create matrices with 1's on particular diagonals, as in this $5\\times 5$ example: \n",
    "\n",
    "$$ \\frac{1}{(\\Delta x)^2}\\,\\left( \n",
    "    \\begin{array}{ccccc}\n",
    "    -2 & 1 & 0 & 0 & 0 \\\\\n",
    "    1 & -2 & 1 & 0 & 0 \\\\\n",
    "    0 & 1 & -2 & 1 & 0 \\\\\n",
    "    0 & 0 &1 & -2 & 1 \\\\\n",
    "    0 & 0 & 0 & 1 & -2\n",
    "    \\end{array}\n",
    "   \\right) \n",
    "   \\left(\\begin{array}{c}\n",
    "         f_1 \\\\ f_2 \\\\ f_3 \\\\ f_4 \\\\ f_5\n",
    "         \\end{array}\n",
    "   \\right) \n",
    "   \\overset{?}{=}\n",
    "   \\left(\\begin{array}{c}\n",
    "         ? \\\\ ? \\\\ ? \\\\ ? \\\\ ?\n",
    "         \\end{array}\n",
    "   \\right) \n",
    " $$  \n",
    " "
   ]
  },
  {
   "cell_type": "markdown",
   "id": "bbf1d9a1",
   "metadata": {},
   "source": [
    " **Replace the ?'s with appropriate numbers in the `second_derivative_matrix` function.**"
   ]
  },
  {
   "cell_type": "code",
   "execution_count": null,
   "id": "3c59e56a",
   "metadata": {},
   "outputs": [],
   "source": [
    "def second_derivative_matrix(N, Delta_x):\n",
    "    \"\"\"\n",
    "    Return an N x N matrix for 2nd derivative of a vector equally spaced by delta_x.\n",
    "    \"\"\"\n",
    "    M_temp = ? * np.diag(np.ones(N-1), +1) + ? * np.diag(np.ones(N-1), -1) + ? * np.diag(np.ones(N), 0)\n",
    "\n",
    "    return M_temp / (Delta_x**2)"
   ]
  },
  {
   "cell_type": "markdown",
   "id": "7cb4a9a9",
   "metadata": {},
   "source": [
    "## Testing the second derivative\n",
    "\n",
    "Check the relative accuracy of the approximate second derivative at a fixed $\\Delta x$ by choosing a test function $f(x)$ and a range of $x$. \n",
    "\n",
    "**Choose appropriate values for `N_pts`, `x_min`, and `x_max`. You won't know what to choose at first, so try some values and come back later to update your choices as needed.**"
   ]
  },
  {
   "cell_type": "code",
   "execution_count": null,
   "id": "f0e3ad4f",
   "metadata": {},
   "outputs": [],
   "source": [
    "N_pts = ?   # number of x points\n",
    "x_min = ?   # minimum x value (should be negative)\n",
    "x_max = ?   # maximum x value (should be positive)\n",
    "\n",
    "Delta_x = (x_max - x_min) / (N_pts - 1)    # calculate Delta x based on the range and number of points\n",
    "x_mesh = np.linspace(x_min, x_max, N_pts)  # create the grid (\"mesh\") of x points"
   ]
  },
  {
   "cell_type": "code",
   "execution_count": null,
   "id": "bf17d8fc",
   "metadata": {},
   "outputs": [],
   "source": [
    "# Verify that mesh is consistent with Delta_x\n",
    "print(Delta_x)\n",
    "print(x_mesh)"
   ]
  },
  {
   "cell_type": "markdown",
   "id": "2bd5a7a6",
   "metadata": {},
   "source": [
    "Set up the derivative matrices for the specified mesh."
   ]
  },
  {
   "cell_type": "code",
   "execution_count": null,
   "id": "d6f7066e",
   "metadata": {
    "scrolled": true
   },
   "outputs": [],
   "source": [
    "second_deriv = second_derivative_matrix(N_pts, Delta_x)"
   ]
  },
  {
   "cell_type": "markdown",
   "id": "e1fbe217",
   "metadata": {},
   "source": [
    "### Set up various test functions\n",
    "\n",
    "Only one test function is defined initially, a Gaussian."
   ]
  },
  {
   "cell_type": "code",
   "execution_count": null,
   "id": "f07d711e",
   "metadata": {},
   "outputs": [],
   "source": [
    "def f_test_0(x_mesh):\n",
    "    \"\"\"\n",
    "    Return the value of the function e^{-x^2} and its 2nd derivative\n",
    "    \"\"\"\n",
    "    return ( np.exp(-x_mesh**2), np.exp(-x_mesh**2) * (4 * x_mesh**2 - 2) )    "
   ]
  },
  {
   "cell_type": "markdown",
   "id": "01dd4f90",
   "metadata": {},
   "source": [
    "Pick a test functions and evaluate the function and its derivative on the mesh.\n",
    "Then apply the second derivative (`second_deriv`) matrix to the `f_test` vector (using the `@` symbol for matrix-vector, matrix-matrix, and vector-vector multiplication)."
   ]
  },
  {
   "cell_type": "code",
   "execution_count": null,
   "id": "b324f4e9",
   "metadata": {},
   "outputs": [],
   "source": [
    "f_test, f_2nd_deriv_exact = f_test_0(x_mesh)\n",
    "\n",
    "f_2nd_deriv = second_deriv @ f_test  # create the array of 2nd derivative values on the x mesh"
   ]
  },
  {
   "cell_type": "markdown",
   "id": "eb63a000",
   "metadata": {},
   "source": [
    "Make plots comparing the exact to approximate derivative and then the relative errors."
   ]
  },
  {
   "cell_type": "code",
   "execution_count": null,
   "id": "ee125d18",
   "metadata": {},
   "outputs": [],
   "source": [
    "def rel_error(x1, x2):\n",
    "    \"\"\"\n",
    "    Calculate the (absolute value of the) relative error between x1 and x2\n",
    "    \"\"\"\n",
    "    return np.abs( (x1 - x2) / ((x1 + x2)/2) )\n",
    "    #return np.abs( (x1 - x2)  )\n"
   ]
  },
  {
   "cell_type": "code",
   "execution_count": null,
   "id": "da8d7aa3",
   "metadata": {},
   "outputs": [],
   "source": [
    "# Comparison plots\n",
    "fig = plt.figure(figsize=(12,6))\n",
    "\n",
    "ax1 = fig.add_subplot(1,2,1)\n",
    "ax1.set_xlabel(r'$x$')\n",
    "ax1.set_ylabel(r'$df/dx$')\n",
    "\n",
    "ax1.plot(x_mesh, f_2nd_deriv_exact, color='red', label='exact 2nd derivative')\n",
    "ax1.plot(x_mesh, f_2nd_deriv, color='blue', label='approx 2nd derivative', linestyle='dashed')\n",
    "\n",
    "ax1.legend()\n",
    "\n",
    "ax2 = fig.add_subplot(1,2,2)\n",
    "ax2.set_xlabel(r'$x$')\n",
    "ax2.set_ylabel(r'relative error')\n",
    "ax2.set_xlim(0, x_max)\n",
    "ax2.set_ylim(1e-6, 2)\n",
    "\n",
    "# Calculate relative errors\n",
    "rel_error_2nd_deriv = rel_error(f_2nd_deriv_exact, f_2nd_deriv)\n",
    "\n",
    "ax2.semilogy(x_mesh, rel_error_2nd_deriv, color='blue', label='2nd derivative', linestyle='dashed')\n",
    "\n",
    "ax2.legend()\n",
    "\n",
    "fig.tight_layout()"
   ]
  },
  {
   "cell_type": "markdown",
   "id": "45cddec4",
   "metadata": {},
   "source": [
    "## Harmonic oscillator \n",
    "\n",
    "The Hamiltonian matrix is \n",
    "\n",
    "$$\n",
    " \\hat H \\doteq  -\\frac{\\hbar^2}{2m}\\frac{d^2}{dx^2} + V(x) ,\n",
    "$$\n",
    "\n",
    "which we'll implement as a sum of matrices. We'll choose units so that $\\hbar^2/2m = 1$ and $\\hbar\\omega = 1$."
   ]
  },
  {
   "cell_type": "code",
   "execution_count": null,
   "id": "dac64f0a",
   "metadata": {},
   "outputs": [],
   "source": [
    "def V_SHO_matrix(x_mesh):\n",
    "    \"\"\"\n",
    "    Harmonic oscillator potential matrix (defined as a diagonal matrix)\n",
    "    \"\"\"\n",
    "    k = 1/2       # k is chosen so that hbar*omega = 1 \n",
    "    V_diag = k * x_mesh**2 / 2  # diagonal matrix elements\n",
    "    N = len(x_mesh)  # number of x points\n",
    "    \n",
    "    return V_diag * np.diag(np.ones(N), 0) "
   ]
  },
  {
   "cell_type": "code",
   "execution_count": null,
   "id": "37daca4a",
   "metadata": {},
   "outputs": [],
   "source": [
    "# Combine matrices to make the Hamiltonian matrix\n",
    "V_SHO = V_SHO_matrix(x_mesh)\n",
    "\n",
    "Hamiltonian = -second_deriv + V_SHO  "
   ]
  },
  {
   "cell_type": "code",
   "execution_count": null,
   "id": "0ce89c92",
   "metadata": {},
   "outputs": [],
   "source": [
    "# Try diagonalizing using numpy functions\n",
    "eigvals, eigvecs = np.linalg.eigh(Hamiltonian)"
   ]
  },
  {
   "cell_type": "code",
   "execution_count": null,
   "id": "08fcbbd9",
   "metadata": {},
   "outputs": [],
   "source": [
    "print(eigvals[0:10])  # print the first 10 eigenvalues"
   ]
  },
  {
   "cell_type": "markdown",
   "id": "7f04ec7f",
   "metadata": {},
   "source": [
    "**If the eigenvalues are not very close (better than 0.1%, say) to those expected from a harmonic oscillator with $\\hbar\\omega = 1$, go back and adjust `N_pts`, `x_min`, and `x_max`.**"
   ]
  },
  {
   "cell_type": "code",
   "execution_count": null,
   "id": "a6f1f17e",
   "metadata": {},
   "outputs": [],
   "source": [
    "# Extract the first three eigenvectors (wave functions)\n",
    "wf_0 = eigvecs[:,0]\n",
    "wf_1 = eigvecs[:,1]\n",
    "wf_2 = eigvecs[:,2]"
   ]
  },
  {
   "cell_type": "code",
   "execution_count": null,
   "id": "fa55b83d",
   "metadata": {},
   "outputs": [],
   "source": [
    "# Plot the wave functions\n",
    "fig = plt.figure(figsize=(16,6))\n",
    "\n",
    "ax1 = fig.add_subplot(1,2,1)\n",
    "ax1.set_xlabel(r'$x$')\n",
    "ax1.set_ylabel(r'$\\psi_n(x)$')\n",
    "\n",
    "ax1.plot(x_mesh, wf_0, color='red', label=r'$n=0$')\n",
    "ax1.plot(x_mesh, wf_1, color='blue', label=r'$n=1$')\n",
    "ax1.plot(x_mesh, wf_2, color='green', label=r'$n=2$')\n",
    "\n",
    "ax1.legend();\n"
   ]
  }
 ],
 "metadata": {
  "kernelspec": {
   "display_name": "Python 3 (ipykernel)",
   "language": "python",
   "name": "python3"
  },
  "language_info": {
   "codemirror_mode": {
    "name": "ipython",
    "version": 3
   },
   "file_extension": ".py",
   "mimetype": "text/x-python",
   "name": "python",
   "nbconvert_exporter": "python",
   "pygments_lexer": "ipython3",
   "version": "3.9.12"
  }
 },
 "nbformat": 4,
 "nbformat_minor": 5
}
