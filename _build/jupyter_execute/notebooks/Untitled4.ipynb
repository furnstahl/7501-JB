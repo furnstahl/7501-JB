{
 "cells": [
  {
   "cell_type": "code",
   "execution_count": 2,
   "id": "080669c7",
   "metadata": {},
   "outputs": [],
   "source": [
    "from scipy.special import airy\n",
    "from scipy.optimize import root"
   ]
  },
  {
   "cell_type": "code",
   "execution_count": 7,
   "id": "890ac8fd",
   "metadata": {},
   "outputs": [],
   "source": [
    "def Airy(x, index):\n",
    "    \"\"\"\n",
    "    Airy function. Returns Ai, Ai', Bi, Bi'\n",
    "    \"\"\"\n",
    "    ans = airy(x)\n",
    "    return ans[index]"
   ]
  },
  {
   "cell_type": "code",
   "execution_count": 18,
   "id": "f8170d71",
   "metadata": {},
   "outputs": [
    {
     "name": "stdout",
     "output_type": "stream",
     "text": [
      "-1.0187929716\n"
     ]
    }
   ],
   "source": [
    "z_sol = root(Airy, -1, args=1)\n",
    "print(f'{z_sol.x[0]:.10f}')"
   ]
  },
  {
   "cell_type": "code",
   "execution_count": 9,
   "id": "e8d2f29a",
   "metadata": {},
   "outputs": [
    {
     "data": {
      "text/plain": [
       "(0.5356566443198573,\n",
       " 0.00011299166105888103,\n",
       " 0.09272404635793478,\n",
       " 0.5942619523220735)"
      ]
     },
     "execution_count": 9,
     "metadata": {},
     "output_type": "execute_result"
    }
   ],
   "source": [
    "airy(-1.019)"
   ]
  },
  {
   "cell_type": "code",
   "execution_count": null,
   "id": "375883de",
   "metadata": {},
   "outputs": [],
   "source": []
  }
 ],
 "metadata": {
  "kernelspec": {
   "display_name": "Python 3 (ipykernel)",
   "language": "python",
   "name": "python3"
  },
  "language_info": {
   "codemirror_mode": {
    "name": "ipython",
    "version": 3
   },
   "file_extension": ".py",
   "mimetype": "text/x-python",
   "name": "python",
   "nbconvert_exporter": "python",
   "pygments_lexer": "ipython3",
   "version": "3.9.12"
  }
 },
 "nbformat": 4,
 "nbformat_minor": 5
}