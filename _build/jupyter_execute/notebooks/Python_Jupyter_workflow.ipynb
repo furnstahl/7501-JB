{
 "cells": [
  {
   "cell_type": "markdown",
   "metadata": {},
   "source": [
    "# Workflow for Jupyter notebook: cells $\\rightarrow$ functions $\\rightarrow$ classes\n",
    "\n",
    "Here we illustrate how to start with global definitions and separate evaluations in cells and then in stages convert to functions and then to classes.\n",
    "\n",
    "The next stage is to move the class and function definitions to external files and then to have a setup.py function."
   ]
  },
  {
   "cell_type": "markdown",
   "metadata": {},
   "source": [
    "**General comments:**\n",
    "* This is only one possible workflow.\n",
    "* The idea here is to prototype things and then in steps see how to put it together."
   ]
  },
  {
   "cell_type": "markdown",
   "metadata": {},
   "source": [
    "**Things to include:**\n",
    "* Multiple figures, converted to a function for plots.\n",
    "* Global variables, becoming local variables in a class."
   ]
  },
  {
   "cell_type": "code",
   "execution_count": null,
   "metadata": {},
   "outputs": [],
   "source": []
  }
 ],
 "metadata": {
  "kernelspec": {
   "display_name": "Python 3",
   "language": "python",
   "name": "python3"
  },
  "language_info": {
   "codemirror_mode": {
    "name": "ipython",
    "version": 3
   },
   "file_extension": ".py",
   "mimetype": "text/x-python",
   "name": "python",
   "nbconvert_exporter": "python",
   "pygments_lexer": "ipython3",
   "version": "3.8.3"
  }
 },
 "nbformat": 4,
 "nbformat_minor": 4
}