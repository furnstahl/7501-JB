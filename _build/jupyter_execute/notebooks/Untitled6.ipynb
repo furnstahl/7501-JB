{
 "cells": [
  {
   "cell_type": "code",
   "execution_count": null,
   "id": "6a5a3e80",
   "metadata": {},
   "outputs": [],
   "source": [
    "def Half_V_SHO_matrix(x_mesh):\n",
    "    \"\"\"\n",
    "    Harmonic oscillator potential matrix (defined as a diagonal matrix)\n",
    "    \"\"\"\n",
    "    k = 1/2       # k is chosen so that hbar*omega = 1 \n",
    "    inf = 1.e10\n",
    "    #V_diag = k * x_mesh**2 / 2  # diagonal matrix elements\n",
    "    V_diag = [k * x**2 / 2 if x > 0 else inf for x in x_mesh]  # using a list comprehension\n",
    "    N = len(x_mesh)  # number of x points\n",
    "    \n",
    "    return V_diag * np.diag(np.ones(N), 0) "
   ]
  },
  {
   "cell_type": "code",
   "execution_count": null,
   "id": "2cdbe815",
   "metadata": {},
   "outputs": [],
   "source": [
    "def xsq_matrix(x_mesh):\n",
    "    \"\"\"\n",
    "    matrix for x^2 operator\n",
    "    \"\"\"\n",
    "    N = len(x_mesh)  # number of x points\n",
    "\n",
    "    return x_mesh**2 * np.diag(np.ones(N), 0) "
   ]
  },
  {
   "cell_type": "code",
   "execution_count": null,
   "id": "71bef0cc",
   "metadata": {},
   "outputs": [],
   "source": [
    "# Combine matrices to make the Hamiltonian matrix\n",
    "V_SHO = V_SHO_matrix(x_mesh)\n",
    "V_SHO_half = Half_V_SHO_matrix(x_mesh)\n",
    "\n",
    "Hamiltonian = -second_deriv + V_SHO  \n",
    "Hamiltonian_half = -second_deriv + V_SHO_half  "
   ]
  },
  {
   "cell_type": "code",
   "execution_count": null,
   "id": "a1f83d5e",
   "metadata": {},
   "outputs": [],
   "source": [
    "# Try diagonalizing using numpy functions\n",
    "eigvals, eigvecs = np.linalg.eigh(Hamiltonian)\n",
    "eigvals_half, eigvecs_half = np.linalg.eigh(Hamiltonian_half)"
   ]
  },
  {
   "cell_type": "code",
   "execution_count": null,
   "id": "03465207",
   "metadata": {},
   "outputs": [],
   "source": [
    "print(eigvals_half[0:10])"
   ]
  },
  {
   "cell_type": "code",
   "execution_count": null,
   "id": "3a48f8b3",
   "metadata": {},
   "outputs": [],
   "source": [
    "wf_0 = eigvecs[:,0]\n",
    "wf_1 = eigvecs[:,1]\n",
    "wf_2 = eigvecs[:,2]\n",
    "\n",
    "wf_half_0 = eigvecs_half[:,0]\n",
    "wf_half_1 = eigvecs_half[:,1]\n",
    "wf_half_2 = eigvecs_half[:,2]"
   ]
  },
  {
   "cell_type": "code",
   "execution_count": null,
   "id": "b3621268",
   "metadata": {},
   "outputs": [],
   "source": []
  }
 ],
 "metadata": {
  "kernelspec": {
   "display_name": "Python [conda env:7501-env] *",
   "language": "python",
   "name": "conda-env-7501-env-py"
  },
  "language_info": {
   "codemirror_mode": {
    "name": "ipython",
    "version": 3
   },
   "file_extension": ".py",
   "mimetype": "text/x-python",
   "name": "python",
   "nbconvert_exporter": "python",
   "pygments_lexer": "ipython3",
   "version": "3.10.6"
  }
 },
 "nbformat": 4,
 "nbformat_minor": 5
}