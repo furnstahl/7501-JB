{
 "cells": [
  {
   "cell_type": "markdown",
   "metadata": {},
   "source": [
    "# Quantum harmonic oscillator\n",
    "\n",
    "We will work our way through quantum harmonic oscillator for which the potential is:\n",
    "\n",
    "$$\n",
    "V(x) = \\frac{m\\omega^2}{2}x^2\n",
    "$$    \n",
    "\n",
    "We would now like to plot it up. For that we will need to import some routines, which simplify this."
   ]
  },
  {
   "cell_type": "code",
   "execution_count": 1,
   "metadata": {},
   "outputs": [],
   "source": [
    "# import plotting and numerics\n",
    "import matplotlib.pyplot as plt\n",
    "import numpy as np\n",
    "from numpy import linalg as LA"
   ]
  },
  {
   "cell_type": "markdown",
   "metadata": {},
   "source": [
    "now let us plot the potential"
   ]
  },
  {
   "cell_type": "code",
   "execution_count": 2,
   "metadata": {
    "scrolled": true
   },
   "outputs": [
    {
     "data": {
      "image/png": "[encoded data removed]",
      "text/plain": [
       "<Figure size 432x288 with 1 Axes>"
      ]
     },
     "metadata": {
      "filenames": {
       "image/png": "/Users/furnstah/Dropbox/git_rjf/7501-JB/_build/jupyter_execute/notebooks/External/harmonic_oscillator_Jendrzejewski_3_0.png"
      },
      "needs_background": "light"
     },
     "output_type": "display_data"
    }
   ],
   "source": [
    "#parameters of the harmonic potential\n",
    "\n",
    "omega = 2*np.pi; m = 1;hbar = 1\n",
    "\n",
    "# parameters of the grid\n",
    "Ngrid = 1001; xmin = -10; xmax = 10;\n",
    "\n",
    "xvec = np.linspace(xmin,xmax,Ngrid);#a vector spanning from -10 to 10 with 100 grid points\n",
    "Vx = m*omega**2/2*xvec**2;\n",
    "\n",
    "f, ax = plt.subplots()\n",
    "ax.plot(xvec,Vx);\n",
    "ax.set_xlabel('position $x$');\n",
    "ax.set_ylabel('potential $V(x)$');"
   ]
  },
  {
   "cell_type": "markdown",
   "metadata": {},
   "source": [
    "# Numerical diagonalization\n",
    "\n",
    "While the potential is nice to look at, we would actually like to use python to do some more powerful stuff than simple plots. One of them is the numerical diagonialization of the problem.\n",
    "\n",
    "## Kinetic energy\n",
    "So we first have to build the matrix that represents the kinetic energy. For that to work we discretize the second order derivative as:\n",
    "\n",
    "$$\n",
    "f''(x) = \\frac{f(x-dx)+f(x+dx)-2f(x)}{dx^2}\n",
    "$$"
   ]
  },
  {
   "cell_type": "code",
   "execution_count": 3,
   "metadata": {},
   "outputs": [
    {
     "data": {
      "text/plain": [
       "matrix([[    0.,     0.,     0., ...,     0.,     0.,     0.],\n",
       "        [-1250.,  2500., -1250., ...,     0.,     0.,     0.],\n",
       "        [    0., -1250.,  2500., ...,     0.,     0.,     0.],\n",
       "        ...,\n",
       "        [    0.,     0.,     0., ...,  2500., -1250.,     0.],\n",
       "        [    0.,     0.,     0., ..., -1250.,  2500., -1250.],\n",
       "        [    0.,     0.,     0., ...,     0.,     0.,     0.]])"
      ]
     },
     "execution_count": 3,
     "metadata": {},
     "output_type": "execute_result"
    }
   ],
   "source": [
    "#resolution of the grid\n",
    "dx = np.diff(xvec).mean()\n",
    "\n",
    "\n",
    "dia = -2*np.ones(Ngrid)\n",
    "offdia = np.ones(Ngrid-1)\n",
    "d2grid = np.mat(np.diag(dia,0) + np.diag(offdia,-1) + np.diag(offdia,1))/dx**2\n",
    "#avoid strange things at the edge of the grid\n",
    "d2grid[0,:]=0\n",
    "d2grid[Ngrid-1,:]=0\n",
    "\n",
    "Ekin = -hbar**2/(2*m)*d2grid\n",
    "Ekin"
   ]
  },
  {
   "cell_type": "markdown",
   "metadata": {},
   "source": [
    "## Potential energy\n",
    "\n",
    "This one is just a diagonal matrix that we have to initialize properly."
   ]
  },
  {
   "cell_type": "code",
   "execution_count": 4,
   "metadata": {},
   "outputs": [
    {
     "data": {
      "text/plain": [
       "matrix([[1973.92088022,    0.        ,    0.        , ...,    0.        ,\n",
       "            0.        ,    0.        ],\n",
       "        [   0.        , 1966.03309238,    0.        , ...,    0.        ,\n",
       "            0.        ,    0.        ],\n",
       "        [   0.        ,    0.        , 1958.16109591, ...,    0.        ,\n",
       "            0.        ,    0.        ],\n",
       "        ...,\n",
       "        [   0.        ,    0.        ,    0.        , ..., 1958.16109591,\n",
       "            0.        ,    0.        ],\n",
       "        [   0.        ,    0.        ,    0.        , ...,    0.        ,\n",
       "         1966.03309238,    0.        ],\n",
       "        [   0.        ,    0.        ,    0.        , ...,    0.        ,\n",
       "            0.        , 1973.92088022]])"
      ]
     },
     "execution_count": 4,
     "metadata": {},
     "output_type": "execute_result"
    }
   ],
   "source": [
    "#potential energy as matrix\n",
    "Epot = np.mat(np.diag(Vx,0))\n",
    "Epot"
   ]
  },
  {
   "cell_type": "markdown",
   "metadata": {},
   "source": [
    "# Diagonalization\n",
    "\n",
    "We can now put them together as:"
   ]
  },
  {
   "cell_type": "code",
   "execution_count": 5,
   "metadata": {},
   "outputs": [],
   "source": [
    "#%% combine to Hamiltonian, diagonalize and plot the lowest 30 energy eigenvalues\n",
    "H =  Ekin + Epot\n",
    "\n",
    "# diagonalization\n",
    "w, v = LA.eig(H)\n",
    "# sort it such that things look nice later\n",
    "sortinds = np.argsort(w)\n",
    "EigVecs = v[:,sortinds]\n",
    "EigVals = w[sortinds]"
   ]
  },
  {
   "cell_type": "markdown",
   "metadata": {},
   "source": [
    "Time to plot up the eigenvalues."
   ]
  },
  {
   "cell_type": "code",
   "execution_count": 6,
   "metadata": {},
   "outputs": [
    {
     "data": {
      "text/plain": [
       "Text(0.5, 0, 'index $n$')"
      ]
     },
     "execution_count": 6,
     "metadata": {},
     "output_type": "execute_result"
    },
    {
     "data": {
      "image/png": "[encoded data removed]",
      "text/plain": [
       "<Figure size 432x288 with 1 Axes>"
      ]
     },
     "metadata": {
      "filenames": {
       "image/png": "/Users/furnstah/Dropbox/git_rjf/7501-JB/_build/jupyter_execute/notebooks/External/harmonic_oscillator_Jendrzejewski_11_1.png"
      },
      "needs_background": "light"
     },
     "output_type": "display_data"
    }
   ],
   "source": [
    "f, ax = plt.subplots()\n",
    "ax.plot(EigVals[0:30],'o')\n",
    "ax.set_ylabel('Energy')\n",
    "ax.set_xlabel('index $n$')"
   ]
  },
  {
   "cell_type": "markdown",
   "metadata": {},
   "source": [
    "and now some eigenfunctions"
   ]
  },
  {
   "cell_type": "code",
   "execution_count": 7,
   "metadata": {},
   "outputs": [
    {
     "data": {
      "image/png": "[encoded data removed]",
      "text/plain": [
       "<Figure size 432x288 with 2 Axes>"
      ]
     },
     "metadata": {
      "filenames": {
       "image/png": "/Users/furnstah/Dropbox/git_rjf/7501-JB/_build/jupyter_execute/notebooks/External/harmonic_oscillator_Jendrzejewski_13_0.png"
      },
      "needs_background": "light"
     },
     "output_type": "display_data"
    }
   ],
   "source": [
    "n=2\n",
    "fig, (ax1,ax2) = plt.subplots(2,1, sharex=True)\n",
    "\n",
    "ax1.plot(xvec,np.real(EigVecs[:,n]))\n",
    "ax1.set(title='Realteil Eigenfunktion %d'%(n),xlabel='x')\n",
    "ax2.plot(xvec,np.power(np.abs(EigVecs[:,n]),2))\n",
    "ax2.set(title='AbsQuadrat Eigenfunktion %d'%(n),xlabel='x')\n",
    "fig.tight_layout()"
   ]
  },
  {
   "cell_type": "markdown",
   "metadata": {},
   "source": [
    "Feel free to extend this further as you wish at some later stage."
   ]
  },
  {
   "cell_type": "code",
   "execution_count": null,
   "metadata": {},
   "outputs": [],
   "source": []
  }
 ],
 "metadata": {
  "kernelspec": {
   "display_name": "Python 3 (ipykernel)",
   "language": "python",
   "name": "python3"
  },
  "language_info": {
   "codemirror_mode": {
    "name": "ipython",
    "version": 3
   },
   "file_extension": ".py",
   "mimetype": "text/x-python",
   "name": "python",
   "nbconvert_exporter": "python",
   "pygments_lexer": "ipython3",
   "version": "3.9.7"
  }
 },
 "nbformat": 4,
 "nbformat_minor": 2
}