{
 "cells": [
  {
   "cell_type": "markdown",
   "id": "993981ee",
   "metadata": {},
   "source": [
    "# Scaling of derivative errors\n",
    "\n",
    "In this notebook we explore how the errors of derivative operators realized as matrices on a coordinate space mesh scale with the spacing of the mesh.\n",
    "\n",
    "**Most of what you need is already here. Things to play with:**\n",
    "- The choice of function (`f_test`).\n",
    "- What point you evaluate the derivative at (`x_pt`).\n",
    "- The range of $\\Delta x$ to plot (`min_exp` and `max_exp`).\n"
   ]
  },
  {
   "cell_type": "markdown",
   "id": "3f67040f",
   "metadata": {},
   "source": [
    "Standard imports plus seaborn (to make plots looks nicer)."
   ]
  },
  {
   "cell_type": "code",
   "execution_count": null,
   "id": "d061bdf9",
   "metadata": {},
   "outputs": [],
   "source": [
    "import numpy as np\n",
    "import scipy.linalg as la\n",
    "\n",
    "import matplotlib.pyplot as plt\n",
    "import seaborn as sns; sns.set_style(\"darkgrid\"); sns.set_context(\"talk\")\n"
   ]
  },
  {
   "cell_type": "markdown",
   "id": "1897d8d2",
   "metadata": {},
   "source": [
    "We'll define two functions that create matrices that implement approximate derivatives when applied to a vector made up of a function evaluated at the mesh points. The numpy `diag` and `ones` functions are used to create matrices with 1's on particular diagonals, as in these $5\\times 5$ examples of forward derivatives: \n",
    "\n",
    "$$ \\frac{1}{\\Delta x}\\,\\left( \n",
    "    \\begin{array}{ccccc}\n",
    "    -1 & 1 & 0 & 0 & 0 \\\\\n",
    "    0 & -1 & 1 & 0 & 0 \\\\\n",
    "    0 & 0 & -1 & 1 & 0 \\\\\n",
    "    0 & 0 &0 & -1 & 1 \\\\\n",
    "    0 & 0 & 0 & 0 & -1\n",
    "    \\end{array}\n",
    "   \\right) \n",
    "   \\left(\\begin{array}{c}\n",
    "         f_1 \\\\ f_2 \\\\ f_3 \\\\ f_4 \\\\ f_5\n",
    "         \\end{array}\n",
    "   \\right) \n",
    "   \\overset{?}{=}\n",
    "   \\left(\\begin{array}{c}\n",
    "         ? \\\\ ? \\\\ ? \\\\ ? \\\\ ?\n",
    "         \\end{array}\n",
    "   \\right) \n",
    " $$  \n",
    " \n",
    " and symmetric derivatives:\n",
    "\n",
    "$$\n",
    "   \\frac{1}{2\\Delta x}\\,\\left( \n",
    "    \\begin{array}{ccccc}\n",
    "    0 & 1 & 0 & 0 & 0 \\\\\n",
    "    -1 & 0 & 1 & 0 & 0 \\\\\n",
    "    0 & -1 & 0 & 1 & 0 \\\\\n",
    "    0 & 0 & -1 & 0 & 1 \\\\\n",
    "    0 & 0 & 0 & -1 & 0\n",
    "    \\end{array}\n",
    "   \\right) \n",
    "   \\left(\\begin{array}{c}\n",
    "         f_1 \\\\ f_2 \\\\ f_3 \\\\ f_4 \\\\ f_5\n",
    "         \\end{array}\n",
    "   \\right)\n",
    "   \\overset{?}{=}\n",
    "   \\left(\\begin{array}{c}\n",
    "         ? \\\\ ? \\\\ ? \\\\ ? \\\\ ?\n",
    "         \\end{array}\n",
    "   \\right) \n",
    "$$\n",
    " "
   ]
  },
  {
   "cell_type": "code",
   "execution_count": null,
   "id": "fbdb8133",
   "metadata": {},
   "outputs": [],
   "source": [
    "def forward_derivative_matrix(N, Delta_x):\n",
    "    \"\"\"Return an N x N matrix for derivative of an equally spaced vector by delta_x\n",
    "    \"\"\"\n",
    "    return ( np.diag(np.ones(N-1), +1) - np.diag(np.ones(N), 0) ) / Delta_x"
   ]
  },
  {
   "cell_type": "code",
   "execution_count": null,
   "id": "22a46f46",
   "metadata": {},
   "outputs": [],
   "source": [
    "def symmetric_derivative_matrix(N, Delta_x):\n",
    "    \"\"\"Return an Nc x Nc matrix for derivative of an equally spaced vector by delta_x\n",
    "    \"\"\"\n",
    "    return ( np.diag(np.ones(N-1), +1) - np.diag(np.ones(N-1), -1) ) / (2 * Delta_x)"
   ]
  },
  {
   "cell_type": "markdown",
   "id": "7cb4a9a9",
   "metadata": {},
   "source": [
    "## Testing forward against symmetric derivative\n",
    "\n",
    "We'll check the relative accuracy of both approximate derivatives as a function of $\\Delta x$ by choosing a test function $f(x)$ and a range of $x$."
   ]
  },
  {
   "cell_type": "code",
   "execution_count": null,
   "id": "f0e3ad4f",
   "metadata": {},
   "outputs": [],
   "source": [
    "def make_x_mesh(Delta_x, x_pt, N_pts):\n",
    "    \"\"\"\n",
    "    Return a grid of N_pts points centered at x_pt and spaced by Delta_x\n",
    "    \"\"\"\n",
    "    x_min = x_pt - Delta_x * (N_pts - 1)/2\n",
    "    x_max = x_pt + Delta_x * (N_pts - 1)/2\n",
    "    return np.linspace(x_min, x_max, N_pts)"
   ]
  },
  {
   "cell_type": "code",
   "execution_count": null,
   "id": "e3212373",
   "metadata": {},
   "outputs": [],
   "source": [
    "# testing!\n",
    "Delta_x = 0.02\n",
    "x_pt = 1.\n",
    "N_pts = 5\n",
    "\n",
    "x_mesh = make_x_mesh(Delta_x, x_pt, N_pts)"
   ]
  },
  {
   "cell_type": "code",
   "execution_count": null,
   "id": "bf17d8fc",
   "metadata": {},
   "outputs": [],
   "source": [
    "# Check that mesh is consistent with Delta_x\n",
    "print(Delta_x)\n",
    "print(x_mesh)"
   ]
  },
  {
   "cell_type": "markdown",
   "id": "2bd5a7a6",
   "metadata": {},
   "source": [
    "Set up the derivative matrices for the specified mesh."
   ]
  },
  {
   "cell_type": "code",
   "execution_count": null,
   "id": "d6f7066e",
   "metadata": {
    "scrolled": true
   },
   "outputs": [],
   "source": [
    "fd = forward_derivative_matrix(N_pts, Delta_x)\n",
    "sd = symmetric_derivative_matrix(N_pts, Delta_x)"
   ]
  },
  {
   "cell_type": "code",
   "execution_count": null,
   "id": "0cb44ac3",
   "metadata": {},
   "outputs": [],
   "source": [
    "print(fd)"
   ]
  },
  {
   "cell_type": "markdown",
   "id": "e1fbe217",
   "metadata": {},
   "source": [
    "### Set up various test functions"
   ]
  },
  {
   "cell_type": "code",
   "execution_count": null,
   "id": "f07d711e",
   "metadata": {},
   "outputs": [],
   "source": [
    "def f_test_1(x_mesh):\n",
    "    \"\"\"\n",
    "    Return the value of the function x^4 e^{-x} and its derivative\n",
    "    \"\"\"\n",
    "    return ( np.exp(-x_mesh) * x_mesh**4, (4 * x_mesh**3 - x_mesh**4) * np.exp(-x_mesh) )    \n",
    "\n",
    "def f_test_2(x_mesh):\n",
    "    \"\"\"\n",
    "    Return the value of the function 1/(1 + x) and its derivative\n",
    "    \"\"\"\n",
    "    return ( 1/(1+x_mesh), -1/(1+x_mesh)**2 )\n",
    "\n",
    "def f_test_2(x_mesh):\n",
    "    \"\"\"\n",
    "    Return the value of the function 1/(1 + x) and its derivative\n",
    "    \"\"\"\n",
    "    return ( (np.sin(x_mesh))**2, 2 * np.cos(x_mesh) * np.sin(x_mesh) )"
   ]
  },
  {
   "cell_type": "markdown",
   "id": "01dd4f90",
   "metadata": {},
   "source": [
    "Pick one of the test functions and evaluate the function and its derivative on the mesh.\n",
    "Then apply the forward difference (fd) and symmetric difference (sd) matrices to the `f_test` vector (using the `@` symbol for matrix-vector, matrix-matrix, and vector-vector multiplication)."
   ]
  },
  {
   "cell_type": "code",
   "execution_count": null,
   "id": "b324f4e9",
   "metadata": {},
   "outputs": [],
   "source": [
    "f_test, f_deriv_exact = f_test_1(x_mesh)\n",
    "\n",
    "f_deriv_fd = fd @ f_test\n",
    "f_deriv_sd = sd @ f_test"
   ]
  },
  {
   "cell_type": "markdown",
   "id": "eb63a000",
   "metadata": {},
   "source": [
    "Make plots comparing the exact to approximate derivative and then the relative errors."
   ]
  },
  {
   "cell_type": "code",
   "execution_count": null,
   "id": "ee125d18",
   "metadata": {},
   "outputs": [],
   "source": [
    "def rel_error(x1, x2):\n",
    "    \"\"\"\n",
    "    Calculate the (absolute value of the) relative error between x1 and x2\n",
    "    \"\"\"\n",
    "    return np.abs( (x1 - x2) / ((x1 + x2)/2) )"
   ]
  },
  {
   "cell_type": "code",
   "execution_count": null,
   "id": "da8d7aa3",
   "metadata": {},
   "outputs": [],
   "source": [
    "fig = plt.figure(figsize=(12,6))\n",
    "\n",
    "ax1 = fig.add_subplot(1,2,1)\n",
    "ax1.set_xlabel(r'$x$')\n",
    "ax1.set_ylabel(r'$df/dx$')\n",
    "#ax1.set_xlim(0, x_max)\n",
    "ax1.set_ylim(-1., 3)\n",
    "\n",
    "ax1.plot(x_mesh, f_deriv_exact, color='red', label='exact derivative')\n",
    "ax1.plot(x_mesh, f_deriv_fd, color='blue', label='forward derivative', linestyle='dashed')\n",
    "ax1.plot(x_mesh, f_deriv_sd, color='green', label='symmetric derivative', linestyle='dotted')\n",
    "\n",
    "ax1.legend()\n",
    "\n",
    "ax2 = fig.add_subplot(1,2,2)\n",
    "ax2.set_xlabel(r'$x$')\n",
    "ax2.set_ylabel(r'relative error')\n",
    "#ax2.set_xlim(0, x_max)\n",
    "#ax2.set_ylim(-0.001, 0.001)\n",
    "\n",
    "# Calculate relative errors\n",
    "rel_error_fd = rel_error(f_deriv_exact, f_deriv_fd)\n",
    "rel_error_sd = rel_error(f_deriv_exact, f_deriv_sd) \n",
    "\n",
    "ax2.semilogy(x_mesh, rel_error_fd, color='blue', label='forward derivative', linestyle='dashed')\n",
    "ax2.semilogy(x_mesh, rel_error_sd, color='green', label='symmetric derivative', linestyle='dotted')\n",
    "\n",
    "ax2.legend()\n",
    "\n",
    "fig.tight_layout()"
   ]
  },
  {
   "cell_type": "markdown",
   "id": "6be178e8",
   "metadata": {},
   "source": [
    "## Test the scaling with Delta_x"
   ]
  },
  {
   "cell_type": "code",
   "execution_count": null,
   "id": "0933aff0",
   "metadata": {},
   "outputs": [],
   "source": [
    "x_pt = 1.\n",
    "N_pts = 5\n",
    "mid_pt_index = int((N_pts - 1)/2)\n",
    "print(mid_pt_index)"
   ]
  },
  {
   "cell_type": "code",
   "execution_count": null,
   "id": "73b10de7",
   "metadata": {},
   "outputs": [],
   "source": [
    "# Set up the Delta_x array\n",
    "min_exp = -4\n",
    "max_exp = -1\n",
    "num_Delta_x = 50\n",
    "array_exp = np.linspace(min_exp, max_exp, num_Delta_x)\n",
    "\n",
    "# initialize arrays to zero\n",
    "Delta_x_array = np.zeros(len(array_exp))\n",
    "rel_error_fd_array = np.zeros(len(array_exp))\n",
    "rel_error_sd_array = np.zeros(len(array_exp))\n",
    "\n",
    "print('  Delta_x     fd error     sd error')\n",
    "for index, exp in enumerate(array_exp):  # step through the exponents in the array\n",
    "    Delta_x = 10**exp  # calculate a new Delta_x\n",
    "\n",
    "    x_mesh = make_x_mesh(Delta_x, x_pt, N_pts)\n",
    "    \n",
    "    fd = forward_derivative_matrix(N_pts, Delta_x)\n",
    "    sd = symmetric_derivative_matrix(N_pts, Delta_x)\n",
    "    \n",
    "    f_test, f_deriv_exact = f_test_1(x_mesh)\n",
    "\n",
    "    f_deriv_fd = fd @ f_test\n",
    "    f_deriv_sd = sd @ f_test\n",
    "    \n",
    "    # Calculate relative errors\n",
    "    rel_error_fd = rel_error(f_deriv_exact, f_deriv_fd)[mid_pt_index]\n",
    "    rel_error_sd = rel_error(f_deriv_exact, f_deriv_sd)[mid_pt_index]\n",
    "     \n",
    "    print(f'{Delta_x:.5e}  {rel_error_fd:.5e}  {rel_error_sd:.5e}')\n",
    "    \n",
    "    # add to arrays\n",
    "    Delta_x_array[index] = Delta_x\n",
    "    rel_error_fd_array[index] = rel_error_fd\n",
    "    rel_error_sd_array[index] = rel_error_sd\n",
    "    \n"
   ]
  },
  {
   "cell_type": "markdown",
   "id": "acc23ac2",
   "metadata": {},
   "source": [
    "### Make a log-log plot"
   ]
  },
  {
   "cell_type": "code",
   "execution_count": null,
   "id": "4270a4f9",
   "metadata": {},
   "outputs": [],
   "source": [
    "fig = plt.figure(figsize=(8,6))\n",
    "\n",
    "ax1 = fig.add_subplot(1,1,1)\n",
    "ax1.set_xlabel(r'$\\Delta x$')\n",
    "ax1.set_ylabel(r'relative error')\n",
    "#ax1.set_xlim(0, x_max)\n",
    "#ax1.set_ylim(-1., 3)\n",
    "\n",
    "ax1.loglog(Delta_x_array, rel_error_fd_array, color='red', label='forward derivative')\n",
    "ax1.loglog(Delta_x_array, rel_error_sd_array, color='blue', label='symmetric derivative')\n",
    "\n",
    "ax1.legend();"
   ]
  },
  {
   "cell_type": "code",
   "execution_count": null,
   "id": "dbe5b6c0",
   "metadata": {},
   "outputs": [],
   "source": []
  },
  {
   "cell_type": "code",
   "execution_count": null,
   "id": "082bd723",
   "metadata": {},
   "outputs": [],
   "source": []
  }
 ],
 "metadata": {
  "kernelspec": {
   "display_name": "Python 3 (ipykernel)",
   "language": "python",
   "name": "python3"
  },
  "language_info": {
   "codemirror_mode": {
    "name": "ipython",
    "version": 3
   },
   "file_extension": ".py",
   "mimetype": "text/x-python",
   "name": "python",
   "nbconvert_exporter": "python",
   "pygments_lexer": "ipython3",
   "version": "3.9.12"
  }
 },
 "nbformat": 4,
 "nbformat_minor": 5
}