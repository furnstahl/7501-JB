{
 "cells": [
  {
   "cell_type": "code",
   "execution_count": null,
   "id": "3e3ff829",
   "metadata": {},
   "outputs": [],
   "source": [
    "def second_derivative_matrix(N, Delta_x):\n",
    "    \"\"\"\n",
    "    Return an N x N matrix for 2nd derivative of a vector equally spaced by delta_x\n",
    "    \"\"\"\n",
    "    M_temp = np.diag(np.ones(N-1), +1) + np.diag(np.ones(N-1), -1) \\\n",
    "              - 2 * np.diag(np.ones(N), 0)\n",
    "\n",
    "    return M_temp / (Delta_x**2)"
   ]
  },
  {
   "cell_type": "markdown",
   "id": "934c79b5",
   "metadata": {},
   "source": [
    "## Testing second derivative\n",
    "\n",
    "We'll check the relative accuracy of the approximate second derivative at a fixed $\\Delta x$ by choosing a test function $f(x)$ and a range of $x$. \n",
    "\n",
    "**Choose values for `N_pts`, `x_min`, and `x_max` "
   ]
  },
  {
   "cell_type": "code",
   "execution_count": null,
   "id": "516af505",
   "metadata": {},
   "outputs": [],
   "source": [
    "N_pts = 801  \n",
    "x_min = -8.\n",
    "x_min = 0.\n",
    "x_max = 8.\n",
    "Delta_x = (x_max - x_min) / (N_pts - 1)\n",
    "x_mesh = np.linspace(x_min, x_max, N_pts)  # create the grid (\"mesh\") of x points"
   ]
  },
  {
   "cell_type": "code",
   "execution_count": null,
   "id": "0ebe7cc1",
   "metadata": {},
   "outputs": [],
   "source": []
  }
 ],
 "metadata": {
  "kernelspec": {
   "display_name": "Python 3 (ipykernel)",
   "language": "python",
   "name": "python3"
  },
  "language_info": {
   "codemirror_mode": {
    "name": "ipython",
    "version": 3
   },
   "file_extension": ".py",
   "mimetype": "text/x-python",
   "name": "python",
   "nbconvert_exporter": "python",
   "pygments_lexer": "ipython3",
   "version": "3.9.12"
  }
 },
 "nbformat": 4,
 "nbformat_minor": 5
}