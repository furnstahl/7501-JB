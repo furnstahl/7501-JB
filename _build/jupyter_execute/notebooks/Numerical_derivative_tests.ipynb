{
 "cells": [
  {
   "cell_type": "markdown",
   "id": "993981ee",
   "metadata": {},
   "source": [
    "# Tests of exponentiating derivative operators\n",
    "\n",
    "In this notebook we explore the accuracy of derivative operators realized as matrices on a coordinate space mesh and then do tests of exponentiating those operators various ways."
   ]
  },
  {
   "cell_type": "markdown",
   "id": "3f67040f",
   "metadata": {},
   "source": [
    "Standard imports plus seaborn (to make plots looks nicer)."
   ]
  },
  {
   "cell_type": "code",
   "execution_count": null,
   "id": "d061bdf9",
   "metadata": {},
   "outputs": [],
   "source": [
    "import numpy as np\n",
    "import scipy.linalg as la\n",
    "\n",
    "import matplotlib.pyplot as plt\n",
    "import seaborn as sns; sns.set_style(\"darkgrid\"); sns.set_context(\"talk\")\n"
   ]
  },
  {
   "cell_type": "markdown",
   "id": "1897d8d2",
   "metadata": {},
   "source": [
    "We'll define two functions that create matrices that implement approximate derivatives when applied to a vector made up of a function evaluated at the mesh points. The numpy `diag` and `ones` functions are used to create matrices with 1's on particular diagonals, as in these $5\\times 5$ examples of forward derivatives: \n",
    "\n",
    "$$ \\frac{1}{\\Delta x}\\,\\left( \n",
    "    \\begin{array}{ccccc}\n",
    "    -1 & 1 & 0 & 0 & 0 \\\\\n",
    "    0 & -1 & 1 & 0 & 0 \\\\\n",
    "    0 & 0 & -1 & 1 & 0 \\\\\n",
    "    0 & 0 &0 & -1 & 1 \\\\\n",
    "    0 & 0 & 0 & 0 & -1\n",
    "    \\end{array}\n",
    "   \\right) \n",
    "   \\left(\\begin{array}{c}\n",
    "         f_1 \\\\ f_2 \\\\ f_3 \\\\ f_4 \\\\ f_5\n",
    "         \\end{array}\n",
    "   \\right) \n",
    "   \\overset{?}{=}\n",
    "   \\left(\\begin{array}{c}\n",
    "         ? \\\\ ? \\\\ ? \\\\ ? \\\\ ?\n",
    "         \\end{array}\n",
    "   \\right) \n",
    " $$  \n",
    " \n",
    " and symmetric derivatives:\n",
    "\n",
    "$$\n",
    "   \\frac{1}{2\\Delta x}\\,\\left( \n",
    "    \\begin{array}{ccccc}\n",
    "    0 & 1 & 0 & 0 & 0 \\\\\n",
    "    -1 & 0 & 1 & 0 & 0 \\\\\n",
    "    0 & -1 & 0 & 1 & 0 \\\\\n",
    "    0 & 0 & -1 & 0 & 1 \\\\\n",
    "    0 & 0 & 0 & -1 & 0\n",
    "    \\end{array}\n",
    "   \\right) \n",
    "   \\left(\\begin{array}{c}\n",
    "         f_1 \\\\ f_2 \\\\ f_3 \\\\ f_4 \\\\ f_5\n",
    "         \\end{array}\n",
    "   \\right)\n",
    "   \\overset{?}{=}\n",
    "   \\left(\\begin{array}{c}\n",
    "         ? \\\\ ? \\\\ ? \\\\ ? \\\\ ?\n",
    "         \\end{array}\n",
    "   \\right) \n",
    "$$\n",
    " "
   ]
  },
  {
   "cell_type": "code",
   "execution_count": null,
   "id": "fbdb8133",
   "metadata": {},
   "outputs": [],
   "source": [
    "def forward_derivative_matrix(N, Delta_x):\n",
    "    \"\"\"Return an N x N matrix for derivative of an equally spaced vector by delta_x\n",
    "    \"\"\"\n",
    "    return ( np.diag(np.ones(N-1), +1) - np.diag(np.ones(N), 0) ) / Delta_x"
   ]
  },
  {
   "cell_type": "code",
   "execution_count": null,
   "id": "22a46f46",
   "metadata": {},
   "outputs": [],
   "source": [
    "def symmetric_derivative_matrix(N, Delta_x):\n",
    "    \"\"\"Return an Nc x Nc matrix for derivative of an equally spaced vector by delta_x\n",
    "    \"\"\"\n",
    "    return ( np.diag(np.ones(N-1), +1) - np.diag(np.ones(N-1), -1) ) / (2 * Delta_x)"
   ]
  },
  {
   "cell_type": "markdown",
   "id": "7cb4a9a9",
   "metadata": {},
   "source": [
    "## Testing forward against symmetric derivative\n",
    "\n",
    "We'll check the relative accuracy of both approximate derivatives as a function of $\\Delta x$ by choosing a test function $f(x)$ and a range of $x$."
   ]
  },
  {
   "cell_type": "code",
   "execution_count": null,
   "id": "f0e3ad4f",
   "metadata": {},
   "outputs": [],
   "source": [
    "N_pts = 101;\n",
    "x_min = 0.\n",
    "x_max = 2.\n",
    "Delta_x = (x_max - x_min) / (N_pts - 1)\n",
    "x_mesh = np.linspace(x_min, x_max, N_pts)"
   ]
  },
  {
   "cell_type": "code",
   "execution_count": null,
   "id": "bf17d8fc",
   "metadata": {},
   "outputs": [],
   "source": [
    "# Check that mesh is consistent with Delta_x\n",
    "print(Delta_x)\n",
    "print(x_mesh)"
   ]
  },
  {
   "cell_type": "markdown",
   "id": "2bd5a7a6",
   "metadata": {},
   "source": [
    "Set up the derivative matrices for the specified mesh."
   ]
  },
  {
   "cell_type": "code",
   "execution_count": null,
   "id": "d6f7066e",
   "metadata": {
    "scrolled": true
   },
   "outputs": [],
   "source": [
    "fd = forward_derivative_matrix(N_pts, Delta_x)\n",
    "sd = symmetric_derivative_matrix(N_pts, Delta_x)"
   ]
  },
  {
   "cell_type": "markdown",
   "id": "e1fbe217",
   "metadata": {},
   "source": [
    "### Set up various test functions"
   ]
  },
  {
   "cell_type": "code",
   "execution_count": null,
   "id": "f07d711e",
   "metadata": {},
   "outputs": [],
   "source": [
    "def f_test_1(x_mesh):\n",
    "    \"\"\"\n",
    "    Return the value of the function x^4 e^{-x} and its derivative\n",
    "    \"\"\"\n",
    "    return ( np.exp(-x_mesh) * x_mesh**4, (4 * x_mesh**3 - x_mesh**4) * np.exp(-x_mesh) )    \n",
    "\n",
    "def f_test_2(x_mesh):\n",
    "    \"\"\"\n",
    "    Return the value of the function 1/(1 + x) and its derivative\n",
    "    \"\"\"\n",
    "    return ( 1/(1+x_mesh), -1/(1+x_mesh)**2 )\n",
    "\n",
    "def f_test_2(x_mesh):\n",
    "    \"\"\"\n",
    "    Return the value of the function 1/(1 + x) and its derivative\n",
    "    \"\"\"\n",
    "    return ( (np.sin(x_mesh))**2, 2 * np.cos(x_mesh) * np.sin(x_mesh) )"
   ]
  },
  {
   "cell_type": "markdown",
   "id": "01dd4f90",
   "metadata": {},
   "source": [
    "Pick one of the test functions and evaluate the function and its derivative on the mesh.\n",
    "Then apply the forward difference (fd) and symmetric difference (sd) matrices to the `f_test` vector (using the `@` symbol for matrix-vector, matrix-matrix, and vector-vector multiplication)."
   ]
  },
  {
   "cell_type": "code",
   "execution_count": null,
   "id": "b324f4e9",
   "metadata": {},
   "outputs": [],
   "source": [
    "f_test, f_deriv_exact = f_test_1(x_mesh)\n",
    "\n",
    "f_deriv_fd = fd @ f_test\n",
    "f_deriv_sd = sd @ f_test"
   ]
  },
  {
   "cell_type": "markdown",
   "id": "eb63a000",
   "metadata": {},
   "source": [
    "Make plots comparing the exact to approximate derivative and then the relative errors."
   ]
  },
  {
   "cell_type": "code",
   "execution_count": null,
   "id": "ee125d18",
   "metadata": {},
   "outputs": [],
   "source": [
    "def rel_error(x1, x2):\n",
    "    \"\"\"\n",
    "    Calculate the (absolute value of the) relative error between x1 and x2\n",
    "    \"\"\"\n",
    "    return np.abs( (x1 - x2) / ((x1 + x2)/2) )"
   ]
  },
  {
   "cell_type": "code",
   "execution_count": null,
   "id": "da8d7aa3",
   "metadata": {},
   "outputs": [],
   "source": [
    "fig = plt.figure(figsize=(12,6))\n",
    "\n",
    "ax1 = fig.add_subplot(1,2,1)\n",
    "ax1.set_xlabel(r'$x$')\n",
    "ax1.set_ylabel(r'$df/dx$')\n",
    "ax1.set_xlim(0, x_max)\n",
    "ax1.set_ylim(-1., 3)\n",
    "\n",
    "ax1.plot(x_mesh, f_deriv_exact, color='red', label='exact derivative')\n",
    "ax1.plot(x_mesh, f_deriv_fd, color='blue', label='forward derivative', linestyle='dashed')\n",
    "ax1.plot(x_mesh, f_deriv_sd, color='green', label='symmetric derivative', linestyle='dotted')\n",
    "\n",
    "ax1.legend()\n",
    "\n",
    "ax2 = fig.add_subplot(1,2,2)\n",
    "ax2.set_xlabel(r'$x$')\n",
    "ax2.set_ylabel(r'relative error')\n",
    "ax2.set_xlim(0, x_max)\n",
    "#ax2.set_ylim(-0.001, 0.001)\n",
    "\n",
    "# Calculate relative errors\n",
    "rel_error_fd = rel_error(f_deriv_exact, f_deriv_fd)\n",
    "rel_error_sd = rel_error(f_deriv_exact, f_deriv_sd) \n",
    "\n",
    "ax2.semilogy(x_mesh, rel_error_fd, color='blue', label='forward derivative', linestyle='dashed')\n",
    "ax2.semilogy(x_mesh, rel_error_sd, color='green', label='symmetric derivative', linestyle='dotted')\n",
    "\n",
    "ax2.legend()\n",
    "\n",
    "fig.tight_layout()"
   ]
  },
  {
   "cell_type": "markdown",
   "id": "a12ad2c6",
   "metadata": {},
   "source": [
    "Try a different test function.\n",
    "\n",
    "**Questions to address:**\n",
    "\n",
    "1. What specifically goes wrong at the largest value of $x$?\n",
    "2. Demonstrate by Taylor expansions how much better symmetric derivatives should be than forward derivatives."
   ]
  },
  {
   "cell_type": "markdown",
   "id": "064b9c0a",
   "metadata": {},
   "source": [
    "## Exponentiating derivative matrices for finite translation\n",
    "\n",
    "Here we create translation operators in matrix form by exponentiating the derivate matrices."
   ]
  },
  {
   "cell_type": "code",
   "execution_count": null,
   "id": "905371e0",
   "metadata": {},
   "outputs": [],
   "source": [
    "a = 10 * Delta_x  # translate by a multiple of Delta_x"
   ]
  },
  {
   "cell_type": "markdown",
   "id": "c0d86fad",
   "metadata": {},
   "source": [
    "Below we pick one of the test functions and evaluate the function on the mesh, but displaced by `a` from each `x` point.\n",
    "Then apply various approximations to an exponentiated derivative, which is an approximation to a translation operator.\n",
    "\n",
    "The approximations use the forward difference (fd) and symmetric difference (sd) matrices, which in term either use `la.expm`, which is a matrix exponential function, or `la.fractional_matrix_power`, which implements the product approximation.\n",
    "\n",
    "So we test $e^{M}$ versus $(1 +\\frac{M}{N})^N$, where $M$ is the matrix approximation to the derivative operator. \n",
    "\n"
   ]
  },
  {
   "cell_type": "code",
   "execution_count": null,
   "id": "006f3ebb",
   "metadata": {},
   "outputs": [],
   "source": [
    "f_test, f_deriv_exact = f_test_1(x_mesh)\n",
    "f_exp_exact, dummy  = f_test_1(x_mesh + a)\n",
    "\n",
    "f_exp_fd = la.expm(a*fd) @ f_test\n",
    "f_exp_sd = la.expm(a*sd) @ f_test\n",
    "\n",
    "f_exp_fd2 = la.fractional_matrix_power(np.eye(N_pts) + Delta_x*fd, a/Delta_x) @ f_test\n",
    "f_exp_sd2 = la.fractional_matrix_power(np.eye(N_pts) + Delta_x*sd, a/Delta_x) @ f_test"
   ]
  },
  {
   "cell_type": "markdown",
   "id": "c9533214",
   "metadata": {},
   "source": [
    "First make a comparison plot of exact to matrix exponentiation of either forward derivatives or symmetric derivatives."
   ]
  },
  {
   "cell_type": "code",
   "execution_count": null,
   "id": "61bc79c8",
   "metadata": {},
   "outputs": [],
   "source": [
    "fig = plt.figure(figsize=(12,6))\n",
    "ax1 = fig.add_subplot(1,2,1)\n",
    "ax1.set_xlabel(r'$x$')\n",
    "ax1.set_ylabel(r'$f(x+a)$')\n",
    "ax1.set_xlim(0, x_max)\n",
    "ax1.set_ylim(-1., 3)\n",
    "\n",
    "ax1.plot(x_mesh, f_exp_exact, color='red', label='exact translation')\n",
    "ax1.plot(x_mesh, f_exp_fd, color='blue', label='forward translation', linestyle='dashed')\n",
    "ax1.plot(x_mesh, f_exp_sd, color='green', label='symmetric translation', linestyle='dotted')\n",
    "\n",
    "ax1.set_title(fr'$\\Delta x = {Delta_x:.3f}$; exp translate by {a:.3f}')\n",
    "ax1.legend()\n",
    "\n",
    "ax2 = fig.add_subplot(1,2,2)\n",
    "ax2.set_xlabel(r'$x$')\n",
    "ax2.set_ylabel(r'relative error')\n",
    "ax2.set_xlim(0, x_max)\n",
    "#ax2.set_ylim(-0.001, 0.001)\n",
    "\n",
    "rel_error_fd = rel_error(f_exp_exact, f_exp_fd)\n",
    "rel_error_sd = rel_error(f_exp_exact, f_exp_sd) \n",
    "\n",
    "ax2.semilogy(x_mesh, rel_error_fd, color='blue', label='forward translation', linestyle='dashed')\n",
    "ax2.semilogy(x_mesh, rel_error_sd, color='green', label='symmetric translation', linestyle='dotted')\n",
    "\n",
    "ax2.set_title(fr'$\\Delta x = {Delta_x:.3f}$; exp translate {a:.3f}')\n",
    "ax2.legend()\n",
    "\n",
    "fig.tight_layout()"
   ]
  },
  {
   "cell_type": "markdown",
   "id": "1c741d78",
   "metadata": {},
   "source": [
    "Now make a comparison plot of exact to power translation with either forward derivatives or symmetric derivatives."
   ]
  },
  {
   "cell_type": "code",
   "execution_count": null,
   "id": "248660a5",
   "metadata": {},
   "outputs": [],
   "source": [
    "fig = plt.figure(figsize=(12,6))\n",
    "ax1 = fig.add_subplot(1,2,1)\n",
    "ax1.set_xlabel(r'$x$')\n",
    "ax1.set_ylabel(r'$f(x+a)$')\n",
    "ax1.set_xlim(0, x_max)\n",
    "ax1.set_ylim(-1., 3)\n",
    "\n",
    "ax1.plot(x_mesh, f_exp_exact, color='red', label='exact translation')\n",
    "ax1.plot(x_mesh, f_exp_fd2, color='blue', label='forward power', linestyle='dashed')\n",
    "ax1.plot(x_mesh, f_exp_sd2, color='green', label='symmetric translation', linestyle='dotted')\n",
    "\n",
    "ax1.set_title(fr'$\\Delta x = {Delta_x:.3f}$; power translate by {a:.3f}')\n",
    "ax1.legend()\n",
    "\n",
    "ax2 = fig.add_subplot(1,2,2)\n",
    "ax2.set_xlabel(r'$x$')\n",
    "ax2.set_ylabel(r'relative error')\n",
    "ax2.set_xlim(0, x_max)\n",
    "\n",
    "rel_error_fd = rel_error(f_exp_exact, f_exp_fd2)\n",
    "rel_error_sd = rel_error(f_exp_exact, f_exp_sd2) \n",
    "\n",
    "ax2.semilogy(x_mesh, rel_error_fd, color='blue', label='forward translation', linestyle='dashed')\n",
    "ax2.semilogy(x_mesh, rel_error_sd, color='green', label='symmetric translation', linestyle='dotted')\n",
    "\n",
    "ax2.set_title(fr'$\\Delta x = {Delta_x:.3f}$; power translate {a:.3f}')\n",
    "ax2.legend()\n",
    "\n",
    "fig.tight_layout()"
   ]
  },
  {
   "cell_type": "code",
   "execution_count": null,
   "id": "faa2eda7",
   "metadata": {},
   "outputs": [],
   "source": []
  },
  {
   "cell_type": "code",
   "execution_count": null,
   "id": "dac64f0a",
   "metadata": {},
   "outputs": [],
   "source": []
  }
 ],
 "metadata": {
  "kernelspec": {
   "display_name": "Python 3 (ipykernel)",
   "language": "python",
   "name": "python3"
  },
  "language_info": {
   "codemirror_mode": {
    "name": "ipython",
    "version": 3
   },
   "file_extension": ".py",
   "mimetype": "text/x-python",
   "name": "python",
   "nbconvert_exporter": "python",
   "pygments_lexer": "ipython3",
   "version": "3.9.12"
  }
 },
 "nbformat": 4,
 "nbformat_minor": 5
}