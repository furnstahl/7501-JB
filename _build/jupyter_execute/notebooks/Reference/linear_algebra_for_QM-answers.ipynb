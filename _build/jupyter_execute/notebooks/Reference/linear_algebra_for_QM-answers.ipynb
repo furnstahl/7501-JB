{
 "cells": [
  {
   "cell_type": "markdown",
   "id": "424d08b3",
   "metadata": {},
   "source": [
    "# Linear algebra for quantum mechanics\n",
    "\n",
    "Last revised: 06-Sep-2022 by Dick Furnstahl [furnstahl.1@osu.edu]\n",
    "\n",
    "Here we do a selective (i.e., non-comprehensive) introduction to using Python for the type of linear algebra manipulation used in quantum mechanics (QM). We can do both numerical manipulations (with numpy) or symbolic manipulations (with sympy)."
   ]
  },
  {
   "cell_type": "markdown",
   "id": "d61c3f49",
   "metadata": {},
   "source": [
    "## If you are new to Jupyter notebooks\n",
    "\n",
    "**You can find valuable documentation under the Jupyter notebook Help menu. The \"User Interface Tour\" and \"Keyboard Shortcuts\" are useful places to start, but there are also many other links to documentation there.** \n",
    "\n",
    "*Select \"User Interface Tour\" and use the arrow keys to step through the tour.*"
   ]
  },
  {
   "cell_type": "markdown",
   "id": "96845cde",
   "metadata": {},
   "source": [
    "A Jupyter notebook is displayed on a web browser running on a computer, tablet (e.g., IPad), or even your smartphone.  The notebook is divided into *cells*, of which two types are relevant for us:\n",
    "* **Markdown cells:** These have headings, text, and mathematical formulas in $\\LaTeX$ using a simple form of HTML called *markdown*.\n",
    "* **Code cells:** These have Python code (or other languages, but we'll stick to Python).\n",
    "\n",
    "Either type of cell can be selected with your cursor and will be highlighted in color on the left when active.  You evaluate an active cell with shift-return (as with Mathematica) or by pressing `Run` on the notebook toolbar.  Some notes:\n",
    "* When a new cell is inserted, by default it is a Code cell and will have `In []:` to the left.  You can type Python expressions or entire programs in a cell.  How you break up code between cells is your choice and you can always put Markdown cells in between.  When you evaluate a cell it advances to the next number, e.g., `In [5]:`.\n",
    "* On the notebook menu bar is a pulldown menu that lets you change back and forth between Code and Markdown cells.  Once you evaluate a Markdown cell, it gets formatted (and has a blue border).  To edit the Markdown cell, double click in it. \n",
    "\n",
    "**Try double-clicking on this cell (the one you are reading) and then shift-return.**  You will see that a bullet list is created just with an asterisk and a space at the beginning of lines (without the space you get *italics* and with two asterisks you get **bold**).  **Double click on the title header above and you'll see it starts with a single #.**  Headings of subsections are made using ## or ###.  See this [Markdown cheatsheet](https://github.com/adam-p/markdown-here/wiki/Markdown-Cheatsheet) for a quick tour of the Markdown language (including how to add links!).\n",
    "\n",
    "**Now try turning the next (empty) cell to a Markdown cell and type:** `Einstein says $E=mc^2$` **and then evaluate it.**  This is $\\LaTeX$! (If you forget to convert to Markdown and get `SyntaxError: invalid syntax`, just select the cell and convert to Markdown with the menu.)"
   ]
  },
  {
   "cell_type": "code",
   "execution_count": null,
   "id": "d21c244f",
   "metadata": {},
   "outputs": [],
   "source": []
  },
  {
   "cell_type": "markdown",
   "id": "e1831802",
   "metadata": {},
   "source": [
    "## A whirlwind tour of Python for linear algebra"
   ]
  },
  {
   "cell_type": "markdown",
   "id": "10c276d0",
   "metadata": {},
   "source": [
    "Start by importing the library modules we'll need, defining standard abbreviations (`np` for numpy and `LA` for scipy.linalg). Google `numpy` or `scipy` with specific topics mentioned (e.g., \"arrays\") to learn much more.  "
   ]
  },
  {
   "cell_type": "code",
   "execution_count": 1,
   "id": "c2058ec2",
   "metadata": {},
   "outputs": [],
   "source": [
    "import numpy as np\n",
    "import scipy.linalg as LA"
   ]
  },
  {
   "cell_type": "markdown",
   "id": "ccff2c2e",
   "metadata": {},
   "source": [
    "### Inputting vectors and matrices\n",
    "\n",
    "Both vectors and matrices will be entered as particular Python list objects known as numpy arrays. Vectors appear in square brackets and matrices in nested square brackets; we create them as arguments to `np.array`."
   ]
  },
  {
   "cell_type": "code",
   "execution_count": 2,
   "id": "4927ec81",
   "metadata": {},
   "outputs": [],
   "source": [
    "x = np.array([0, 1, 2, 3])"
   ]
  },
  {
   "cell_type": "code",
   "execution_count": 3,
   "id": "cac17a35",
   "metadata": {},
   "outputs": [
    {
     "name": "stdout",
     "output_type": "stream",
     "text": [
      "[0 1 2 3]\n"
     ]
    }
   ],
   "source": [
    "print(x)"
   ]
  },
  {
   "cell_type": "markdown",
   "id": "f9da5bf5",
   "metadata": {},
   "source": [
    "We can pick out elements of the vector (note the square brackets). If there are `n` elements of the vector, they are indexed from `0` to `n-1`. **Why does the last reference fail here with an error?** "
   ]
  },
  {
   "cell_type": "code",
   "execution_count": 4,
   "id": "56f22f03",
   "metadata": {},
   "outputs": [
    {
     "name": "stdout",
     "output_type": "stream",
     "text": [
      "0\n",
      "3\n"
     ]
    },
    {
     "ename": "IndexError",
     "evalue": "index 4 is out of bounds for axis 0 with size 4",
     "output_type": "error",
     "traceback": [
      "\u001b[0;31m---------------------------------------------------------------------------\u001b[0m",
      "\u001b[0;31mIndexError\u001b[0m                                Traceback (most recent call last)",
      "Input \u001b[0;32mIn [4]\u001b[0m, in \u001b[0;36m<cell line: 3>\u001b[0;34m()\u001b[0m\n\u001b[1;32m      1\u001b[0m \u001b[38;5;28mprint\u001b[39m(x[\u001b[38;5;241m0\u001b[39m])\n\u001b[1;32m      2\u001b[0m \u001b[38;5;28mprint\u001b[39m(x[\u001b[38;5;241m3\u001b[39m])\n\u001b[0;32m----> 3\u001b[0m \u001b[38;5;28mprint\u001b[39m(\u001b[43mx\u001b[49m\u001b[43m[\u001b[49m\u001b[38;5;241;43m4\u001b[39;49m\u001b[43m]\u001b[49m)\n",
      "\u001b[0;31mIndexError\u001b[0m: index 4 is out of bounds for axis 0 with size 4"
     ]
    }
   ],
   "source": [
    "print(x[0])\n",
    "print(x[3])\n",
    "print(x[4])"
   ]
  },
  {
   "cell_type": "markdown",
   "id": "7aca74cc",
   "metadata": {},
   "source": [
    "Functions are defined to generate matrices such as identity matrices of any dimension (`np.eye`)."
   ]
  },
  {
   "cell_type": "code",
   "execution_count": 5,
   "id": "923f528f",
   "metadata": {},
   "outputs": [],
   "source": [
    "ident2 = np.eye(2)   # we can name these whatever we want\n",
    "my_identity3 = np.eye(3)"
   ]
  },
  {
   "cell_type": "code",
   "execution_count": 6,
   "id": "ea234f10",
   "metadata": {},
   "outputs": [
    {
     "name": "stdout",
     "output_type": "stream",
     "text": [
      "[[1. 0.]\n",
      " [0. 1.]]\n",
      "\n",
      "\n",
      "[[1. 0. 0.]\n",
      " [0. 1. 0.]\n",
      " [0. 0. 1.]]\n"
     ]
    }
   ],
   "source": [
    "print(ident2)\n",
    "print('\\n')  # skip a line; \\n means \"newline\"\n",
    "print(my_identity3)"
   ]
  },
  {
   "cell_type": "markdown",
   "id": "87f3dbca",
   "metadata": {},
   "source": [
    "If we use the `shape` attribute we would get $(3, 3)$ as output, that is verifying that our matrix is a $3\\times 3$ matrix. "
   ]
  },
  {
   "cell_type": "code",
   "execution_count": 7,
   "id": "213f14d9",
   "metadata": {},
   "outputs": [
    {
     "data": {
      "text/plain": [
       "(3, 3)"
      ]
     },
     "execution_count": 7,
     "metadata": {},
     "output_type": "execute_result"
    }
   ],
   "source": [
    "my_identity3.shape"
   ]
  },
  {
   "cell_type": "markdown",
   "id": "390585aa",
   "metadata": {},
   "source": [
    "### Pauli matrix examples"
   ]
  },
  {
   "cell_type": "markdown",
   "id": "5a7ca869",
   "metadata": {},
   "source": [
    "Here we see how to use np.array to input a matrix. Note the use of `1j` for $\\sqrt{-1}$."
   ]
  },
  {
   "cell_type": "code",
   "execution_count": 8,
   "id": "b60babc8",
   "metadata": {},
   "outputs": [],
   "source": [
    "eye2 = np.eye(2)   # 2x2 identity\n",
    "sig1 = np.array([[0, 1], [1, 0]]) # \\sigma_1\n",
    "sig2 = np.array([[0, -1j], [1j, 0]]) # use j for sqrt(-1)\n",
    "sig3 = np.array([[1, 0], [0, -1]])"
   ]
  },
  {
   "cell_type": "code",
   "execution_count": 9,
   "id": "241cfa96",
   "metadata": {},
   "outputs": [
    {
     "name": "stdout",
     "output_type": "stream",
     "text": [
      "[[1. 0.]\n",
      " [0. 1.]] \n",
      "\n",
      " [[0 1]\n",
      " [1 0]] \n",
      "\n",
      " [[ 0.+0.j -0.-1.j]\n",
      " [ 0.+1.j  0.+0.j]] \n",
      "\n",
      " [[ 1  0]\n",
      " [ 0 -1]]\n"
     ]
    }
   ],
   "source": [
    "print(eye2, '\\n\\n', sig1, '\\n\\n', sig2, '\\n\\n', sig3)"
   ]
  },
  {
   "cell_type": "markdown",
   "id": "f2385996",
   "metadata": {},
   "source": [
    "Let's do some first matrix multiplications. In all cases we use `@` to multiply matrices and/or vectors. Check some standard results. **You fill in the rest!**"
   ]
  },
  {
   "cell_type": "code",
   "execution_count": 10,
   "id": "9abac65a",
   "metadata": {},
   "outputs": [
    {
     "data": {
      "text/plain": [
       "array([[1, 0],\n",
       "       [0, 1]])"
      ]
     },
     "execution_count": 10,
     "metadata": {},
     "output_type": "execute_result"
    }
   ],
   "source": [
    "sig1 @ sig1"
   ]
  },
  {
   "cell_type": "code",
   "execution_count": 11,
   "id": "835ed24a",
   "metadata": {
    "scrolled": true
   },
   "outputs": [
    {
     "name": "stdout",
     "output_type": "stream",
     "text": [
      "[[0.+1.j 0.+0.j]\n",
      " [0.+0.j 0.-1.j]]\n",
      " \n",
      "[[ 0.+1.j  0.+0.j]\n",
      " [ 0.+0.j -0.-1.j]]\n"
     ]
    }
   ],
   "source": [
    "print(sig1 @ sig2)\n",
    "print(\" \")\n",
    "print(1j * sig3)"
   ]
  },
  {
   "cell_type": "code",
   "execution_count": 12,
   "id": "c18aaf59",
   "metadata": {},
   "outputs": [],
   "source": [
    "def my_commute(A, B):\n",
    "    \"\"\"\n",
    "    Define our own commutator function.\n",
    "    \"\"\"\n",
    "    return A @ B - B @ A"
   ]
  },
  {
   "cell_type": "code",
   "execution_count": 13,
   "id": "fc3f35b9",
   "metadata": {},
   "outputs": [
    {
     "data": {
      "text/plain": [
       "array([[0.+2.j, 0.+0.j],\n",
       "       [0.+0.j, 0.-2.j]])"
      ]
     },
     "execution_count": 13,
     "metadata": {},
     "output_type": "execute_result"
    }
   ],
   "source": [
    "my_commute(sig1, sig2)"
   ]
  },
  {
   "cell_type": "markdown",
   "id": "35a90e03",
   "metadata": {},
   "source": [
    "Are the results correct?"
   ]
  },
  {
   "cell_type": "markdown",
   "id": "5de2224a",
   "metadata": {},
   "source": [
    "### $3 \\times 3$ matrix examples"
   ]
  },
  {
   "cell_type": "markdown",
   "id": "b91d4ef6",
   "metadata": {},
   "source": [
    "Here are the $S_x$ and $S_y$ matrices for spin-1 (in units where $\\hbar = 1$)."
   ]
  },
  {
   "cell_type": "code",
   "execution_count": 14,
   "id": "7c151968",
   "metadata": {},
   "outputs": [],
   "source": [
    "Sx = 1/np.sqrt(2) * np.array([[0, 1, 0], [1, 0, 1], [0, 1, 0]])\n",
    "Sy = 1/np.sqrt(2) * np.array([[0, -1j, 0], [1j, 0, -1j], [0, 1j, 0]])  # note we use \"1j\" instead of just \"j\""
   ]
  },
  {
   "cell_type": "code",
   "execution_count": 15,
   "id": "77fcf718",
   "metadata": {},
   "outputs": [
    {
     "name": "stdout",
     "output_type": "stream",
     "text": [
      "[[0.         0.70710678 0.        ]\n",
      " [0.70710678 0.         0.70710678]\n",
      " [0.         0.70710678 0.        ]] \n",
      "\n",
      " [[0.+0.j         0.-0.70710678j 0.+0.j        ]\n",
      " [0.+0.70710678j 0.+0.j         0.-0.70710678j]\n",
      " [0.+0.j         0.+0.70710678j 0.+0.j        ]]\n"
     ]
    }
   ],
   "source": [
    "print(Sx, '\\n\\n', Sy)   # \\n in quotes will start a new line"
   ]
  },
  {
   "cell_type": "markdown",
   "id": "7e2d8b1d",
   "metadata": {},
   "source": [
    "Let's do more matrix multipications. In all cases we use `@` to multiply matrices and/or vectors."
   ]
  },
  {
   "cell_type": "code",
   "execution_count": 16,
   "id": "a6e5f438",
   "metadata": {},
   "outputs": [
    {
     "data": {
      "text/plain": [
       "array([[0.+1.j, 0.+0.j, 0.+0.j],\n",
       "       [0.+0.j, 0.+0.j, 0.+0.j],\n",
       "       [0.+0.j, 0.+0.j, 0.-1.j]])"
      ]
     },
     "execution_count": 16,
     "metadata": {},
     "output_type": "execute_result"
    }
   ],
   "source": [
    "Sx @ Sy - Sy @ Sx   "
   ]
  },
  {
   "cell_type": "markdown",
   "id": "b7131fb1",
   "metadata": {},
   "source": [
    "Now let's get the eigenvalues (`eigvals` here) and eigenvectors (`eigvecs` here). The function `eigh` is for (complex) Hermitian matrices. The eigenvectors should be read as columns: the first element in the eigenvalue list corresponds to the first column in the eigenvector matrix."
   ]
  },
  {
   "cell_type": "code",
   "execution_count": 17,
   "id": "54c8e6fc",
   "metadata": {},
   "outputs": [
    {
     "name": "stdout",
     "output_type": "stream",
     "text": [
      "[-1.00000000e+00 -2.41993925e-16  1.00000000e+00]\n",
      "\n",
      "\n",
      "[[ 5.00000000e-01 -7.07106781e-01  5.00000000e-01]\n",
      " [-7.07106781e-01  2.77555756e-16  7.07106781e-01]\n",
      " [ 5.00000000e-01  7.07106781e-01  5.00000000e-01]]\n"
     ]
    }
   ],
   "source": [
    "eigvals, eigvecs = np.linalg.eigh(Sx)\n",
    "print(eigvals)\n",
    "print('\\n')\n",
    "print(eigvecs)"
   ]
  },
  {
   "cell_type": "markdown",
   "id": "78e7bfa0",
   "metadata": {},
   "source": [
    "We can manipulate the formatting of the output for greater readability."
   ]
  },
  {
   "cell_type": "code",
   "execution_count": 18,
   "id": "03f274c0",
   "metadata": {
    "scrolled": true
   },
   "outputs": [
    {
     "name": "stdout",
     "output_type": "stream",
     "text": [
      "[-1. -0.  1.]\n",
      "\n",
      "\n",
      "[[ 0.5  +0.j     0.707+0.j    -0.5  +0.j   ]\n",
      " [ 0.   -0.707j  0.   -0.j     0.   -0.707j]\n",
      " [-0.5  +0.j     0.707+0.j     0.5  +0.j   ]]\n"
     ]
    }
   ],
   "source": [
    "np.set_printoptions(precision=3, suppress=True)\n",
    "\n",
    "eigvals, eigvecs = np.linalg.eigh(Sy)\n",
    "print(eigvals)\n",
    "print('\\n')\n",
    "print(eigvecs)\n"
   ]
  },
  {
   "cell_type": "markdown",
   "id": "050ee521",
   "metadata": {},
   "source": [
    "The formatting is tricky because it is `0.5 + 0j`, which is easy to misread."
   ]
  },
  {
   "cell_type": "markdown",
   "id": "fbfa4528",
   "metadata": {},
   "source": [
    "Let's check that the eigenvectors really are eigenvectors."
   ]
  },
  {
   "cell_type": "code",
   "execution_count": 19,
   "id": "b3b3efdd",
   "metadata": {
    "scrolled": true
   },
   "outputs": [
    {
     "name": "stdout",
     "output_type": "stream",
     "text": [
      "[ 0.5+0.j     0. -0.707j -0.5+0.j   ]\n"
     ]
    }
   ],
   "source": [
    "eigvec1 = eigvecs[:,0]  # all columns (that is what : does) in the first row (which is 0)\n",
    "print(eigvec1)"
   ]
  },
  {
   "cell_type": "code",
   "execution_count": 20,
   "id": "2ecf088c",
   "metadata": {},
   "outputs": [
    {
     "name": "stdout",
     "output_type": "stream",
     "text": [
      "check Sy @ eigenvector for first eigenvalue:  [-0.5+0.j     0. +0.707j  0.5+0.j   ]\n",
      "compare to first eigenvalue * eigenvector:    [-0.5+0.j     0. +0.707j  0.5-0.j   ]\n"
     ]
    }
   ],
   "source": [
    "print('check Sy @ eigenvector for first eigenvalue: ', Sy @ eigvec1)\n",
    "print('compare to first eigenvalue * eigenvector:   ', eigvals[0] * eigvec1)"
   ]
  },
  {
   "cell_type": "markdown",
   "id": "b90b9999",
   "metadata": {},
   "source": [
    "**Test the other eigenvectors.**"
   ]
  },
  {
   "cell_type": "markdown",
   "id": "ef91ff59",
   "metadata": {},
   "source": [
    "There are eigensolvers in both `numpy.linalg` and `scipy.linalg`. For now, just pick one."
   ]
  },
  {
   "cell_type": "code",
   "execution_count": 21,
   "id": "a3555c49",
   "metadata": {
    "scrolled": true
   },
   "outputs": [
    {
     "name": "stdout",
     "output_type": "stream",
     "text": [
      "[-1.  0.  1.]\n",
      "\n",
      "\n",
      "[[ 0.5  +0.j     0.707+0.j    -0.5  -0.j   ]\n",
      " [ 0.   -0.707j  0.   +0.j     0.   -0.707j]\n",
      " [-0.5  -0.j     0.707+0.j     0.5  +0.j   ]]\n"
     ]
    }
   ],
   "source": [
    "eigvals, eigvecs = LA.eigh(Sy)\n",
    "print(eigvals)\n",
    "print('\\n')\n",
    "print(eigvecs)"
   ]
  },
  {
   "cell_type": "markdown",
   "id": "a465a31d",
   "metadata": {},
   "source": [
    "Check whether $S_x$ (i.e., `Sx`) is Hermitian. We do the complex conjugate (`conjugate()`) and transpose (`T`) by hand here. We can also define our own function to do this."
   ]
  },
  {
   "cell_type": "code",
   "execution_count": 22,
   "id": "5b6dfd7e",
   "metadata": {
    "scrolled": false
   },
   "outputs": [
    {
     "data": {
      "text/plain": [
       "array([[0., 0., 0.],\n",
       "       [0., 0., 0.],\n",
       "       [0., 0., 0.]])"
      ]
     },
     "execution_count": 22,
     "metadata": {},
     "output_type": "execute_result"
    }
   ],
   "source": [
    "Sx - Sx.conjugate().T"
   ]
  },
  {
   "cell_type": "code",
   "execution_count": 23,
   "id": "4173e866",
   "metadata": {},
   "outputs": [],
   "source": [
    "def my_adjoint(Matrix):\n",
    "    \"\"\"\n",
    "    Return the complex-conjugate tranpose of the input Matrix. \n",
    "    \"\"\"\n",
    "    return Matrix.conjugate().T"
   ]
  },
  {
   "cell_type": "code",
   "execution_count": 24,
   "id": "8c98ecb7",
   "metadata": {
    "scrolled": true
   },
   "outputs": [
    {
     "data": {
      "text/plain": [
       "array([[0.+0.j, 0.+0.j, 0.+0.j],\n",
       "       [0.+0.j, 0.+0.j, 0.+0.j],\n",
       "       [0.+0.j, 0.+0.j, 0.+0.j]])"
      ]
     },
     "execution_count": 24,
     "metadata": {},
     "output_type": "execute_result"
    }
   ],
   "source": [
    "Sy - my_adjoint(Sy)"
   ]
  },
  {
   "cell_type": "code",
   "execution_count": 25,
   "id": "919765c1",
   "metadata": {},
   "outputs": [],
   "source": [
    "Sz = np.array([[1, 0, 0],[0, 0, 0], [0, 0, -1]])"
   ]
  },
  {
   "cell_type": "markdown",
   "id": "a0c13a95",
   "metadata": {},
   "source": [
    "Check $(\\sigma_1^2 + \\sigma_2^2 + \\sigma_3^2)/2$"
   ]
  },
  {
   "cell_type": "code",
   "execution_count": 26,
   "id": "0086fdda",
   "metadata": {
    "scrolled": true
   },
   "outputs": [
    {
     "data": {
      "text/plain": [
       "array([[1.+0.j, 0.+0.j, 0.+0.j],\n",
       "       [0.+0.j, 1.+0.j, 0.+0.j],\n",
       "       [0.+0.j, 0.+0.j, 1.+0.j]])"
      ]
     },
     "execution_count": 26,
     "metadata": {},
     "output_type": "execute_result"
    }
   ],
   "source": [
    "1/2 * (Sx@Sx + Sy@Sy + Sz@Sz)"
   ]
  },
  {
   "cell_type": "markdown",
   "id": "6df9d233",
   "metadata": {},
   "source": [
    "### Inner and outer product\n",
    "\n",
    "More useful operations!"
   ]
  },
  {
   "cell_type": "code",
   "execution_count": 27,
   "id": "7cedd0d7",
   "metadata": {},
   "outputs": [
    {
     "name": "stdout",
     "output_type": "stream",
     "text": [
      "1\n",
      "1\n"
     ]
    }
   ],
   "source": [
    "a = np.array([1,2,3])\n",
    "b = np.array([-1,1,0])\n",
    "print( a @ b )\n",
    "print( np.inner(a, b))"
   ]
  },
  {
   "cell_type": "code",
   "execution_count": 28,
   "id": "254f087d",
   "metadata": {},
   "outputs": [
    {
     "name": "stdout",
     "output_type": "stream",
     "text": [
      "[[-1 -2 -3]\n",
      " [ 1  2  3]\n",
      " [ 0  0  0]]\n"
     ]
    }
   ],
   "source": [
    "print( np.outer(b, a))"
   ]
  },
  {
   "cell_type": "markdown",
   "id": "70383e35",
   "metadata": {},
   "source": [
    "### Trace and determinant"
   ]
  },
  {
   "cell_type": "markdown",
   "id": "4c2a26ba",
   "metadata": {},
   "source": [
    "Make a random matrix and take it's trace and determinant."
   ]
  },
  {
   "cell_type": "code",
   "execution_count": 29,
   "id": "fa14e745",
   "metadata": {},
   "outputs": [
    {
     "name": "stdout",
     "output_type": "stream",
     "text": [
      "[[0.108 0.109]\n",
      " [0.393 0.115]]\n"
     ]
    }
   ],
   "source": [
    "M1 = np.random.rand(2,2)\n",
    "print(M1)"
   ]
  },
  {
   "cell_type": "code",
   "execution_count": 30,
   "id": "d579110f",
   "metadata": {},
   "outputs": [
    {
     "data": {
      "text/plain": [
       "0.2232914783181943"
      ]
     },
     "execution_count": 30,
     "metadata": {},
     "output_type": "execute_result"
    }
   ],
   "source": [
    "np.trace(M1)"
   ]
  },
  {
   "cell_type": "code",
   "execution_count": 31,
   "id": "e8849c14",
   "metadata": {},
   "outputs": [
    {
     "data": {
      "text/plain": [
       "-0.030248010753943646"
      ]
     },
     "execution_count": 31,
     "metadata": {},
     "output_type": "execute_result"
    }
   ],
   "source": [
    "np.linalg.det(M1)"
   ]
  },
  {
   "cell_type": "markdown",
   "id": "ead671ab",
   "metadata": {},
   "source": [
    "## Reproduce some results from Problem Set 2, problem 5 \n",
    "\n",
    "In problem 5 on problem set 2 you looked at the matrix representations of two operators $\\hat A$ and $\\hat B$. Takes the real numbers $a$ and $b$ to be 1 and 2, respectively.\n",
    "\n",
    "a. Input the matrices $A$ and $B$.\n",
    "b. Show that they commute.\n",
    "c. Find eigenvalues and eigenvectors of each. Do the eigenvectors correspond to simultaneous eigenkets?"
   ]
  },
  {
   "cell_type": "code",
   "execution_count": 32,
   "id": "cfecbf8c",
   "metadata": {},
   "outputs": [
    {
     "name": "stdout",
     "output_type": "stream",
     "text": [
      "[[ 1  0  0]\n",
      " [ 0 -1  0]\n",
      " [ 0  0 -1]]\n",
      " \n",
      "[[2.+0.j 0.+0.j 0.+0.j]\n",
      " [0.+0.j 0.+0.j 0.-2.j]\n",
      " [0.+0.j 0.+2.j 0.+0.j]]\n"
     ]
    }
   ],
   "source": [
    "# a. Input the matrices A and B\n",
    "a = 1; b = 2\n",
    "A = np.array([[a, 0, 0], [0, -a, 0], [0, 0, -a]])\n",
    "print(A)\n",
    "print(\" \")\n",
    "B = np.array([[b, 0, 0], [0, 0, -1j*b], [0, 1j*b, 0]])\n",
    "print(B)"
   ]
  },
  {
   "cell_type": "code",
   "execution_count": 33,
   "id": "850313e1",
   "metadata": {
    "scrolled": true
   },
   "outputs": [
    {
     "data": {
      "text/plain": [
       "array([[0.+0.j, 0.+0.j, 0.+0.j],\n",
       "       [0.+0.j, 0.+0.j, 0.+0.j],\n",
       "       [0.+0.j, 0.+0.j, 0.+0.j]])"
      ]
     },
     "execution_count": 33,
     "metadata": {},
     "output_type": "execute_result"
    }
   ],
   "source": [
    "# b. Show that they commute.\n",
    "my_commute(A,B)  # calculate [A,B]"
   ]
  },
  {
   "cell_type": "markdown",
   "id": "1003a7b4",
   "metadata": {},
   "source": [
    "The matrix is all zeros, so they commute."
   ]
  },
  {
   "cell_type": "code",
   "execution_count": 34,
   "id": "39782674",
   "metadata": {},
   "outputs": [],
   "source": [
    "# c. Find the eigenvalues and eigenvectors of A and B\n",
    "eigvals_A, eigvecs_A = np.linalg.eigh(A)\n",
    "eigvals_B, eigvecs_B = np.linalg.eigh(B)"
   ]
  },
  {
   "cell_type": "code",
   "execution_count": 35,
   "id": "936f6f2c",
   "metadata": {},
   "outputs": [
    {
     "name": "stdout",
     "output_type": "stream",
     "text": [
      "[-1. -1.  1.]   [-2.  2.  2.]\n"
     ]
    }
   ],
   "source": [
    "# Print the eigenvalues\n",
    "print(eigvals_A, ' ', eigvals_B)"
   ]
  },
  {
   "cell_type": "code",
   "execution_count": 36,
   "id": "06e78a0c",
   "metadata": {},
   "outputs": [
    {
     "name": "stdout",
     "output_type": "stream",
     "text": [
      "[[0. 0. 1.]\n",
      " [1. 0. 0.]\n",
      " [0. 1. 0.]] \n",
      "\n",
      " [[-0.   +0.j     0.   +0.j     1.   +0.j   ]\n",
      " [-0.707+0.j    -0.707+0.j     0.   +0.j   ]\n",
      " [ 0.   +0.707j  0.   -0.707j  0.   +0.j   ]]\n"
     ]
    }
   ],
   "source": [
    "# Print the matrices of eigenvectors, with a blank line between. \n",
    "#  The eigenvectors are read vertically, in the same order as the eigenvalues.\n",
    "print(eigvecs_A, '\\n\\n', eigvecs_B)"
   ]
  },
  {
   "cell_type": "markdown",
   "id": "1cc7916c",
   "metadata": {},
   "source": [
    "Only one of the eigenvectors is the same, so they are not simultaneous eigenkets automatically (we need to consider linear combinations)."
   ]
  },
  {
   "cell_type": "code",
   "execution_count": null,
   "id": "27f3c9f8",
   "metadata": {},
   "outputs": [],
   "source": []
  }
 ],
 "metadata": {
  "kernelspec": {
   "display_name": "Python [conda env:7501-env] *",
   "language": "python",
   "name": "conda-env-7501-env-py"
  },
  "language_info": {
   "codemirror_mode": {
    "name": "ipython",
    "version": 3
   },
   "file_extension": ".py",
   "mimetype": "text/x-python",
   "name": "python",
   "nbconvert_exporter": "python",
   "pygments_lexer": "ipython3",
   "version": "3.10.6"
  }
 },
 "nbformat": 4,
 "nbformat_minor": 5
}