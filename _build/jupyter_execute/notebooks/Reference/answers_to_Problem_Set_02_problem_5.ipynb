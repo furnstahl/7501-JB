{
 "cells": [
  {
   "cell_type": "markdown",
   "id": "ead671ab",
   "metadata": {},
   "source": [
    "## Reproduce some results from Problem Set 2, problem 5 \n",
    "\n",
    "In problem 5 on problem set 2 you looked at the matrix representations of two operators $\\hat A$ and $\\hat B$. Takes the real numbers $a$ and $b$ to be 1 and 2, respectively.\n",
    "\n",
    "a. Input the matrices $A$ and $B$.\n",
    "b. Show that they commute.\n",
    "c. Find eigenvalues and eigenvectors of each. Do the eigenvectors correspond to simultaneous eigenkets?"
   ]
  },
  {
   "cell_type": "code",
   "execution_count": 32,
   "id": "cfecbf8c",
   "metadata": {},
   "outputs": [
    {
     "name": "stdout",
     "output_type": "stream",
     "text": [
      "[[ 1  0  0]\n",
      " [ 0 -1  0]\n",
      " [ 0  0 -1]]\n",
      " \n",
      "[[2.+0.j 0.+0.j 0.+0.j]\n",
      " [0.+0.j 0.+0.j 0.-2.j]\n",
      " [0.+0.j 0.+2.j 0.+0.j]]\n"
     ]
    }
   ],
   "source": [
    "# a. Input the matrices A and B\n",
    "a = 1; b = 2\n",
    "A = np.array([[a, 0, 0], [0, -a, 0], [0, 0, -a]])\n",
    "print(A)\n",
    "print(\" \")\n",
    "B = np.array([[b, 0, 0], [0, 0, -1j*b], [0, 1j*b, 0]])\n",
    "print(B)"
   ]
  },
  {
   "cell_type": "code",
   "execution_count": 33,
   "id": "3c160a60",
   "metadata": {
    "scrolled": true
   },
   "outputs": [
    {
     "data": {
      "text/plain": [
       "array([[0.+0.j, 0.+0.j, 0.+0.j],\n",
       "       [0.+0.j, 0.+0.j, 0.+0.j],\n",
       "       [0.+0.j, 0.+0.j, 0.+0.j]])"
      ]
     },
     "execution_count": 33,
     "metadata": {},
     "output_type": "execute_result"
    }
   ],
   "source": [
    "# b. Show that they commute.\n",
    "my_commute(A,B)  # calculate [A,B]"
   ]
  },
  {
   "cell_type": "markdown",
   "id": "60e99d6f",
   "metadata": {},
   "source": [
    "The matrix is all zeros, so they commute."
   ]
  },
  {
   "cell_type": "code",
   "execution_count": 34,
   "id": "a5c6ea0e",
   "metadata": {},
   "outputs": [],
   "source": [
    "# c. Find the eigenvalues and eigenvectors of A and B\n",
    "eigvals_A, eigvecs_A = np.linalg.eigh(A)\n",
    "eigvals_B, eigvecs_B = np.linalg.eigh(B)"
   ]
  },
  {
   "cell_type": "code",
   "execution_count": 35,
   "id": "34b0331c",
   "metadata": {},
   "outputs": [
    {
     "name": "stdout",
     "output_type": "stream",
     "text": [
      "[-1. -1.  1.]   [-2.  2.  2.]\n"
     ]
    }
   ],
   "source": [
    "# Print the eigenvalues\n",
    "print(eigvals_A, ' ', eigvals_B)"
   ]
  },
  {
   "cell_type": "code",
   "execution_count": 36,
   "id": "20236be4",
   "metadata": {},
   "outputs": [
    {
     "name": "stdout",
     "output_type": "stream",
     "text": [
      "[[0. 0. 1.]\n",
      " [1. 0. 0.]\n",
      " [0. 1. 0.]] \n",
      "\n",
      " [[-0.   +0.j     0.   +0.j     1.   +0.j   ]\n",
      " [-0.707+0.j    -0.707+0.j     0.   +0.j   ]\n",
      " [ 0.   +0.707j  0.   -0.707j  0.   +0.j   ]]\n"
     ]
    }
   ],
   "source": [
    "# Print the matrices of eigenvectors, with a blank line between. \n",
    "#  The eigenvectors are read vertically, in the same order as the eigenvalues.\n",
    "print(eigvecs_A, '\\n\\n', eigvecs_B)"
   ]
  },
  {
   "cell_type": "markdown",
   "id": "8ed25af4",
   "metadata": {},
   "source": [
    "Only one of the eigenvectors is the same, so they are not simultaneous eigenkets automatically (we need to consider linear combinations)."
   ]
  },
  {
   "cell_type": "code",
   "execution_count": null,
   "id": "12e69383",
   "metadata": {},
   "outputs": [],
   "source": []
  }
 ],
 "metadata": {
  "kernelspec": {
   "display_name": "Python [conda env:7501-env] *",
   "language": "python",
   "name": "conda-env-7501-env-py"
  },
  "language_info": {
   "codemirror_mode": {
    "name": "ipython",
    "version": 3
   },
   "file_extension": ".py",
   "mimetype": "text/x-python",
   "name": "python",
   "nbconvert_exporter": "python",
   "pygments_lexer": "ipython3",
   "version": "3.10.6"
  }
 },
 "nbformat": 4,
 "nbformat_minor": 5
}